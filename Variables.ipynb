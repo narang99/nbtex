{
 "cells": [
  {
   "cell_type": "code",
   "execution_count": 29,
   "metadata": {},
   "outputs": [],
   "source": [
    "#export\n",
    "from IPython.display import Latex\n",
    "from pytex.helpers import varArgFunc"
   ]
  },
  {
   "cell_type": "code",
   "execution_count": 30,
   "metadata": {},
   "outputs": [
    {
     "data": {
      "text/plain": [
       "'NOTE: need to add eager execution, it will definitely help'"
      ]
     },
     "execution_count": 30,
     "metadata": {},
     "output_type": "execute_result"
    }
   ],
   "source": [
    "\"NOTE: need to add eager execution, it will definitely help\""
   ]
  },
  {
   "cell_type": "code",
   "execution_count": 31,
   "metadata": {},
   "outputs": [
    {
     "data": {
      "text/plain": [
       "'\\n# this is not needed for now, just will need to implement isRoot for end, to wrap finally in\\n# gather\\nif isRoot: build should force env and return Latex(builtString)\\nthere should be only one root in the tree\\n\\nif forceEnv: build should force the environment but send it string form\\n'"
      ]
     },
     "execution_count": 31,
     "metadata": {},
     "output_type": "execute_result"
    }
   ],
   "source": [
    "\" overall wrap is working perfectly right now. does look like there is any problem\"\n",
    "\n",
    "\"\"\"\n",
    "# this is not needed for now, just will need to implement isRoot for end, to wrap finally in\n",
    "# gather\n",
    "if isRoot: build should force env and return Latex(builtString)\n",
    "there should be only one root in the tree\n",
    "\n",
    "if forceEnv: build should force the environment but send it string form\n",
    "\"\"\""
   ]
  },
  {
   "cell_type": "code",
   "execution_count": 32,
   "metadata": {},
   "outputs": [],
   "source": [
    "#export\n",
    "OPERATOR = {\n",
    "    \"ADD\": (' + ', 1),\n",
    "    \"SUB\": (' - ', 1),\n",
    "    \"MUL\": (' * ', 2),\n",
    "    \"DIV\": (' ', 2), \n",
    "    \"POW\": ('^', 3),\n",
    "    \"EQ\" : (' = ', 0),\n",
    "    \"NE\" : (r' \\neq ', 0),\n",
    "    \"OR\" : (r'\\hspace{1mm}', 0),\n",
    "    \"GT\" : (' > ', 0),\n",
    "    \"LT\" : (' < ', 0),\n",
    "    \"GE\" : (r' \\geq ', 0),\n",
    "    \"LE\" : (r' \\leq ', 0),\n",
    "    \"MAX\": ('', 4)\n",
    "}\n",
    "def getPrec(operator):\n",
    "    if str(operator) in OPERATOR: return OPERATOR[str(operator)][1]\n",
    "    else: return OPERATOR[\"MAX\"][1]\n",
    "    \n",
    "def getMid(operator): \n",
    "    if str(operator) in OPERATOR: return OPERATOR[str(operator)][0]\n",
    "    else: return OPERATOR[\"MAX\"][0]"
   ]
  },
  {
   "cell_type": "code",
   "execution_count": 41,
   "metadata": {},
   "outputs": [],
   "source": [
    "#export\n",
    "class Var():\n",
    "    def __init__(self, name, latex=None):\n",
    "        self._name = str(name)\n",
    "        self._fn, self._latex = None, None\n",
    "        self._isTopLevel = True\n",
    "    \n",
    "    @property\n",
    "    def name(self): return self._name\n",
    "    @name.setter\n",
    "    def name(self, n): self._name = n\n",
    "    def setName(self, n): \n",
    "        self._name = n\n",
    "        return self\n",
    "    \n",
    "    @property\n",
    "    def back(self): return self._fn\n",
    "    @back.setter\n",
    "    def back(self, fn): self._fn = fn\n",
    "      \n",
    "    def __str__(self): return self._name\n",
    "    def __repr__(self): return self.__str__()\n",
    "    \n",
    "    def apply(self, f, *args):\n",
    "        n = Var('temp')\n",
    "        a = makeVar(*args)\n",
    "        n.back = f(*a) if not isinstance(a,Var) else f(a)\n",
    "        return n\n",
    "    \n",
    "    def __add__(self, other):\n",
    "        return self.apply(BinaryFunc, 'ADD', self, other)\n",
    "    def __sub__(self, other):\n",
    "        return self.apply(BinaryFunc, 'SUB', self, other)\n",
    "    def __mul__(self, other):\n",
    "        return self.apply(BinaryFunc, 'MUL', self, other)\n",
    "    def __pow__(self, other):\n",
    "        return self.apply(BinaryFunc, 'POW', self, other)\n",
    "    def __or__(self, other):\n",
    "        return self.apply(BinaryFunc, 'OR', self, other)\n",
    "    \n",
    "    def __lt__(self, other):\n",
    "        return self.lt(other)\n",
    "    def __gt__(self, other):\n",
    "        return self.gt(other)\n",
    "    def __le__(self, other):\n",
    "        return self.le(other)\n",
    "    def __ge__(self, other):\n",
    "        return self.ge(other)\n",
    "    def __eq__(self, other):\n",
    "        return self.eq(other)\n",
    "    def __ne__(self, other):\n",
    "        return self.ne(other)\n",
    "    \n",
    "    def equals(self, other):\n",
    "        return self.apply(BinaryFunc, 'EQ', self, other)\n",
    "    def not_equals(self, other):\n",
    "        return self.apply(BinaryFunc, 'NE', self, other)\n",
    "    def eq(self,other):\n",
    "        return self.equals(other)\n",
    "    def ne(self,other):\n",
    "        return self.not_equals(other)\n",
    "    def lt(self, other):\n",
    "        return self.apply(BinaryFunc, 'LT', self, other)\n",
    "    def gt(self, other):\n",
    "        return self.apply(BinaryFunc, 'GT', self, other)\n",
    "    def le(self, other):\n",
    "        return self.apply(BinaryFunc, 'LE', self, other)\n",
    "    def ge(self, other):\n",
    "        return self.apply(BinaryFunc, 'GE', self, other)\n",
    "    \n",
    "    def __neg__(self):\n",
    "        return self.apply(NegateFunc, self)\n",
    "    def root(self, other):\n",
    "        return self.apply(RootFunc, self, other)\n",
    "    def __truediv__(self, other):\n",
    "        return self.apply(FracFunc, self, other)\n",
    "    \n",
    "    def build(self):\n",
    "        if self._latex is not None: return self._latex\n",
    "        else:\n",
    "            self._latex = self.name if self._fn is None else self._fn.build()\n",
    "            return self._latex\n",
    "        \n",
    "    def func_appl(self, *others):\n",
    "        return self.apply(FuncApplication, self, *others)\n",
    "    def __call__(self, *others):\n",
    "        return self.apply(FuncApplication, self, *others)\n",
    "\n",
    "def makeVar(*args):\n",
    "    return varArgFunc(lambda arg: arg if isinstance(arg, Var) else Var(str(arg)), *args)\n",
    "\n",
    "def addEnv(s, env='gather'):\n",
    "    env = '{' + env + '}'\n",
    "    return r'\\begin' + env + str(s) + r'\\end' + env\n",
    "\n",
    "def func(f, *args):\n",
    "    f = makeVar(f)\n",
    "    args = makeVar(*args)\n",
    "    return f.func_appl(*args)\n",
    "\n",
    "def wrap(v):\n",
    "    return Latex(addEnv(v.build()))"
   ]
  },
  {
   "cell_type": "code",
   "execution_count": 42,
   "metadata": {},
   "outputs": [],
   "source": [
    "#export\n",
    "class BasicFunc():\n",
    "    def __init__(self, operator):\n",
    "        self.precedence = getPrec(operator)"
   ]
  },
  {
   "cell_type": "code",
   "execution_count": 43,
   "metadata": {},
   "outputs": [],
   "source": [
    "#export\n",
    "class BinaryFunc(BasicFunc):\n",
    "    def __init__(self, mid, a1, a2):\n",
    "        super().__init__(mid)\n",
    "        self._mid = getMid(mid)\n",
    "        self.a1, self.a2 = a1, a2\n",
    "    @property\n",
    "    def mid(self):\n",
    "        return self._mid\n",
    "    def build(self):\n",
    "        if self.mid is None:\n",
    "            raise Exception('middle operator string not set')\n",
    "        a1, a2 = self.a1.build(), self.a2.build()\n",
    "        if self.a1.back is not None and self.a1.back.precedence < self.precedence:\n",
    "            a1 = '(' + a1 + ')'\n",
    "        if self.a2.back is not None and self.a2.back.precedence < self.precedence:\n",
    "            a2 = '(' + a2 + ')'\n",
    "        return f'{a1}{self.mid}{a2}'\n",
    "                \n",
    "class FracFunc(BasicFunc):\n",
    "    def __init__(self, num, den):\n",
    "        super().__init__('DIV')\n",
    "        self.num, self.den = num, den\n",
    "    def build(self):\n",
    "        return (r\"\\frac{\" + \n",
    "                self.num.build() + r\"}{\" + self.den.build() + r\"}\")\n",
    "class RootFunc(BasicFunc):\n",
    "    def __init__(self, num, root):\n",
    "        super().__init__('MAX')\n",
    "        self.num, self.root = num, root\n",
    "    def build(self):\n",
    "        return(r\"\\sqrt[\\leftroot{-1}\\uproot{1}\" + self.root.build() \n",
    "               + r\"]{\" + self.num.build() + r\"}\")\n",
    "\n",
    "class NegateFunc(BasicFunc):\n",
    "    def __init__(self, v):\n",
    "        super().__init__('MAX')\n",
    "        self.v = v\n",
    "    def build(self):\n",
    "        return f'-{self.v.build()}'\n",
    "    \n",
    "class IntegralFunc(BasicFunc):\n",
    "    def __init__(self, lower, upper, func):\n",
    "        super().__init__('MAX')\n",
    "        self.lower, self.upper, self.func = lower, upper, func\n",
    "    def build(self):\n",
    "        pass\n",
    "    \n",
    "class FuncApplication(BasicFunc):\n",
    "    def __init__(self, f, *args):\n",
    "        super().__init__('MAX')\n",
    "        self.f = f\n",
    "        if len(args) == 0: self.args = None\n",
    "        elif isinstance(args, tuple): self.args = list(args)\n",
    "        else: raise Exception('invalid type passed')\n",
    "        \n",
    "    def build(self):\n",
    "        if self.args is None: return self.f.build() + '()'\n",
    "        s = self.f.build() + '('\n",
    "        for arg in self.args:\n",
    "            (arg)\n",
    "            s += arg.build() + ','\n",
    "        s = s[:-1]\n",
    "        return s + ')'"
   ]
  },
  {
   "cell_type": "code",
   "execution_count": 44,
   "metadata": {},
   "outputs": [],
   "source": [
    "from pytex.platforms.jupyter import latex\n",
    "a,b,c,d = makeVar('a','b','c','d')\n",
    "k = latex(a.le(-b))\n",
    "l = latex(c.not_equals(d))"
   ]
  },
  {
   "cell_type": "markdown",
   "metadata": {
    "variables": {
     "k": "\\begin{gather*}a \\leq -b\\end{gather*}",
     "l": "\\begin{gather*}c \\neq d\\end{gather*}"
    }
   },
   "source": [
    "{{k}} {{l}}"
   ]
  },
  {
   "cell_type": "code",
   "execution_count": 48,
   "metadata": {},
   "outputs": [
    {
     "data": {
      "text/latex": [
       "\\begin{gather*}c \\neq (a + a - b) * a^2\\hspace{1mm}(b + b)^2 \\neq c\\end{gather*}"
      ],
      "text/plain": [
       "<IPython.core.display.Latex object>"
      ]
     },
     "execution_count": 48,
     "metadata": {},
     "output_type": "execute_result"
    }
   ],
   "source": [
    "a,b,c,d = makeVar('a','b','c','d')\n",
    "latex(c.ne((a+a-b)*(a**2) | (b+b)**2).ne(c))"
   ]
  },
  {
   "cell_type": "code",
   "execution_count": 49,
   "metadata": {},
   "outputs": [],
   "source": [
    "#export\n",
    "class Vector(Var):\n",
    "    def __init__(self, name):\n",
    "        super().__init__(r\"\\vec{\\mathbf{\" + name +\"}}\")\n",
    "\n",
    "def makeVector(*args):\n",
    "    return varArgFunc(lambda arg: arg if isinstance(arg, Vector) else Vector(str(arg)), *args)"
   ]
  },
  {
   "cell_type": "code",
   "execution_count": 50,
   "metadata": {},
   "outputs": [],
   "source": [
    "#export\n",
    "class MatrixBuilder():\n",
    "    def __init__(self):\n",
    "        self.matrix, self.cols = [], None\n",
    "        \n",
    "    def add(self, *args):\n",
    "        if self.cols is None:\n",
    "            self.cols = len(args)\n",
    "        elif not self.cols == len(args):\n",
    "            raise Exception(f'Different dimensions for matrix builder. dim1:{self.cols} dim2:{len(args)}')\n",
    "        self.matrix.append(list(args))\n",
    "        return self\n",
    "        \n",
    "    def create(self, subscript=None, power=None, surround='[]'):\n",
    "        return Matrix(self.matrix, subscript, power, surround)"
   ]
  },
  {
   "cell_type": "code",
   "execution_count": 52,
   "metadata": {},
   "outputs": [],
   "source": [
    "#export\n",
    "class Matrix(Var):\n",
    "    def __init__(self, matrix=[[]], subscript=None, power=None, surround='[]'):\n",
    "        super().__init__('matrix')\n",
    "        self.matrix, self.surround = matrix, surround\n",
    "        self.power = makeVar(power) if power is not None else power\n",
    "        self.subscript = makeVar(subscript) if subscript is not None else subscript\n",
    "        \n",
    "    def __len__(self):\n",
    "        return self.rows\n",
    "    \n",
    "    def __getitem__(self, ind):\n",
    "        if ind  >= len(self.matrix): raise Exception('index out of bounds')\n",
    "        if len(self.matrix) == 0: raise Exception('empty matrix') \n",
    "        if isinstance(self.matrix[0], list): return Matrix(self.matrix[ind])\n",
    "        else: return Var(self.matrix[ind])\n",
    "    \n",
    "    @staticmethod\n",
    "    def builder():\n",
    "        return MatrixBuilder()\n",
    "        \n",
    "    @property\n",
    "    def T(self):\n",
    "        if len(self.matrix) == 0: return self\n",
    "        elif(not isinstance(self.matrix[0], list)):\n",
    "            rows, cols = len(self.matrix), 1\n",
    "            matrix = [[ele] for ele in self.matrix]\n",
    "        else:\n",
    "            rows, cols = len(self.matrix), len(self.matrix[0])\n",
    "            matrix = [[self.matrix[j][i] for j in range(rows)] for i in range(cols)]\n",
    "        return Matrix(matrix, self.subscript, self.power, self.surround)\n",
    "        \n",
    "    def build(self): \n",
    "        env = (r'{bmatrix}' if self.surround == '[]' \n",
    "               else r'{pmatrix}' if self.surround == '()'\n",
    "               else r'{vmatrix}' if self.surround == '||'\n",
    "               else r'{Vmatrix}' if (self.surround == '|| ||' or self.surround == '||||')\n",
    "               else r'{matrix}')\n",
    "        begin = r'\\begin' + env\n",
    "        end = r'\\end' + env\n",
    "        if len(self.matrix) == 0: return begin + end\n",
    "        \n",
    "        s = ''\n",
    "        if not isinstance(self.matrix[0], list):\n",
    "            # it is a vector\n",
    "            for ele in self.matrix:\n",
    "                ele = makeVar(ele)\n",
    "                s += ' ' + ele.build() + ' & '\n",
    "            s = s[:-2]\n",
    "        else:\n",
    "            for row in self.matrix:\n",
    "                for ele in row:\n",
    "                    ele = makeVar(ele)\n",
    "                    s += ' ' + ele.build() + ' & '\n",
    "                s = s[:-2] + r\"\\\\\"\n",
    "            s = s[:-2]\n",
    "        p = '^{' + self.power.build() + '}' if self.power is not None else ''\n",
    "        subs = '_{' + self.subscript.build() + '}' if self.subscript is not None else ''\n",
    "        return (r\"\" + begin + s + end  + p + subs + r\"\")\n"
   ]
  },
  {
   "cell_type": "code",
   "execution_count": 53,
   "metadata": {},
   "outputs": [],
   "source": [
    "#export\n",
    "class Dots(Var):\n",
    "    def __init__(self, direc='h'):\n",
    "        super().__init__(direc + 'dots')\n",
    "        self.direc = direc\n",
    "    def build(self):\n",
    "        return (r'\\cdots' if (self.direc == 'h' or self.direc == 'c') \n",
    "                else r'\\vdots' if (self.direc == 'v') else r'\\ddots')"
   ]
  },
  {
   "cell_type": "code",
   "execution_count": 54,
   "metadata": {},
   "outputs": [],
   "source": [
    "#export\n",
    "def hasHoriDots(elements, m):\n",
    "    elerowlen = max([len(ele) for ele in elements]) \n",
    "    return not elerowlen == len(m[0])\n",
    "def hasVertDots(elements, m):\n",
    "    return not len(elements) == len(m)\n",
    "\n",
    "class MatrixWithDots(Matrix):\n",
    "    def __init__(self, elements, shape=None, subscript=None, power=None, surround='[]'):\n",
    "        # resolve elements\n",
    "        self.elements, self.shape = elements,shape\n",
    "        if(not isinstance(elements, list) or len(elements) == 0\n",
    "          or not isinstance(elements[0], list)): \n",
    "            raise Exception('need to pass list of list')\n",
    "        # resolve shape\n",
    "        minrows, mincols = len(elements), max([len(row) for row in elements])\n",
    "        if(shape is None):\n",
    "            self.rows = minrows + 1 if minrows != 1 else minrows\n",
    "            self.cols = mincols + 1 if mincols != 1 else mincols\n",
    "        else:\n",
    "            try:\n",
    "                self.rows, self.cols = shape\n",
    "                self.rows, self.cols = int(self.rows), int(self.cols)\n",
    "            except:\n",
    "                raise Exception('shape should be of type tuple(int,int)')\n",
    "            if self.rows < minrows or self.cols < mincols:\n",
    "                raise Exception('shape >= (row, cols) of elements')\n",
    "        m = [[0]*self.cols for i in range(self.rows)]\n",
    "        i=0\n",
    "        while i < len(elements)-1:\n",
    "            row = elements[i]\n",
    "            j=0\n",
    "            while(j < len(row)-1):\n",
    "                m[i][j] = row[j]\n",
    "                j += 1\n",
    "            while(j < len(m[i])-1):\n",
    "                m[i][j] = Dots('h')\n",
    "                j += 1\n",
    "            m[i][j] = row[len(row)-1]\n",
    "            i += 1\n",
    "\n",
    "        while i < len(m)-1:\n",
    "            m[i] = [Dots('v')]*len(m[i])\n",
    "            i += 1\n",
    "\n",
    "        row = elements[len(elements)-1]\n",
    "        j=0\n",
    "        while(j < len(row)-1):\n",
    "            m[i][j] = row[j]\n",
    "            j += 1\n",
    "        while(j < len(m[i])-1):\n",
    "            m[i][j] = Dots('h')\n",
    "            j += 1\n",
    "        m[i][j] = row[len(row)-1]\n",
    "\n",
    "        dli, dlj = len(m)-2, len(m[0])-2\n",
    "\n",
    "        if isinstance(m[dli][dlj], Dots) and hasHoriDots(elements, m) and hasVertDots(elements, m):\n",
    "            m[dli][dlj] = Dots('d')\n",
    "        super().__init__(m, subscript, power, surround)\n",
    "        \n",
    "    @property\n",
    "    def T(self):\n",
    "        raise Exception('transpose of dotted matrix not allowed')"
   ]
  },
  {
   "cell_type": "code",
   "execution_count": 55,
   "metadata": {},
   "outputs": [
    {
     "data": {
      "text/latex": [
       "\\begin{gather*}\\begin{vmatrix} 1 &  \\cdots &  \\cdots &  2 \\\\ 2 &  \\cdots &  \\cdots &  3 \\\\ \\vdots &  \\vdots &  \\vdots &  \\vdots \\\\ \\vdots &  \\vdots &  \\ddots &  \\vdots \\\\ 2 &  \\cdots &  \\cdots &  3 \\end{vmatrix}\\end{gather*}"
      ],
      "text/plain": [
       "<IPython.core.display.Latex object>"
      ]
     },
     "execution_count": 55,
     "metadata": {},
     "output_type": "execute_result"
    }
   ],
   "source": [
    "latex(MatrixWithDots([[1,2],[2,3],[2,3]], (5,4), surround='||'))"
   ]
  },
  {
   "cell_type": "code",
   "execution_count": 56,
   "metadata": {},
   "outputs": [
    {
     "data": {
      "text/latex": [
       "\\begin{gather*}\\begin{bmatrix} 1 &  2 &  3 &  \\cdots &  4 \\\\ \\vdots &  \\vdots &  \\vdots &  \\ddots &  \\vdots \\\\ 2 &  3 &  4 &  \\cdots &  5 \\end{bmatrix}\\end{gather*}"
      ],
      "text/plain": [
       "<IPython.core.display.Latex object>"
      ]
     },
     "execution_count": 56,
     "metadata": {},
     "output_type": "execute_result"
    }
   ],
   "source": [
    "latex(MatrixWithDots([[1,2,3,4],[2,3,4,5]]))"
   ]
  },
  {
   "cell_type": "code",
   "execution_count": 57,
   "metadata": {},
   "outputs": [
    {
     "name": "stdout",
     "output_type": "stream",
     "text": [
      "Converted Variables.ipynb to pytex/Variables.py\r\n"
     ]
    }
   ],
   "source": [
    "!./notebook2script.py ./Variables.ipynb"
   ]
  }
 ],
 "metadata": {
  "kernelspec": {
   "display_name": "Python 3",
   "language": "python",
   "name": "python3"
  },
  "language_info": {
   "codemirror_mode": {
    "name": "ipython",
    "version": 3
   },
   "file_extension": ".py",
   "mimetype": "text/x-python",
   "name": "python",
   "nbconvert_exporter": "python",
   "pygments_lexer": "ipython3",
   "version": "3.8.3"
  }
 },
 "nbformat": 4,
 "nbformat_minor": 4
}
