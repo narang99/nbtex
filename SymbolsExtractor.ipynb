{
 "cells": [
  {
   "cell_type": "code",
   "execution_count": null,
   "metadata": {},
   "outputs": [],
   "source": [
    "#export\n",
    "\"Methods for extracting properties from: https://en.wikipedia.org/wiki/Wikipedia:LaTeX_symbols\"\n",
    "import re\n",
    "def getNameSym(pasta):\n",
    "    lst = []\n",
    "    for l in pasta.split('\\n'):\n",
    "        r = re.search('{.*}', l)\n",
    "        if r is not None:\n",
    "            p = r.group()[1:-1]\n",
    "            ps = p.split(' ')\n",
    "            if len(ps) > 1 and ps[1] != '\\\\':\n",
    "                lst.append(ps[1])\n",
    "    return [(arg[1:], arg) for arg in lst]"
   ]
  },
  {
   "cell_type": "code",
   "execution_count": null,
   "metadata": {},
   "outputs": [],
   "source": [
    "#export\n",
    "def getDefs(l):\n",
    "    for name,ap in l:\n",
    "        name = ap[1:]\n",
    "        print(f\"\"\"@property\n",
    "def {name}(self):\n",
    "    return Var(r'{ap}')\"\"\")"
   ]
  },
  {
   "cell_type": "code",
   "execution_count": null,
   "metadata": {},
   "outputs": [],
   "source": [
    "#export\n",
    "from exp.Variables import wrap\n",
    "def getProps(cl):\n",
    "    l = []\n",
    "    for v in vars(cl):    \n",
    "        if isinstance(vars(cl)[v], property): l.append(v)\n",
    "    return l\n",
    "\n",
    "def getWrappedProps(cl, objName):\n",
    "    op = cl()\n",
    "    l = getProps(cl)\n",
    "    s = ''\n",
    "    for name in l:\n",
    "        s += f\"{objName}.{name} | \"\n",
    "    sx = f\"wrap({s[:-2]})\"\n",
    "    s = \"{{\" + f\"wrap({s[:-2]})\" + \"}}\"\n",
    "    return sx"
   ]
  },
  {
   "cell_type": "code",
   "execution_count": null,
   "metadata": {},
   "outputs": [],
   "source": [
    "! python3 ./notebook2script.py SymbolsExtractor.ipynb"
   ]
  },
  {
   "cell_type": "code",
   "execution_count": null,
   "metadata": {},
   "outputs": [],
   "source": [
    "getDefs(getNameSym(pasta))"
   ]
  },
  {
   "cell_type": "code",
   "execution_count": null,
   "metadata": {},
   "outputs": [],
   "source": [
    "pasta = r\"\"\"\n",
    "     <\n",
    "    ≤ {\\displaystyle \\leq } \\leq \\leq\n",
    "      {\\displaystyle \\ } \\ \n",
    "    ≦ {\\displaystyle \\leqq } \\leqq \\leqq\n",
    "      {\\displaystyle \\ } \\ \n",
    "      {\\displaystyle \\ } \\ \n",
    "    ⩽ {\\displaystyle \\leqslant } \\leqslant \\leqslant\n",
    "\n",
    "\t\n",
    "\n",
    "    > {\\displaystyle >} > >\n",
    "    ≥ {\\displaystyle \\geq } \\geq \\geq\n",
    "      {\\displaystyle \\ } \\ \n",
    "    ≧ {\\displaystyle \\geqq } \\geqq \\geqq\n",
    "      {\\displaystyle \\ } \\ \n",
    "      {\\displaystyle \\ } \\ \n",
    "    ⩾ {\\displaystyle \\geqslant } \\geqslant \\geqslant\n",
    "\n",
    "\t\n",
    "\n",
    "    ≮ {\\displaystyle \\nless } \\nless \\nless\n",
    "    ≰ {\\displaystyle \\nleq } \\nleq \\nleq\n",
    "    ⪇ {\\displaystyle \\lneq } \\lneq \\lneq\n",
    "    ≰ {\\displaystyle \\nleqq } \\nleqq \\nleqq\n",
    "    ≨ {\\displaystyle \\lneqq } \\lneqq \\lneqq\n",
    "    ≨ {\\displaystyle \\lvertneqq } \\lvertneqq \\lvertneqq\n",
    "    ⪇ {\\displaystyle \\nleqslant } \\nleqslant \\nleqslant\n",
    "\n",
    "\t\n",
    "\n",
    "    ≯ {\\displaystyle \\ngtr } \\ngtr \\ngtr\n",
    "    ≱ {\\displaystyle \\ngeq } \\ngeq \\ngeq\n",
    "    ⪈ {\\displaystyle \\gneq } \\gneq \\gneq\n",
    "    ≱ {\\displaystyle \\ngeqq } \\ngeqq \\ngeqq\n",
    "    ≩ {\\displaystyle \\gneqq } \\gneqq \\gneqq\n",
    "    ≩ {\\displaystyle \\gvertneqq } \\gvertneqq \\gvertneqq\n",
    "    ⪈ {\\displaystyle \\ngeqslant } \\ngeqslant \\ngeqslant\n",
    "\n",
    "    ⊲ {\\displaystyle \\vartriangleleft } \\vartriangleleft \\vartriangleleft\n",
    "    ⊴ {\\displaystyle \\trianglelefteq } \\trianglelefteq \\trianglelefteq\n",
    "    ≲ {\\displaystyle \\lesssim } \\lesssim \\lesssim\n",
    "    ⪅ {\\displaystyle \\lessapprox } \\lessapprox \\lessapprox\n",
    "    ≺ {\\displaystyle \\prec } \\prec \\prec\n",
    "    ⪯ {\\displaystyle \\preceq } \\preceq \\preceq\n",
    "    ≾ {\\displaystyle \\precsim } \\precsim \\precsim\n",
    "    ⪷ {\\displaystyle \\precapprox } \\precapprox \\precapprox\n",
    "\n",
    "\t\n",
    "\n",
    "    ⊳ {\\displaystyle \\vartriangleright } \\vartriangleright \\vartriangleright\n",
    "    ⊵ {\\displaystyle \\trianglerighteq } \\trianglerighteq \\trianglerighteq\n",
    "    ≳ {\\displaystyle \\gtrsim } \\gtrsim \\gtrsim\n",
    "    ⪆ {\\displaystyle \\gtrapprox } \\gtrapprox \\gtrapprox\n",
    "    ≻ {\\displaystyle \\succ } \\succ \\succ\n",
    "    ⪰ {\\displaystyle \\succeq } \\succeq \\succeq\n",
    "    ≿ {\\displaystyle \\succsim } \\succsim \\succsim\n",
    "    ⪸ {\\displaystyle \\succapprox } \\succapprox \\succapprox\n",
    "\n",
    "\t\n",
    "\n",
    "    ⋪ {\\displaystyle \\ntriangleleft } \\ntriangleleft \\ntriangleleft\n",
    "    ⋬ {\\displaystyle \\ntrianglelefteq } \\ntrianglelefteq \\ntrianglelefteq\n",
    "    ⋦ {\\displaystyle \\lnsim } \\lnsim \\lnsim\n",
    "    ⪉ {\\displaystyle \\lnapprox } \\lnapprox \\lnapprox\n",
    "    ⊀ {\\displaystyle \\nprec } \\nprec \\nprec\n",
    "    ⋠ {\\displaystyle \\npreceq } \\npreceq \\npreceq\n",
    "    ⋨ {\\displaystyle \\precnsim } \\precnsim \\precnsim\n",
    "    ⪹ {\\displaystyle \\precnapprox } \\precnapprox \\precnapprox\n",
    "\n",
    "\t\n",
    "\n",
    "    ⋫ {\\displaystyle \\ntriangleright } \\ntriangleright \\ntriangleright\n",
    "    ⋭ {\\displaystyle \\ntrianglerighteq } \\ntrianglerighteq \\ntrianglerighteq\n",
    "    ⋧ {\\displaystyle \\gnsim } \\gnsim \\gnsim\n",
    "    ⪊ {\\displaystyle \\gnapprox } \\gnapprox \\gnapprox\n",
    "    ⊁ {\\displaystyle \\nsucc } \\nsucc \\nsucc\n",
    "    ⋡ {\\displaystyle \\nsucceq } \\nsucceq \\nsucceq\n",
    "    ⋩ {\\displaystyle \\succnsim } \\succnsim \\succnsim\n",
    "    ⪺ {\\displaystyle \\succnapprox } \\succnapprox \\succnapprox\n",
    "\n",
    "    ⪕ {\\displaystyle \\eqslantless } \\eqslantless \\eqslantless\n",
    "    ≶ {\\displaystyle \\lessgtr } \\lessgtr \\lessgtr\n",
    "    ⋚ {\\displaystyle \\lesseqgtr } \\lesseqgtr \\lesseqgtr\n",
    "    ⪋ {\\displaystyle \\lesseqqgtr } \\lesseqqgtr \\lesseqqgtr\n",
    "\n",
    "\t\n",
    "\n",
    "    ⪖ {\\displaystyle \\eqslantgtr } \\eqslantgtr \\eqslantgtr\n",
    "    ≷ {\\displaystyle \\gtrless } \\gtrless \\gtrless\n",
    "    ⋛ {\\displaystyle \\gtreqless } \\gtreqless \\gtreqless\n",
    "    ⪌ {\\displaystyle \\gtreqqless } \\gtreqqless \\gtreqqless\n",
    "\n",
    "\t\n",
    "\n",
    "    ≪ {\\displaystyle \\ll } \\ll \\ll\n",
    "    ⋘ {\\displaystyle \\lll } \\lll \\lll\n",
    "    ⋖ {\\displaystyle \\lessdot } \\lessdot \\lessdot\n",
    "    ≼ {\\displaystyle \\preccurlyeq } \\preccurlyeq \\preccurlyeq\n",
    "    ⋞ {\\displaystyle \\curlyeqprec } \\curlyeqprec \\curlyeqprec\n",
    "\n",
    "\t\n",
    "\n",
    "    ≫ {\\displaystyle \\gg } \\gg \\gg\n",
    "    ⋙ {\\displaystyle \\ggg } \\ggg \\ggg\n",
    "    ⋗ {\\displaystyle \\gtrdot } \\gtrdot \\gtrdot\n",
    "    ≽ {\\displaystyle \\succcurlyeq } \\succcurlyeq \\succcurlyeq\n",
    "    ⋟ {\\displaystyle \\curlyeqsucc } \\curlyeqsucc \\curlyeqsucc\n",
    "\"\"\""
   ]
  },
  {
   "cell_type": "code",
   "execution_count": null,
   "metadata": {},
   "outputs": [],
   "source": [
    "getNameSym(pasta)"
   ]
  },
  {
   "cell_type": "code",
   "execution_count": null,
   "metadata": {},
   "outputs": [],
   "source": [
    "from exp.Variables import wrap, Var"
   ]
  },
  {
   "cell_type": "code",
   "execution_count": null,
   "metadata": {},
   "outputs": [],
   "source": [
    "v = Var('\\\\leq')\n",
    "wrap(v)"
   ]
  }
 ],
 "metadata": {
  "kernelspec": {
   "display_name": "Python 3",
   "language": "python",
   "name": "python3"
  },
  "language_info": {
   "codemirror_mode": {
    "name": "ipython",
    "version": 3
   },
   "file_extension": ".py",
   "mimetype": "text/x-python",
   "name": "python",
   "nbconvert_exporter": "python",
   "pygments_lexer": "ipython3",
   "version": "3.8.3"
  }
 },
 "nbformat": 4,
 "nbformat_minor": 4
}
