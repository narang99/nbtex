{
 "cells": [
  {
   "cell_type": "code",
   "execution_count": null,
   "metadata": {},
   "outputs": [],
   "source": [
    "#export\n",
    "from exp.Variables import Var, makeVar"
   ]
  },
  {
   "cell_type": "code",
   "execution_count": null,
   "metadata": {},
   "outputs": [],
   "source": [
    "from exp.Variables import wrap"
   ]
  },
  {
   "cell_type": "code",
   "execution_count": null,
   "metadata": {},
   "outputs": [],
   "source": [
    "class SubsetSymbols():\n",
    "    def __init__(self):\n",
    "        pass\n",
    "    @property\n",
    "    def subset(self):\n",
    "        return Var(r'\\subset')\n",
    "    @property\n",
    "    def supset(self):\n",
    "        return Var(r'\\supset')\n",
    "    @property\n",
    "    def subseteq(self):\n",
    "        return Var(r'\\subseteq')\n",
    "    @property\n",
    "    def supseteq(self):\n",
    "        return Var(r'\\supseteq')\n",
    "    @property\n",
    "    def sqsubset(self):\n",
    "        return Var(r'\\sqsubset')\n",
    "    @property\n",
    "    def sqsupset(self):\n",
    "        return Var(r'\\sqsupset')\n",
    "    @property\n",
    "    def sqsubseteq(self):\n",
    "        return Var(r'\\sqsubseteq')\n",
    "    @property\n",
    "    def sqsupseteq(self):\n",
    "        return Var(r'\\sqsupseteq')\n",
    "    "
   ]
  }
 ],
 "metadata": {
  "kernelspec": {
   "display_name": "Python 3",
   "language": "python",
   "name": "python3"
  },
  "language_info": {
   "codemirror_mode": {
    "name": "ipython",
    "version": 3
   },
   "file_extension": ".py",
   "mimetype": "text/x-python",
   "name": "python",
   "nbconvert_exporter": "python",
   "pygments_lexer": "ipython3",
   "version": "3.8.3"
  }
 },
 "nbformat": 4,
 "nbformat_minor": 4
}
