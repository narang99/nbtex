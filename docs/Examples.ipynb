{
 "cells": [
  {
   "cell_type": "markdown",
   "metadata": {},
   "source": [
    "# Pytex  \n",
    "\n",
    "A light-weight pythonic wrapper around LaTeX specifically to provide python-like interface to write mathemical latex in Jupyter Notebooks.   \n",
    "**NOTE:** Only Jupyter Notebooks are supported for now. Tests done in notebooks too\n",
    "\n",
    "## Usage  \n",
    "The usage is best presented by examples  \n",
    "The next cells show some use cases\n",
    "\n",
    "It is recommended to use the `Python-Markdown` extension to render the latex inside a markdown cell.  \n",
    "You can enclose a python statement inside double curly braces (see Python-markdown on Jupyter website) `{ { statement } }`  inside a markdown cell if this extension is enable **and** the notebook is trusted.  \n",
    "\n",
    "As an alternative: the function `latex` returns a `iPython.core.display.Latex` object. It has attribute `data` which can be printed in a code cell. This string can be enclosed in `$$ <output> $$` in a markdown cell\n",
    "\n",
    "`platex` prints the latex that can be directly copy pasted inside a markdown cell."
   ]
  },
  {
   "cell_type": "markdown",
   "metadata": {},
   "source": [
    "## Variables\n",
    "\n",
    "`Var` class is the basic class of the package which defines `+`,`-`, function calling etc. and constructs the LaTeX AST internally.  \n",
    "Calling `latex` with any `Var` as argument gives the LaTeX in a platform dependent object. Since only Jupyter Notebooks are supported for now, it returns an `IPython.core.display.Latex` object"
   ]
  },
  {
   "cell_type": "code",
   "execution_count": 1,
   "metadata": {},
   "outputs": [
    {
     "name": "stdout",
     "output_type": "stream",
     "text": [
      "\\begin{gather}a\\end{gather}\n"
     ]
    }
   ],
   "source": [
    "from pytex import Var\n",
    "from pytex.platforms.jupyter import latex\n",
    "a = Var('a')\n",
    "print(latex(a).data)"
   ]
  },
  {
   "cell_type": "markdown",
   "metadata": {},
   "source": [
    "$$\n",
    "\\begin{gather}a\\end{gather}\n",
    "$$"
   ]
  },
  {
   "cell_type": "markdown",
   "metadata": {},
   "source": [
    "`platex` prints the latex which can be put inside a markdown cell. we will use that"
   ]
  },
  {
   "cell_type": "code",
   "execution_count": 2,
   "metadata": {},
   "outputs": [
    {
     "name": "stdout",
     "output_type": "stream",
     "text": [
      "\\begin{gather}a\\end{gather}\n"
     ]
    }
   ],
   "source": [
    "from pytex.platforms.jupyter import platex\n",
    "platex(a)"
   ]
  },
  {
   "cell_type": "markdown",
   "metadata": {},
   "source": [
    "$$ \\begin{gather}a\\end{gather} $$"
   ]
  },
  {
   "cell_type": "markdown",
   "metadata": {},
   "source": [
    "`makeVar` is a convenience function to create multiple `Var` variables easily.  \n",
    "A list of operators supported:\n",
    "+ `+`: Adding\n",
    "+ `-`: Subtraction\n",
    "+ `*`: Multiplication\n",
    "+ `pow`: Exponents\n",
    "+ `^`: Exponents (another way)\n",
    "+ `==`: Equality (`=` cannot be used as assignment is a core feature of python)\n",
    "+ `/`: Fractions\n",
    "+ `|`: Space in generated latex\n",
    "+ `()`: Function calling with arbitrary args\n",
    "+ `<`, `>`, `<=`, `>=`: Ordering operators \n",
    "\n",
    "\n",
    "In some cases you can directly use literal constants (numbers, strings etc) like `'a', 'bc', 1, 2`. Use cases where this is safe will be discussed later.  \n",
    "It is however usually safer to wrap all your constants inside `Var` using `makeVar` for concise syntax as shown below. (eg. binding const `2` to instance `_2` of `Var` as shown below)  \n",
    "`Var` instances also can be called with arbitrary parameters for them to render as functions"
   ]
  },
  {
   "cell_type": "code",
   "execution_count": 3,
   "metadata": {},
   "outputs": [
    {
     "name": "stdout",
     "output_type": "stream",
     "text": [
      "\\begin{gather}f(x + y\\hspace{1mm}z + ab) = x^2 + x + ab\\end{gather}\n"
     ]
    }
   ],
   "source": [
    "from pytex import makeVar\n",
    "x,y,z,f,ab,_2 = makeVar('x','y','z','f','ab', 2)\n",
    "op = f(x + y|z + ab) == x**2 + x + ab\n",
    "platex(op)"
   ]
  },
  {
   "cell_type": "markdown",
   "metadata": {},
   "source": [
    "$$ \\begin{gather}f(x + y\\hspace{1mm}z + ab) = x^2 + x + ab\\end{gather} $$"
   ]
  },
  {
   "cell_type": "markdown",
   "metadata": {},
   "source": [
    "Ordering Operators Example"
   ]
  },
  {
   "cell_type": "code",
   "execution_count": 4,
   "metadata": {},
   "outputs": [
    {
     "name": "stdout",
     "output_type": "stream",
     "text": [
      "\\begin{gather}x \\geq y\\end{gather}\n"
     ]
    }
   ],
   "source": [
    "platex(x >= y)"
   ]
  },
  {
   "cell_type": "markdown",
   "metadata": {},
   "source": [
    "$$ \\begin{gather}x \\geq y\\end{gather} $$"
   ]
  },
  {
   "cell_type": "markdown",
   "metadata": {},
   "source": [
    "String Argument passed to `Var` or `makeVar` is rendered in the latex. It is recommended to map arguments to approximately same names of `Var` instances"
   ]
  },
  {
   "cell_type": "code",
   "execution_count": 5,
   "metadata": {},
   "outputs": [
    {
     "name": "stdout",
     "output_type": "stream",
     "text": [
      "\\begin{gather}a = x + c\\end{gather}\n"
     ]
    }
   ],
   "source": [
    "a = Var('a')\n",
    "b = Var('x')\n",
    "c = makeVar('c')\n",
    "\n",
    "# b will render as x in the latex, binding different names to variables is not recommended\n",
    "platex(a == b + c)"
   ]
  },
  {
   "cell_type": "markdown",
   "metadata": {},
   "source": [
    "$$ \\begin{gather}a = x + c\\end{gather} $$"
   ]
  },
  {
   "cell_type": "markdown",
   "metadata": {},
   "source": [
    "`==` is overloaded version of `equals` method. Use whichever you prefer"
   ]
  },
  {
   "cell_type": "code",
   "execution_count": 7,
   "metadata": {},
   "outputs": [
    {
     "name": "stdout",
     "output_type": "stream",
     "text": [
      "\\begin{gather}a = x + c\\end{gather}\n"
     ]
    }
   ],
   "source": [
    "platex(a.equals(b + c))"
   ]
  },
  {
   "cell_type": "markdown",
   "metadata": {},
   "source": [
    "You can also use Vectors. `Vector` class is used. `makeVector` convenience function similarly supported"
   ]
  },
  {
   "cell_type": "code",
   "execution_count": 9,
   "metadata": {},
   "outputs": [
    {
     "name": "stdout",
     "output_type": "stream",
     "text": [
      "\\begin{gather}\\vec{\\mathbf{f}}(\\vec{\\mathbf{x}},\\vec{\\mathbf{y}}) = \\vec{\\mathbf{x}}^\\vec{\\mathbf{y}} + \\vec{\\mathbf{x}} * \\vec{\\mathbf{y}} + 1\\end{gather}\n"
     ]
    }
   ],
   "source": [
    "from pytex import Vector, makeVector\n",
    "f,x,y = makeVector('f','x','y')\n",
    "_1 = makeVar(1)\n",
    "op = f(x,y) == x**y + x*y + _1\n",
    "platex(op)"
   ]
  },
  {
   "cell_type": "markdown",
   "metadata": {},
   "source": [
    "$$ \\begin{gather}\\vec{\\mathbf{f}}(\\vec{\\mathbf{x}},\\vec{\\mathbf{y}}) = \\vec{\\mathbf{x}}^\\vec{\\mathbf{y}} + \\vec{\\mathbf{x}} * \\vec{\\mathbf{y}} + 1\\end{gather} $$"
   ]
  },
  {
   "cell_type": "markdown",
   "metadata": {},
   "source": [
    "## Series\n",
    "\n",
    "### Summation\n",
    "**NOTE:** upper and lower limits are optional. (Shown in `Product`)"
   ]
  },
  {
   "cell_type": "code",
   "execution_count": 10,
   "metadata": {},
   "outputs": [
    {
     "name": "stdout",
     "output_type": "stream",
     "text": [
      "\\begin{gather}\\sum_{i=1}^{10} i^2 + i + 1\\end{gather}\n"
     ]
    }
   ],
   "source": [
    "from pytex import Sum\n",
    "i, _1, _10 = makeVar('i', 1, 10)\n",
    "op = Sum(i**2+i+1, i, _1, _10)\n",
    "platex(op)"
   ]
  },
  {
   "cell_type": "markdown",
   "metadata": {},
   "source": [
    "$$ \\begin{gather}\\sum_{i=1}^{10} i^2 + i + 1\\end{gather} $$"
   ]
  },
  {
   "cell_type": "markdown",
   "metadata": {},
   "source": [
    "### Product"
   ]
  },
  {
   "cell_type": "code",
   "execution_count": 11,
   "metadata": {},
   "outputs": [
    {
     "name": "stdout",
     "output_type": "stream",
     "text": [
      "\\begin{gather}\\prod_{i} i^2 + i + 1\\end{gather}\n"
     ]
    }
   ],
   "source": [
    "from pytex import Product\n",
    "i = makeVar('i')\n",
    "op = Product(pow(i,2)+i+1, i)\n",
    "platex(op)"
   ]
  },
  {
   "cell_type": "markdown",
   "metadata": {},
   "source": [
    "$$ \\begin{gather}\\prod_{i} i^2 + i + 1\\end{gather} $$"
   ]
  },
  {
   "cell_type": "markdown",
   "metadata": {},
   "source": [
    "## Derivatives and Partial Derivatives\n",
    "\n",
    "Similar to `Var` we have `Derivative` and `Partial` implementations. `makeDerivative` and `makePartial` are parallel implementations of `makeVar`"
   ]
  },
  {
   "cell_type": "code",
   "execution_count": 12,
   "metadata": {},
   "outputs": [
    {
     "name": "stdout",
     "output_type": "stream",
     "text": [
      "\\begin{gather}\\frac{d}{d x}\\hspace{1mm}\\frac{d^{2}}{d y^2}\\hspace{1mm}x + y\\end{gather}\n"
     ]
    }
   ],
   "source": [
    "from pytex import makeDerivative\n",
    "\n",
    "# NOTE: makeDerivative takes args in forms of tuples of size two\n",
    "#       the first element in the tuple is the name of the differentiating variable\n",
    "#       the second element is the degree of the variable\n",
    "# NOTE: degree of 1 is not shown in latex\n",
    "\n",
    "dx, dy = makeDerivative(('x', 1), ('y', 2))\n",
    "x, y = makeVar('x', 'y')\n",
    "op = dx | dy | x+y\n",
    "platex(op)"
   ]
  },
  {
   "cell_type": "markdown",
   "metadata": {},
   "source": [
    "$$ \\begin{gather}\\frac{d}{d x}\\hspace{1mm}\\frac{d^{2}}{d y^2}\\hspace{1mm}x + y\\end{gather}\n",
    " $$"
   ]
  },
  {
   "cell_type": "markdown",
   "metadata": {},
   "source": [
    "You can use a more complex expression as differentiator too. Also shows an example of not equal"
   ]
  },
  {
   "cell_type": "code",
   "execution_count": 13,
   "metadata": {},
   "outputs": [
    {
     "name": "stdout",
     "output_type": "stream",
     "text": [
      "\\begin{gather}\\frac{d^{2}}{d (x^2 + x + 1)^2}\\hspace{1mm}x^2 + x + 1 \\neq 2\\end{gather}\n"
     ]
    }
   ],
   "source": [
    "x = makeVar('x')\n",
    "f = (pow(x,2) + x + 1)\n",
    "df = makeDerivative((f,2))\n",
    "\n",
    "op = df | f != Var('2')\n",
    "platex(op)"
   ]
  },
  {
   "cell_type": "markdown",
   "metadata": {},
   "source": [
    "$$ \\begin{gather}\\frac{d^{2}}{d (x^2 + x + 1)^2}\\hspace{1mm}x^2 + x + 1 \\neq 2\\end{gather} $$"
   ]
  },
  {
   "cell_type": "markdown",
   "metadata": {},
   "source": [
    "We used `|` for space between the variables. Calling `df` with `f` in the previous example will result in parenthesizing the function on which the differentiation operator acts.  \n",
    "**NOTE:** The `=` here is normal python assignment to a new variable `op`. It wont be rendered as your latex. For that you either use `@` operator or the `equals` method"
   ]
  },
  {
   "cell_type": "code",
   "execution_count": 14,
   "metadata": {},
   "outputs": [
    {
     "name": "stdout",
     "output_type": "stream",
     "text": [
      "\\begin{gather}\\frac{d^{2}}{d (x^2 + x + 1)^2}(x^2 + x + 1) \\neq 2\\end{gather}\n"
     ]
    }
   ],
   "source": [
    "op = df(f) != makeVar('2')\n",
    "platex(op)"
   ]
  },
  {
   "cell_type": "markdown",
   "metadata": {},
   "source": [
    "$$ \\begin{gather}\\frac{d^{2}}{d (x^2 + x + 1)^2}(x^2 + x + 1) \\neq 2\\end{gather} $$\n"
   ]
  },
  {
   "cell_type": "markdown",
   "metadata": {},
   "source": [
    "Same example with Partial"
   ]
  },
  {
   "cell_type": "code",
   "execution_count": 15,
   "metadata": {},
   "outputs": [
    {
     "name": "stdout",
     "output_type": "stream",
     "text": [
      "\\begin{gather}\\frac{\\partial ^{3}}{\\partial  (x^2 + x + 1)^3}\\hspace{1mm}x^2 + x + 1 = 1\\end{gather}\n"
     ]
    }
   ],
   "source": [
    "from pytex import makePartial\n",
    "x = makeVar('x')\n",
    "f = pow(x,2) + x + 1\n",
    "df = makePartial((f,3))\n",
    "\n",
    "op = df | f == Var('1')\n",
    "platex(op)"
   ]
  },
  {
   "cell_type": "markdown",
   "metadata": {},
   "source": [
    "$$ \\begin{gather}\\frac{\\partial ^{3}}{\\partial  (x^2 + x + 1)^3}\\hspace{1mm}x^2 + x + 1 = 1\\end{gather} $$"
   ]
  },
  {
   "cell_type": "markdown",
   "metadata": {},
   "source": [
    "## Matrices and Vectors\n",
    "\n",
    "You can make both matrices and vectors with a single class `Matrix` by giving appropriate dimensions  \n",
    "`MatrixBuilder` provides a builder pattern API to create a Matrix.  \n",
    "\n",
    "For `Matrix`, pass a list representing a matrix with appropriate dimensions"
   ]
  },
  {
   "cell_type": "code",
   "execution_count": 16,
   "metadata": {},
   "outputs": [
    {
     "name": "stdout",
     "output_type": "stream",
     "text": [
      "\\begin{gather}\\begin{bmatrix} 1 &  2 &  3 \\end{bmatrix}\\end{gather}\n"
     ]
    }
   ],
   "source": [
    "from pytex import Matrix\n",
    "# simple row vector\n",
    "platex(Matrix([1,2,3]))"
   ]
  },
  {
   "cell_type": "markdown",
   "metadata": {},
   "source": [
    "$$ \\begin{gather}\\begin{bmatrix} 1 &  2 &  3 \\end{bmatrix}\\end{gather} $$"
   ]
  },
  {
   "cell_type": "code",
   "execution_count": 17,
   "metadata": {},
   "outputs": [
    {
     "name": "stdout",
     "output_type": "stream",
     "text": [
      "\\begin{gather}\\begin{bmatrix} 1 \\\\ 2 \\\\ 3 \\end{bmatrix}\\end{gather}\n"
     ]
    }
   ],
   "source": [
    "# simple column vector\n",
    "m = [[1],[2],[3]]\n",
    "platex(Matrix(m))"
   ]
  },
  {
   "cell_type": "markdown",
   "metadata": {},
   "source": [
    "$$ \\begin{gather}\\begin{bmatrix} 1 \\\\ 2 \\\\ 3 \\end{bmatrix}\\end{gather}$$"
   ]
  },
  {
   "cell_type": "code",
   "execution_count": 18,
   "metadata": {},
   "outputs": [
    {
     "name": "stdout",
     "output_type": "stream",
     "text": [
      "\\begin{gather}\\begin{bmatrix} 1 \\\\ 2 \\\\ 3 \\end{bmatrix}^{2}_{3x1}\\end{gather}\n"
     ]
    }
   ],
   "source": [
    "# adding subscript and powers\n",
    "platex(Matrix(m, '3x1', 2))"
   ]
  },
  {
   "cell_type": "markdown",
   "metadata": {},
   "source": [
    "$$  \\begin{gather}\\begin{bmatrix} 1 \\\\ 2 \\\\ 3 \\end{bmatrix}^{2}_{3x1}\\end{gather} $$"
   ]
  },
  {
   "cell_type": "code",
   "execution_count": 19,
   "metadata": {},
   "outputs": [
    {
     "name": "stdout",
     "output_type": "stream",
     "text": [
      "\\begin{gather}\\begin{pmatrix} 1 \\\\ 2 \\\\ 3 \\end{pmatrix}\\hspace{1mm}\\begin{vmatrix} 1 \\\\ 2 \\\\ 3 \\end{vmatrix}\\hspace{1mm}\\begin{Vmatrix} 1 \\\\ 2 \\\\ 3 \\end{Vmatrix}\\end{gather}\n"
     ]
    }
   ],
   "source": [
    "# different types of brackets, default is [] -> square brackets\n",
    "# Passing anything else in surround renders the matrix without a border\n",
    "platex(Matrix(m, surround='()') | Matrix(m, surround='||') | Matrix(m, surround='||||'))"
   ]
  },
  {
   "cell_type": "markdown",
   "metadata": {},
   "source": [
    "$$ \\begin{gather}\\begin{pmatrix} 1 \\\\ 2 \\\\ 3 \\end{pmatrix}\\hspace{1mm}\\begin{vmatrix} 1 \\\\ 2 \\\\ 3 \\end{vmatrix}\\hspace{1mm}\\begin{Vmatrix} 1 \\\\ 2 \\\\ 3 \\end{Vmatrix}\\end{gather} $$"
   ]
  },
  {
   "cell_type": "markdown",
   "metadata": {},
   "source": [
    "A more complex matrix example"
   ]
  },
  {
   "cell_type": "code",
   "execution_count": 20,
   "metadata": {},
   "outputs": [
    {
     "name": "stdout",
     "output_type": "stream",
     "text": [
      "\\begin{gather}\\begin{vmatrix} i &  j &  k \\\\ \\frac{\\partial }{\\partial  u}\\hspace{1mm}X &  \\frac{\\partial }{\\partial  u}\\hspace{1mm}Y &  0 \\\\ \\frac{\\partial }{\\partial  v}\\hspace{1mm}X &  \\frac{\\partial }{\\partial  v}\\hspace{1mm}Y &  0 \\end{vmatrix}^{2}_{3x3}\\end{gather}\n"
     ]
    }
   ],
   "source": [
    "from pytex import makePartial, makeVar, Matrix\n",
    "from pytex.platforms.jupyter import latex\n",
    "du, dv = makePartial('u', 'v')\n",
    "X, Y = makeVar('X', 'Y')\n",
    "l = [\n",
    "    ['i', 'j', 'k'],\n",
    "    [du|X, du|Y, 0],\n",
    "    [dv|X, dv|Y, 0]\n",
    "]\n",
    "platex(Matrix(l, subscript='3x3', power=2,surround='||'))"
   ]
  },
  {
   "cell_type": "markdown",
   "metadata": {},
   "source": [
    "$$ \\begin{gather}\\begin{vmatrix} i &  j &  k \\\\ \\frac{\\partial }{\\partial  u}\\hspace{1mm}X &  \\frac{\\partial }{\\partial  u}\\hspace{1mm}Y &  0 \\\\ \\frac{\\partial }{\\partial  v}\\hspace{1mm}X &  \\frac{\\partial }{\\partial  v}\\hspace{1mm}Y &  0 \\end{vmatrix}^{2}_{3x3}\\end{gather} $$"
   ]
  },
  {
   "cell_type": "markdown",
   "metadata": {},
   "source": [
    "Same example with `MatrixBuilder`"
   ]
  },
  {
   "cell_type": "code",
   "execution_count": 21,
   "metadata": {},
   "outputs": [
    {
     "name": "stdout",
     "output_type": "stream",
     "text": [
      "\\begin{gather}\\begin{vmatrix} i &  j &  k \\\\ \\frac{\\partial }{\\partial  u}\\hspace{1mm}X &  \\frac{\\partial }{\\partial  u}\\hspace{1mm}Y &  0 \\\\ \\frac{\\partial }{\\partial  v}\\hspace{1mm}X &  \\frac{\\partial }{\\partial  v}\\hspace{1mm}Y &  0 \\end{vmatrix}^{2}_{3x3}\\end{gather}\n"
     ]
    }
   ],
   "source": [
    "# from pytex import MatrixBuilder\n",
    "from pytex import makePartial, makeVar, Matrix\n",
    "from pytex.platforms.jupyter import latex\n",
    "du, dv = makePartial('u', 'v')\n",
    "X, Y = makeVar('X', 'Y')\n",
    "\n",
    "m = (Matrix.builder()\n",
    "    .add('i','j','k')\n",
    "    .add(du|X, du|Y, 0)\n",
    "    .add(dv|X, dv|Y, 0)\n",
    "    .create(subscript='3x3', power=2, surround='||'))\n",
    "platex(m)"
   ]
  },
  {
   "cell_type": "markdown",
   "metadata": {},
   "source": [
    "$$ \\begin{gather}\\begin{vmatrix} i &  j &  k \\\\ \\frac{\\partial }{\\partial  u}\\hspace{1mm}X &  \\frac{\\partial }{\\partial  u}\\hspace{1mm}Y &  0 \\\\ \\frac{\\partial }{\\partial  v}\\hspace{1mm}X &  \\frac{\\partial }{\\partial  v}\\hspace{1mm}Y &  0 \\end{vmatrix}^{2}_{3x3}\\end{gather} $$"
   ]
  },
  {
   "cell_type": "markdown",
   "metadata": {},
   "source": [
    "`MatrixWithDots` is also best explained by example"
   ]
  },
  {
   "cell_type": "code",
   "execution_count": 22,
   "metadata": {},
   "outputs": [
    {
     "name": "stdout",
     "output_type": "stream",
     "text": [
      "\\begin{gather}\\vec{\\mathbf{J}} = \\begin{bmatrix} \\frac{\\partial }{\\partial  x_1}\\hspace{1mm}\\vec{\\mathbf{f}} &  \\cdots &  \\frac{\\partial }{\\partial  x_n}\\hspace{1mm}\\vec{\\mathbf{f}} \\end{bmatrix}\\end{gather}\n"
     ]
    }
   ],
   "source": [
    "from pytex import MatrixWithDots, makeVector, makeVar, makePartial\n",
    "# Jacobian matrix\n",
    "\n",
    "f, J = makeVector('f', 'J')\n",
    "f1, fm = makeVar('f_1', 'f_m')\n",
    "dx1, dxn = makePartial(('x_1',), ('x_n',))\n",
    "op = J == MatrixWithDots([[dx1|f, dxn|f]])\n",
    "platex(op)"
   ]
  },
  {
   "cell_type": "markdown",
   "metadata": {},
   "source": [
    "$$ \\begin{gather}\\vec{\\mathbf{J}} = \\begin{bmatrix} \\frac{\\partial }{\\partial  x_1}\\hspace{1mm}\\vec{\\mathbf{f}} &  \\cdots &  \\frac{\\partial }{\\partial  x_n}\\hspace{1mm}\\vec{\\mathbf{f}} \\end{bmatrix}\\end{gather} $$"
   ]
  },
  {
   "cell_type": "code",
   "execution_count": 23,
   "metadata": {},
   "outputs": [
    {
     "name": "stdout",
     "output_type": "stream",
     "text": [
      "\\begin{gather}\\begin{bmatrix} \\frac{\\partial }{\\partial  x_1}\\hspace{1mm}f_1 &  \\cdots &  \\frac{\\partial }{\\partial  x_n}\\hspace{1mm}f_1 \\\\ \\vdots &  \\ddots &  \\vdots \\\\ \\frac{\\partial }{\\partial  x_1}\\hspace{1mm}f_m &  \\cdots &  \\frac{\\partial }{\\partial  x_n}\\hspace{1mm}f_m \\end{bmatrix} = \\vec{\\mathbf{J}} = \\begin{bmatrix} \\frac{\\partial }{\\partial  x_1}\\hspace{1mm}\\vec{\\mathbf{f}} &  \\cdots &  \\frac{\\partial }{\\partial  x_n}\\hspace{1mm}\\vec{\\mathbf{f}} \\end{bmatrix}\\end{gather}\n"
     ]
    }
   ],
   "source": [
    "ll = [\n",
    "    [dx1 | f1, dxn | f1],\n",
    "    [dx1 | fm, dxn | fm],\n",
    "]\n",
    "op2 = op == MatrixWithDots(ll, shape=(3,3))\n",
    "platex(op2)"
   ]
  },
  {
   "cell_type": "markdown",
   "metadata": {},
   "source": [
    "$$ \\begin{gather}\\begin{bmatrix} \\frac{\\partial }{\\partial  x_1}\\hspace{1mm}f_1 &  \\cdots &  \\frac{\\partial }{\\partial  x_n}\\hspace{1mm}f_1 \\\\ \\vdots &  \\ddots &  \\vdots \\\\ \\frac{\\partial }{\\partial  x_1}\\hspace{1mm}f_m &  \\cdots &  \\frac{\\partial }{\\partial  x_n}\\hspace{1mm}f_m \\end{bmatrix} = \\vec{\\mathbf{J}} = \\begin{bmatrix} \\frac{\\partial }{\\partial  x_1}\\hspace{1mm}\\vec{\\mathbf{f}} &  \\cdots &  \\frac{\\partial }{\\partial  x_n}\\hspace{1mm}\\vec{\\mathbf{f}} \\end{bmatrix}\\end{gather} $$"
   ]
  },
  {
   "cell_type": "markdown",
   "metadata": {},
   "source": [
    "`MatrixWithDots` is good with placing dots only when the list size is not the same as the shape passed. By default, it makes one extra row and one extra column unless size of the dimension is 1, in that case it makes a single row/column. For more than 1 size, it puts the last element in the row to the last column at that row and puts dots between them. Same for columns"
   ]
  },
  {
   "cell_type": "markdown",
   "metadata": {},
   "source": [
    "The library provides many of the LaTeX math symbols by the same name with some exceptions in case of a name clash with python keyword (eg. `lambda`)"
   ]
  },
  {
   "cell_type": "code",
   "execution_count": 25,
   "metadata": {},
   "outputs": [],
   "source": [
    "from pytex import Greek as G, Set as st, Operator as opr"
   ]
  },
  {
   "cell_type": "code",
   "execution_count": 26,
   "metadata": {},
   "outputs": [
    {
     "name": "stdout",
     "output_type": "stream",
     "text": [
      "\\begin{gather}\\beta\\hspace{1mm}\\subseteq\\hspace{1mm}\\Delta\\hspace{1mm}\\approxeq\\hspace{1mm}x + 1\\end{gather}\n"
     ]
    }
   ],
   "source": [
    "op = G.beta | st.subseteq | G.Delta | opr.approxeq | Var('x') + 1\n",
    "platex(op)"
   ]
  },
  {
   "cell_type": "markdown",
   "metadata": {},
   "source": [
    "$$ \\begin{gather}\\beta\\hspace{1mm}\\subseteq\\hspace{1mm}\\Delta\\hspace{1mm}\\approxeq\\hspace{1mm}x + 1\\end{gather} $$"
   ]
  }
 ],
 "metadata": {
  "kernelspec": {
   "display_name": "Python 3",
   "language": "python",
   "name": "python3"
  },
  "language_info": {
   "codemirror_mode": {
    "name": "ipython",
    "version": 3
   },
   "file_extension": ".py",
   "mimetype": "text/x-python",
   "name": "python",
   "nbconvert_exporter": "python",
   "pygments_lexer": "ipython3",
   "version": "3.8.3"
  }
 },
 "nbformat": 4,
 "nbformat_minor": 4
}
