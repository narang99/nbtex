{
 "cells": [
  {
   "cell_type": "markdown",
   "metadata": {},
   "source": [
    "## Variables\n",
    "\n",
    "`Var` class is the basic class of the package which defines `+`,`-`, function calling etc. and constructs the LaTeX AST internally.  \n",
    "Calling `latex` with any `Var` as argument gives the LaTeX in a platform dependent object. Since only Jupyter Notebooks are supported for now, it returns an `IPython.core.display.Latex` object"
   ]
  },
  {
   "cell_type": "code",
   "execution_count": 1,
   "metadata": {},
   "outputs": [
    {
     "output_type": "execute_result",
     "data": {
      "text/plain": "<IPython.core.display.Latex object>",
      "text/latex": "\\begin{gather*}a\\end{gather*}"
     },
     "metadata": {},
     "execution_count": 1
    }
   ],
   "source": [
    "from nbtex import Var, latex\n",
    "\n",
    "a = Var('a')\n",
    "latex(a)"
   ]
  },
  {
   "cell_type": "code",
   "execution_count": 2,
   "metadata": {},
   "outputs": [
    {
     "output_type": "execute_result",
     "data": {
      "text/plain": "IPython.core.display.Latex"
     },
     "metadata": {},
     "execution_count": 2
    }
   ],
   "source": [
    "type(latex(a))"
   ]
  },
  {
   "cell_type": "markdown",
   "metadata": {},
   "source": [
    "The LaTeX built can be accessed using this"
   ]
  },
  {
   "cell_type": "code",
   "execution_count": 3,
   "metadata": {
    "tags": []
   },
   "outputs": [
    {
     "output_type": "stream",
     "name": "stdout",
     "text": "\\begin{gather*}a\\end{gather*}\n"
    }
   ],
   "source": [
    "print(latex(a).data)"
   ]
  },
  {
   "cell_type": "markdown",
   "metadata": {},
   "source": [
    "`platex` prints the latex which can be put inside a markdown cell along with the Latex that will be outputted in the markdown cell. Once you get the required Latex, copy it into your markdown cell"
   ]
  },
  {
   "cell_type": "markdown",
   "metadata": {},
   "source": [
    "Here we have copied the latex inside the markdown cell\n",
    "$$\n",
    "\\begin{gather*}a\\end{gather*}\n",
    "$$"
   ]
  },
  {
   "cell_type": "markdown",
   "metadata": {},
   "source": [
    "This is the recommended use. In the examples however, we will use a `latex` so as to not give unnecessary output"
   ]
  },
  {
   "cell_type": "code",
   "execution_count": 5,
   "metadata": {},
   "outputs": [
    {
     "output_type": "execute_result",
     "data": {
      "text/plain": "<IPython.core.display.Latex object>",
      "text/latex": "\\begin{gather*}a = a\\end{gather*}"
     },
     "metadata": {},
     "execution_count": 5
    }
   ],
   "source": [
    "from nbtex import platex\n",
    "latex(a.equals(a))"
   ]
  },
  {
   "cell_type": "markdown",
   "metadata": {},
   "source": [
    "A list of operators supported:\n",
    "+ `+`: Adding\n",
    "+ `-`: Subtraction\n",
    "+ `*`: Multiplication\n",
    "+ `pow`: Exponents\n",
    "+ `^`: Exponents (another way)\n",
    "+ `/`: Fractions\n",
    "+ `|`: Space in generated latex\n",
    "+ `()`: Function calling with arbitrary args\n",
    "+ `<`, `>`, `<=`, `>=`: Ordering operators\n",
    "+ `equals`, `not_equals`: Equal and Not Equal\n",
    "\n",
    "In some cases you can directly use literal constants (numbers, strings etc) like `'a', 'bc', 1, 2`. Use cases where this is safe will be discussed later. For now, it just depends on precendence of operators in python in case of operators on `Var`. If a `Var` instance is bounded before the constant, it would automatically wrap it in a `Var`. Method calls are safe from this. \n",
    "It is however usually safer to wrap all your constants inside `Var` using `makeVar` for concise syntax as shown below. (eg. binding const `2` to instance `_2` of `Var` as shown below)  \n",
    "`Var` instances also can be called with arbitrary parameters for them to render as functions\n",
    "\n",
    "`makeVar` is a convenience function to create multiple `Var` variables easily.  \n"
   ]
  },
  {
   "cell_type": "markdown",
   "metadata": {},
   "source": [
    "An Example demonstrating basic uses of operator"
   ]
  },
  {
   "cell_type": "code",
   "execution_count": 8,
   "metadata": {},
   "outputs": [
    {
     "output_type": "execute_result",
     "data": {
      "text/plain": "<IPython.core.display.Latex object>",
      "text/latex": "\\begin{gather*}x + y - z = \\left(ab + 2\\right) * 2\\end{gather*}"
     },
     "metadata": {},
     "execution_count": 8
    }
   ],
   "source": [
    "from nbtex import makeVar\n",
    "x,y,z,ab,_2 = makeVar('x','y','z','ab', 2)\n",
    "op = (x+y-z).equals((ab+_2)*(_2))\n",
    "latex(op)"
   ]
  },
  {
   "cell_type": "code",
   "execution_count": 9,
   "metadata": {},
   "outputs": [
    {
     "output_type": "execute_result",
     "data": {
      "text/plain": "<IPython.core.display.Latex object>",
      "text/latex": "\\begin{gather*}x = y = x = y\\end{gather*}"
     },
     "metadata": {},
     "execution_count": 9
    }
   ],
   "source": [
    "op = x.equals(y)\n",
    "op = op.equals(op)\n",
    "latex(op)"
   ]
  },
  {
   "cell_type": "markdown",
   "metadata": {},
   "source": [
    "All instances of `Var` also support `~` (inverting). It is better shown with examples"
   ]
  },
  {
   "cell_type": "code",
   "execution_count": 10,
   "metadata": {},
   "outputs": [
    {
     "output_type": "execute_result",
     "data": {
      "text/plain": "<IPython.core.display.Latex object>",
      "text/latex": "\\begin{gather*}x \\neq y\\end{gather*}"
     },
     "metadata": {},
     "execution_count": 10
    }
   ],
   "source": [
    "latex(~x.equals(y))"
   ]
  },
  {
   "cell_type": "code",
   "execution_count": 12,
   "metadata": {},
   "outputs": [
    {
     "output_type": "execute_result",
     "data": {
      "text/plain": "<IPython.core.display.Latex object>",
      "text/latex": "\\begin{gather*}x = y\\end{gather*}"
     },
     "metadata": {},
     "execution_count": 12
    }
   ],
   "source": [
    "latex(~(~x.equals(y)))"
   ]
  },
  {
   "cell_type": "code",
   "execution_count": 13,
   "metadata": {},
   "outputs": [
    {
     "output_type": "execute_result",
     "data": {
      "text/plain": "<IPython.core.display.Latex object>",
      "text/latex": "\\begin{gather*}x \\nleq y\\end{gather*}"
     },
     "metadata": {},
     "execution_count": 13
    }
   ],
   "source": [
    "latex(~(x <= y))"
   ]
  },
  {
   "cell_type": "markdown",
   "metadata": {},
   "source": [
    "As you can see it defines inversion of the uppermost operator in the expression  \n",
    "`~~a = a` is always followed  \n",
    "Many operators have some form of inverse. When the inverse does not exist it returns the original variable without inversion."
   ]
  },
  {
   "cell_type": "code",
   "execution_count": 14,
   "metadata": {},
   "outputs": [
    {
     "output_type": "execute_result",
     "data": {
      "text/plain": "<IPython.core.display.Latex object>",
      "text/latex": "\\begin{gather*}x - y\\end{gather*}"
     },
     "metadata": {},
     "execution_count": 14
    }
   ],
   "source": [
    "latex(~(x+y))"
   ]
  },
  {
   "cell_type": "markdown",
   "metadata": {},
   "source": [
    "It acts only on the topmost operator as shown in this example  \n",
    "**NOTE:** Inverse of multiplication is fraction"
   ]
  },
  {
   "cell_type": "code",
   "execution_count": 15,
   "metadata": {},
   "outputs": [
    {
     "output_type": "execute_result",
     "data": {
      "text/plain": "<IPython.core.display.Latex object>",
      "text/latex": "\\begin{gather*}\\frac{\\left(x + y\\right)}{\\left(2 + ab\\right)}\\end{gather*}"
     },
     "metadata": {},
     "execution_count": 15
    }
   ],
   "source": [
    "op = (x+y)*(_2+ab)\n",
    "latex(~op)"
   ]
  },
  {
   "cell_type": "markdown",
   "metadata": {},
   "source": [
    "When using `<=` , `>=`, `<`, `>`, if you have multiple operators of this type in a single expression wrap your inner expressions in parenthesis. Not doing so will result in erronous behaviour"
   ]
  },
  {
   "cell_type": "code",
   "execution_count": 18,
   "metadata": {},
   "outputs": [
    {
     "output_type": "execute_result",
     "data": {
      "text/plain": "<IPython.core.display.Latex object>",
      "text/latex": "\\begin{gather*}y \\leq z\\end{gather*}"
     },
     "metadata": {},
     "execution_count": 18
    }
   ],
   "source": [
    "# BAD\n",
    "latex(x<=y<=z)"
   ]
  },
  {
   "cell_type": "code",
   "execution_count": 19,
   "metadata": {},
   "outputs": [
    {
     "output_type": "execute_result",
     "data": {
      "text/plain": "<IPython.core.display.Latex object>",
      "text/latex": "\\begin{gather*}x \\leq y \\leq z\\end{gather*}"
     },
     "metadata": {},
     "execution_count": 19
    }
   ],
   "source": [
    "\n",
    "# CORRECT\n",
    "latex( (x<=y) <= z)"
   ]
  },
  {
   "cell_type": "markdown",
   "metadata": {},
   "source": [
    "Ordering Operators Example"
   ]
  },
  {
   "cell_type": "code",
   "execution_count": 20,
   "metadata": {},
   "outputs": [
    {
     "output_type": "execute_result",
     "data": {
      "text/plain": "<IPython.core.display.Latex object>",
      "text/latex": "\\begin{gather*}x \\leq y\\end{gather*}"
     },
     "metadata": {},
     "execution_count": 20
    }
   ],
   "source": [
    "latex(x <= y)"
   ]
  },
  {
   "cell_type": "code",
   "execution_count": 21,
   "metadata": {},
   "outputs": [
    {
     "output_type": "execute_result",
     "data": {
      "text/plain": "<IPython.core.display.Latex object>",
      "text/latex": "\\begin{gather*}x \\nleq y \\leq z\\end{gather*}"
     },
     "metadata": {},
     "execution_count": 21
    }
   ],
   "source": [
    "latex(~(x <= y) <= z)"
   ]
  },
  {
   "cell_type": "code",
   "execution_count": 23,
   "metadata": {},
   "outputs": [
    {
     "output_type": "execute_result",
     "data": {
      "text/plain": "<IPython.core.display.Latex object>",
      "text/latex": "\\begin{gather*}x \\ngeq y\\end{gather*}"
     },
     "metadata": {},
     "execution_count": 23
    }
   ],
   "source": [
    "latex(~(x >= y))"
   ]
  }
 ],
 "metadata": {
  "kernelspec": {
   "display_name": "Python 3.8.3 64-bit ('base': conda)",
   "language": "python",
   "name": "python_defaultSpec_1598871571085"
  },
  "language_info": {
   "codemirror_mode": {
    "name": "ipython",
    "version": 3
   },
   "file_extension": ".py",
   "mimetype": "text/x-python",
   "name": "python",
   "nbconvert_exporter": "python",
   "pygments_lexer": "ipython3",
   "version": "3.8.3-final"
  }
 },
 "nbformat": 4,
 "nbformat_minor": 4
}