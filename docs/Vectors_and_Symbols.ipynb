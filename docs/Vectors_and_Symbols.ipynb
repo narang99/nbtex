{
 "cells": [
  {
   "cell_type": "markdown",
   "metadata": {},
   "source": [
    "## Vectors\n",
    "\n",
    "Here we show the way to use vector notation in your latex. All operations supported on `Var` are also supported for `Vector`  \n",
    "`makeVector` is synonymous to `makeVar`, ie. its a convenience function to make aribitrary number of `Vector` instances"
   ]
  },
  {
   "cell_type": "code",
   "execution_count": 1,
   "metadata": {},
   "outputs": [
    {
     "output_type": "execute_result",
     "data": {
      "text/plain": "<IPython.core.display.Latex object>",
      "text/latex": "\\begin{gather*}\\vec{\\mathbf{f}}(\\vec{\\mathbf{x}}, \\vec{\\mathbf{y}}) = \\vec{\\mathbf{x}} ^ \\vec{\\mathbf{y}} + \\vec{\\mathbf{x}} * \\vec{\\mathbf{y}} + 1\\end{gather*}"
     },
     "metadata": {},
     "execution_count": 1
    }
   ],
   "source": [
    "from nbtex import Vector, makeVector, latex, makeVar\n",
    "f,x,y = makeVector('f','x','y')\n",
    "_1 = makeVar(1)\n",
    "op = f(x,y).equals(x**y + x*y + _1)\n",
    "latex(op)"
   ]
  },
  {
   "cell_type": "markdown",
   "metadata": {},
   "source": [
    "## Special Symbols\n",
    "\n",
    "The library gives access to a host of special symbols that can be used along with `|` to combine your latex. "
   ]
  },
  {
   "cell_type": "code",
   "execution_count": 2,
   "metadata": {},
   "outputs": [
    {
     "output_type": "execute_result",
     "data": {
      "text/plain": "<IPython.core.display.Latex object>",
      "text/latex": "\\begin{gather*}\\beta \\hspace{1mm} \\alpha\\end{gather*}"
     },
     "metadata": {},
     "execution_count": 2
    }
   ],
   "source": [
    "from nbtex import Greek as G\n",
    "beta, alpha = makeVar(G.beta, G.alpha)\n",
    "latex(beta | alpha)"
   ]
  },
  {
   "cell_type": "markdown",
   "metadata": {},
   "source": [
    "`|` can be used to put space between your operators. Multiple spaces not supported."
   ]
  },
  {
   "cell_type": "code",
   "execution_count": 3,
   "metadata": {},
   "outputs": [],
   "source": [
    "from nbtex import Set as S\n",
    "a, b, subset = makeVar('a', 'b', S.subseteq)"
   ]
  },
  {
   "cell_type": "code",
   "execution_count": 4,
   "metadata": {},
   "outputs": [
    {
     "output_type": "execute_result",
     "data": {
      "text/plain": "<IPython.core.display.Latex object>",
      "text/latex": "\\begin{gather*}a \\hspace{1mm} \\subseteq \\hspace{1mm} b\\end{gather*}"
     },
     "metadata": {},
     "execution_count": 4
    }
   ],
   "source": [
    "latex(a | subset | b)"
   ]
  },
  {
   "cell_type": "markdown",
   "metadata": {},
   "source": [
    "look at `nbtex/nbtex/LatexInterface/` folder in files `Arrow.ipynb`, `Set.ipynb`, `Greek.ipynb`, `Operator.ipynb` for list of all operators "
   ]
  }
 ],
 "metadata": {
  "kernelspec": {
   "display_name": "Python 3.8.3 64-bit ('base': conda)",
   "language": "python",
   "name": "python_defaultSpec_1598872045505"
  },
  "language_info": {
   "codemirror_mode": {
    "name": "ipython",
    "version": 3
   },
   "file_extension": ".py",
   "mimetype": "text/x-python",
   "name": "python",
   "nbconvert_exporter": "python",
   "pygments_lexer": "ipython3",
   "version": "3.8.3-final"
  }
 },
 "nbformat": 4,
 "nbformat_minor": 4
}