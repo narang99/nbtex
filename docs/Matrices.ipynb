{
 "cells": [
  {
   "cell_type": "markdown",
   "metadata": {},
   "source": [
    "## Matrix\n",
    "\n",
    "Pass list of list of elements that will convert to LaTeX matrix.  \n",
    "The list should contain elements of type `Var`, `Vector`, strings or numbers\n"
   ]
  },
  {
   "cell_type": "code",
   "execution_count": 48,
   "metadata": {},
   "outputs": [
    {
     "data": {
      "text/latex": [
       "\\begin{gather*}\\begin{bmatrix} 1 &  2 &  3 &  4 \\\\ a &  1 &  x &  y \\end{bmatrix}\\end{gather*}"
      ],
      "text/plain": [
       "<IPython.core.display.Latex object>"
      ]
     },
     "execution_count": 48,
     "metadata": {},
     "output_type": "execute_result"
    }
   ],
   "source": [
    "from nbtex import Matrix, latex\n",
    "\n",
    "mtx = [\n",
    "    [1,2,3,4],\n",
    "    ['a',1,'x','y'],\n",
    "]\n",
    "\n",
    "latex(Matrix(mtx))"
   ]
  },
  {
   "cell_type": "markdown",
   "metadata": {},
   "source": [
    "You can provide power, subscript or a different type of surrounding bracket to the matrix also "
   ]
  },
  {
   "cell_type": "code",
   "execution_count": 49,
   "metadata": {},
   "outputs": [
    {
     "data": {
      "text/latex": [
       "\\begin{gather*}\\begin{pmatrix} 1 &  2 &  3 &  4 \\\\ a &  1 &  x &  y \\end{pmatrix}^{2}_{2x4}\\end{gather*}"
      ],
      "text/plain": [
       "<IPython.core.display.Latex object>"
      ]
     },
     "execution_count": 49,
     "metadata": {},
     "output_type": "execute_result"
    }
   ],
   "source": [
    "latex(Matrix(mtx, subscript='2x4', power=2, surround='()'))"
   ]
  },
  {
   "cell_type": "markdown",
   "metadata": {},
   "source": [
    "Supported surrounds:\n",
    "+ `()`\n",
    "+ `[]`\n",
    "+ `||`\n",
    "+ `||||`\n",
    "\n",
    "Default: `[]`"
   ]
  },
  {
   "cell_type": "code",
   "execution_count": 50,
   "metadata": {},
   "outputs": [
    {
     "data": {
      "text/latex": [
       "\\begin{gather*}\\begin{vmatrix} 1 &  2 &  3 &  4 \\\\ a &  1 &  x &  y \\end{vmatrix}\\end{gather*}"
      ],
      "text/plain": [
       "<IPython.core.display.Latex object>"
      ]
     },
     "execution_count": 50,
     "metadata": {},
     "output_type": "execute_result"
    }
   ],
   "source": [
    "latex(Matrix(mtx, surround='||'))"
   ]
  },
  {
   "cell_type": "markdown",
   "metadata": {},
   "source": [
    "Transpose of a matrix is supported"
   ]
  },
  {
   "cell_type": "code",
   "execution_count": 51,
   "metadata": {},
   "outputs": [
    {
     "data": {
      "text/latex": [
       "\\begin{gather*}\\begin{vmatrix} 1 &  a \\\\ 2 &  1 \\\\ 3 &  x \\\\ 4 &  y \\end{vmatrix}\\end{gather*}"
      ],
      "text/plain": [
       "<IPython.core.display.Latex object>"
      ]
     },
     "execution_count": 51,
     "metadata": {},
     "output_type": "execute_result"
    }
   ],
   "source": [
    "m = Matrix(mtx, surround='||')\n",
    "latex(m.T)"
   ]
  },
  {
   "cell_type": "markdown",
   "metadata": {},
   "source": [
    "## Matrix with Dots\n",
    "\n",
    "Many times we have Matrices defined as series of numbers in its rows and columns. The remaining elements are replaced with dots. `MatrixWithDots` provides this funcitonality"
   ]
  },
  {
   "cell_type": "code",
   "execution_count": 52,
   "metadata": {},
   "outputs": [
    {
     "data": {
      "text/latex": [
       "\\begin{gather*}\\begin{bmatrix} 1 &  2 &  3 &  \\cdots &  n \\\\ \\vdots &  \\vdots &  \\vdots &  \\ddots &  \\vdots \\\\ -1 &  -2 &  -3 &  \\cdots &  -n \\end{bmatrix}\\end{gather*}"
      ],
      "text/plain": [
       "<IPython.core.display.Latex object>"
      ]
     },
     "execution_count": 52,
     "metadata": {},
     "output_type": "execute_result"
    }
   ],
   "source": [
    "from nbtex import MatrixWithDots\n",
    "\n",
    "mtx = [\n",
    "    [1,2,3,'n'],\n",
    "    [-1, -2, -3, '-n']\n",
    "]\n",
    "latex(MatrixWithDots(mtx))"
   ]
  },
  {
   "cell_type": "markdown",
   "metadata": {},
   "source": [
    "All columns for each row till `len(row)-1` are placed at the beginning. The last column is placed at the end of the row in the matrix\n",
    "\n",
    "You can provide a shape to manipulate the number of extra dots in rows and columns  "
   ]
  },
  {
   "cell_type": "code",
   "execution_count": 53,
   "metadata": {},
   "outputs": [
    {
     "data": {
      "text/latex": [
       "\\begin{gather*}\\begin{bmatrix} 1 &  2 &  3 &  \\cdots &  \\cdots &  \\cdots &  \\cdots &  n \\\\ \\vdots &  \\vdots &  \\vdots &  \\vdots &  \\vdots &  \\vdots &  \\vdots &  \\vdots \\\\ \\vdots &  \\vdots &  \\vdots &  \\vdots &  \\vdots &  \\vdots &  \\vdots &  \\vdots \\\\ \\vdots &  \\vdots &  \\vdots &  \\vdots &  \\vdots &  \\vdots &  \\ddots &  \\vdots \\\\ -1 &  -2 &  -3 &  \\cdots &  \\cdots &  \\cdots &  \\cdots &  -n \\end{bmatrix}\\end{gather*}"
      ],
      "text/plain": [
       "<IPython.core.display.Latex object>"
      ]
     },
     "execution_count": 53,
     "metadata": {},
     "output_type": "execute_result"
    }
   ],
   "source": [
    "# 5 rows, 8 columns\n",
    "latex(MatrixWithDots(mtx, (5,8)))"
   ]
  },
  {
   "cell_type": "markdown",
   "metadata": {},
   "source": [
    "The list passed to `MatrixWithDots` can have different sized lists as elements too."
   ]
  },
  {
   "cell_type": "code",
   "execution_count": 18,
   "metadata": {},
   "outputs": [
    {
     "data": {
      "text/latex": [
       "\\begin{gather*}\\begin{bmatrix} 1 &  2 &  3 &  \\cdots &  n \\\\ \\vdots &  \\vdots &  \\vdots &  \\ddots &  \\vdots \\\\ -1 &  -2 &  \\cdots &  \\cdots &  -n \\end{bmatrix}\\end{gather*}"
      ],
      "text/plain": [
       "<IPython.core.display.Latex object>"
      ]
     },
     "execution_count": 18,
     "metadata": {},
     "output_type": "execute_result"
    }
   ],
   "source": [
    "mtx = [\n",
    "    [1,2,3,'n'],\n",
    "    [-1,-2,'-n']\n",
    "]\n",
    "latex(MatrixWithDots(mtx))"
   ]
  },
  {
   "cell_type": "markdown",
   "metadata": {},
   "source": [
    "Arguments `power`, `surround` and `subscript` can be passed to `MatrixWithDots` and work similar to `Matrix`\n",
    "\n",
    "A bigger example:\n",
    "\n",
    "**NOTE:** `differentiate` is method in `Var` to provide derivates.  \n",
    "`partial_differentiate` also exists and is similar"
   ]
  },
  {
   "cell_type": "code",
   "execution_count": 46,
   "metadata": {},
   "outputs": [
    {
     "data": {
      "text/latex": [
       "\\begin{gather*}\\begin{bmatrix} \\frac{d}{dx_1} \\left(\\vec{\\mathbf{f}}\\right) &  \\cdots &  \\frac{d}{dx_n} \\left(\\vec{\\mathbf{f}}\\right) \\end{bmatrix}\\end{gather*}"
      ],
      "text/plain": [
       "<IPython.core.display.Latex object>"
      ]
     },
     "execution_count": 46,
     "metadata": {},
     "output_type": "execute_result"
    }
   ],
   "source": [
    "from nbtex import MatrixWithDots, makeVector, makeVar\n",
    "# Jacobian matrix\n",
    "\n",
    "f, J = makeVector('f', 'J')\n",
    "f1, fm = makeVar('f_1', 'f_m')\n",
    "mtx = [\n",
    "    [f.differentiate('x_1'), f.differentiate('x_n')]\n",
    "]\n",
    "latex(MatrixWithDots(mtx))"
   ]
  },
  {
   "cell_type": "code",
   "execution_count": 54,
   "metadata": {},
   "outputs": [
    {
     "data": {
      "text/latex": [
       "\\begin{gather*}\\vec{\\mathbf{J}} = \\begin{bmatrix} 1 &  2 &  3 &  \\cdots &  n \\\\ \\vdots &  \\vdots &  \\vdots &  \\ddots &  \\vdots \\\\ -1 &  -2 &  -3 &  \\cdots &  -n \\end{bmatrix} = \\begin{bmatrix} \\frac{d}{dx_1} \\left(\\vec{\\mathbf{f}}\\right) &  \\cdots &  \\frac{df_1}{dx_n} \\\\ \\vdots &  \\ddots &  \\vdots \\\\ \\frac{df_m}{dx_1} &  \\cdots &  \\frac{df_m}{dx_n} \\end{bmatrix}\\end{gather*}"
      ],
      "text/plain": [
       "<IPython.core.display.Latex object>"
      ]
     },
     "execution_count": 54,
     "metadata": {},
     "output_type": "execute_result"
    }
   ],
   "source": [
    "full_matrix = [\n",
    "    [f.differentiate('x_1'), f1.differentiate('x_n')],\n",
    "    [fm.differentiate('x_1'), fm.differentiate('x_n')]\n",
    "]\n",
    "matrix = MatrixWithDots(full_matrix, shape=(3,3))\n",
    "op = J == (MatrixWithDots(mtx) == matrix)\n",
    "latex(op)"
   ]
  },
  {
   "cell_type": "markdown",
   "metadata": {},
   "source": [
    "Transpose of dotted matrices is **not** supported"
   ]
  }
 ],
 "metadata": {
  "kernelspec": {
   "display_name": "Python 3",
   "language": "python",
   "name": "python3"
  },
  "language_info": {
   "codemirror_mode": {
    "name": "ipython",
    "version": 3
   },
   "file_extension": ".py",
   "mimetype": "text/x-python",
   "name": "python",
   "nbconvert_exporter": "python",
   "pygments_lexer": "ipython3",
   "version": "3.8.3"
  }
 },
 "nbformat": 4,
 "nbformat_minor": 4
}
