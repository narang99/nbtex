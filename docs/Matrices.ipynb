{
 "cells": [
  {
   "cell_type": "code",
   "execution_count": 15,
   "metadata": {},
   "outputs": [],
   "source": [
    "%reload_ext autoreload\n",
    "%autoreload 2"
   ]
  },
  {
   "cell_type": "markdown",
   "metadata": {},
   "source": [
    "## Matrix\n",
    "\n",
    "Pass list of list of elements that will convert to LaTeX matrix.  \n",
    "The list should contain elements of type `Var`, `Vector`, strings or numbers\n"
   ]
  },
  {
   "cell_type": "code",
   "execution_count": 16,
   "metadata": {},
   "outputs": [
    {
     "output_type": "execute_result",
     "data": {
      "text/plain": "<IPython.core.display.Latex object>",
      "text/latex": "\\begin{gather*}\\begin{bmatrix} 1 &  2 &  3 &  4 \\\\ a &  1 &  x &  y \\end{bmatrix}\\end{gather*}"
     },
     "metadata": {},
     "execution_count": 16
    }
   ],
   "source": [
    "from nbtex import Matrix, latex\n",
    "\n",
    "mtx = [\n",
    "    [1,2,3,4],\n",
    "    ['a',1,'x','y'],\n",
    "]\n",
    "\n",
    "latex(Matrix(mtx))"
   ]
  },
  {
   "cell_type": "markdown",
   "metadata": {},
   "source": [
    "You can also provide the type of surrounding parenthesis you want for the matrix  \n",
    "Operations on `Var` work on `Matrix` and its variants also"
   ]
  },
  {
   "cell_type": "code",
   "execution_count": 17,
   "metadata": {},
   "outputs": [
    {
     "output_type": "execute_result",
     "data": {
      "text/plain": "<IPython.core.display.Latex object>",
      "text/latex": "\\begin{gather*}\\begin{pmatrix} 1 &  2 &  3 &  4 \\\\ a &  1 &  x &  y \\end{pmatrix}\\end{gather*}"
     },
     "metadata": {},
     "execution_count": 17
    }
   ],
   "source": [
    "m = Matrix(mtx, surround='()')\n",
    "latex(m)"
   ]
  },
  {
   "cell_type": "code",
   "execution_count": 18,
   "metadata": {},
   "outputs": [
    {
     "output_type": "execute_result",
     "data": {
      "text/plain": "<IPython.core.display.Latex object>",
      "text/latex": "\\begin{gather*}\\begin{pmatrix} 1 &  2 &  3 &  4 \\\\ a &  1 &  x &  y \\end{pmatrix}^{3}_{1x2}\\end{gather*}"
     },
     "metadata": {},
     "execution_count": 18
    }
   ],
   "source": [
    "latex(m.subscript('1x2')**3)"
   ]
  },
  {
   "cell_type": "markdown",
   "metadata": {},
   "source": [
    "Supported surrounds:\n",
    "+ `()`\n",
    "+ `[]`\n",
    "+ `||`\n",
    "+ `||||`\n",
    "\n",
    "Default: `[]`"
   ]
  },
  {
   "cell_type": "code",
   "execution_count": 19,
   "metadata": {},
   "outputs": [
    {
     "output_type": "execute_result",
     "data": {
      "text/plain": "<IPython.core.display.Latex object>",
      "text/latex": "\\begin{gather*}\\begin{vmatrix} 1 &  2 &  3 &  4 \\\\ a &  1 &  x &  y \\end{vmatrix}\\end{gather*}"
     },
     "metadata": {},
     "execution_count": 19
    }
   ],
   "source": [
    "latex(Matrix(mtx, surround='||'))"
   ]
  },
  {
   "cell_type": "markdown",
   "metadata": {},
   "source": [
    "Transpose of a matrix is supported"
   ]
  },
  {
   "cell_type": "code",
   "execution_count": 20,
   "metadata": {},
   "outputs": [
    {
     "output_type": "execute_result",
     "data": {
      "text/plain": "<IPython.core.display.Latex object>",
      "text/latex": "\\begin{gather*}\\begin{vmatrix} 1 &  a \\\\ 2 &  1 \\\\ 3 &  x \\\\ 4 &  y \\end{vmatrix}\\end{gather*}"
     },
     "metadata": {},
     "execution_count": 20
    }
   ],
   "source": [
    "m = Matrix(mtx, surround='||')\n",
    "latex(m.T)"
   ]
  },
  {
   "cell_type": "markdown",
   "metadata": {},
   "source": [
    "## Matrix with Dots\n",
    "\n",
    "Many times we have Matrices defined as series of numbers in its rows and columns. The remaining elements are replaced with dots. `MatrixWithDots` provides this funcitonality"
   ]
  },
  {
   "cell_type": "code",
   "execution_count": 21,
   "metadata": {
    "tags": []
   },
   "outputs": [
    {
     "output_type": "execute_result",
     "data": {
      "text/plain": "<IPython.core.display.Latex object>",
      "text/latex": "\\begin{gather*}\\begin{bmatrix} 1 &  2 &  3 &  \\cdots &  n \\\\ \\vdots &  \\vdots &  \\vdots &  \\ddots &  \\vdots \\\\ -1 &  -2 &  -3 &  \\cdots &  -n \\end{bmatrix}\\end{gather*}"
     },
     "metadata": {},
     "execution_count": 21
    }
   ],
   "source": [
    "from nbtex import MatrixWithDots\n",
    "\n",
    "mtx = [\n",
    "    [1,2,3,'n'],\n",
    "    [-1, -2, -3, '-n']\n",
    "]\n",
    "latex(MatrixWithDots(mtx))"
   ]
  },
  {
   "cell_type": "markdown",
   "metadata": {},
   "source": [
    "All columns for each row till `len(row)-1` are placed at the beginning. The last column is placed at the end of the row in the matrix\n",
    "\n",
    "You can provide a shape to manipulate the number of extra dots in rows and columns  "
   ]
  },
  {
   "cell_type": "code",
   "execution_count": 25,
   "metadata": {
    "tags": []
   },
   "outputs": [
    {
     "output_type": "execute_result",
     "data": {
      "text/plain": "<IPython.core.display.Latex object>",
      "text/latex": "\\begin{gather*}\\begin{bmatrix} 1 &  2 &  3 &  \\cdots &  \\cdots &  \\cdots &  \\cdots &  n \\\\ \\vdots &  \\vdots &  \\vdots &  \\vdots &  \\vdots &  \\vdots &  \\vdots &  \\vdots \\\\ \\vdots &  \\vdots &  \\vdots &  \\vdots &  \\vdots &  \\vdots &  \\vdots &  \\vdots \\\\ \\vdots &  \\vdots &  \\vdots &  \\vdots &  \\vdots &  \\vdots &  \\ddots &  \\vdots \\\\ -1 &  -2 &  \\cdots &  \\cdots &  \\cdots &  \\cdots &  \\cdots &  -n \\end{bmatrix}\\end{gather*}"
     },
     "metadata": {},
     "execution_count": 25
    }
   ],
   "source": [
    "# 5 rows, 8 columns\n",
    "latex(MatrixWithDots(mtx, (5,8)))\n"
   ]
  },
  {
   "cell_type": "markdown",
   "metadata": {},
   "source": [
    "The list passed to `MatrixWithDots` can have different sized lists as elements too."
   ]
  },
  {
   "cell_type": "code",
   "execution_count": 26,
   "metadata": {},
   "outputs": [
    {
     "output_type": "execute_result",
     "data": {
      "text/plain": "<IPython.core.display.Latex object>",
      "text/latex": "\\begin{gather*}\\begin{bmatrix} 1 &  2 &  3 &  \\cdots &  n \\\\ \\vdots &  \\vdots &  \\vdots &  \\ddots &  \\vdots \\\\ -1 &  -2 &  \\cdots &  \\cdots &  -n \\end{bmatrix}\\end{gather*}"
     },
     "metadata": {},
     "execution_count": 26
    }
   ],
   "source": [
    "mtx = [\n",
    "    [1,2,3,'n'],\n",
    "    [-1,-2,'-n']\n",
    "]\n",
    "latex(MatrixWithDots(mtx))"
   ]
  },
  {
   "cell_type": "markdown",
   "metadata": {},
   "source": [
    "Arguments `power`, `surround` and `subscript` can be passed to `MatrixWithDots` and work similar to `Matrix`\n",
    "\n",
    "A bigger example:\n",
    "\n",
    "**NOTE:** `differentiate` is method in `Var` to provide derivates.  \n",
    "`partial_differentiate` also exists and is similar"
   ]
  },
  {
   "cell_type": "code",
   "execution_count": 27,
   "metadata": {},
   "outputs": [
    {
     "output_type": "execute_result",
     "data": {
      "text/plain": "<IPython.core.display.Latex object>",
      "text/latex": "\\begin{gather*}\\begin{bmatrix} \\frac{d}{dx_1} \\left(\\vec{\\mathbf{f}}\\right) &  \\cdots &  \\frac{d}{dx_n} \\left(\\vec{\\mathbf{f}}\\right) \\end{bmatrix}\\end{gather*}"
     },
     "metadata": {},
     "execution_count": 27
    }
   ],
   "source": [
    "from nbtex import MatrixWithDots, makeVector, makeVar\n",
    "# Jacobian matrix\n",
    "\n",
    "f, J = makeVector('f', 'J')\n",
    "f1, fm = makeVar('f_1', 'f_m')\n",
    "mtx = [\n",
    "    [f.differentiate('x_1'), f.differentiate('x_n')]\n",
    "]\n",
    "\n",
    "latex(MatrixWithDots(mtx))"
   ]
  },
  {
   "cell_type": "code",
   "execution_count": 28,
   "metadata": {},
   "outputs": [
    {
     "output_type": "execute_result",
     "data": {
      "text/plain": "<IPython.core.display.Latex object>",
      "text/latex": "\\begin{gather*}\\vec{\\mathbf{J}} = \\begin{bmatrix} \\frac{d}{dx_1} \\left(\\vec{\\mathbf{f}}\\right) &  \\cdots &  \\frac{d}{dx_n} \\left(\\vec{\\mathbf{f}}\\right) \\end{bmatrix}\\end{gather*}"
     },
     "metadata": {},
     "execution_count": 28
    }
   ],
   "source": [
    "op1 = J.equals(MatrixWithDots(mtx))\n",
    "latex(op1)"
   ]
  },
  {
   "cell_type": "code",
   "execution_count": 29,
   "metadata": {},
   "outputs": [
    {
     "output_type": "execute_result",
     "data": {
      "text/plain": "<IPython.core.display.Latex object>",
      "text/latex": "\\begin{gather*}\\vec{\\mathbf{J}} = \\begin{bmatrix} \\frac{d}{dx_1} \\left(\\vec{\\mathbf{f}}\\right) &  \\cdots &  \\frac{d}{dx_n} \\left(\\vec{\\mathbf{f}}\\right) \\end{bmatrix} = \\begin{bmatrix} \\frac{d}{dx_1} \\left(\\vec{\\mathbf{f}}\\right) &  \\cdots &  \\frac{df_1}{dx_n} \\\\ \\vdots &  \\ddots &  \\vdots \\\\ \\frac{df_m}{dx_1} &  \\cdots &  \\frac{df_m}{dx_n} \\end{bmatrix}\\end{gather*}"
     },
     "metadata": {},
     "execution_count": 29
    }
   ],
   "source": [
    "full_matrix = [\n",
    "    [f.differentiate('x_1'), f1.differentiate('x_n')],\n",
    "    [fm.differentiate('x_1'), fm.differentiate('x_n')]\n",
    "]\n",
    "matrix = MatrixWithDots(full_matrix, shape=(3,3))\n",
    "op = J.equals(MatrixWithDots(mtx)).equals(matrix)\n",
    "latex(op)"
   ]
  },
  {
   "cell_type": "markdown",
   "metadata": {},
   "source": [
    "Transpose of dotted matrices is **not** supported"
   ]
  }
 ],
 "metadata": {
  "kernelspec": {
   "display_name": "Python 3.8.5 64-bit",
   "language": "python",
   "name": "python_defaultSpec_1599569212671"
  },
  "language_info": {
   "codemirror_mode": {
    "name": "ipython",
    "version": 3
   },
   "file_extension": ".py",
   "mimetype": "text/x-python",
   "name": "python",
   "nbconvert_exporter": "python",
   "pygments_lexer": "ipython3",
   "version": "3.8.5-final"
  }
 },
 "nbformat": 4,
 "nbformat_minor": 4
}