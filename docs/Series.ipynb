{
 "cells": [
  {
   "cell_type": "markdown",
   "metadata": {},
   "source": [
    "## Summation and Product"
   ]
  },
  {
   "cell_type": "code",
   "execution_count": 6,
   "metadata": {},
   "outputs": [],
   "source": [
    "from nbtex import makeVar, latex\n",
    "f, x, _2 = makeVar('f', 'x', 2)"
   ]
  },
  {
   "cell_type": "markdown",
   "metadata": {},
   "source": [
    "`sum_over` is an example of a method/operator that does not have an inverse. So the expression itself is returned."
   ]
  },
  {
   "cell_type": "code",
   "execution_count": 15,
   "metadata": {},
   "outputs": [
    {
     "output_type": "execute_result",
     "data": {
      "text/plain": "<IPython.core.display.Latex object>",
      "text/latex": "\\begin{gather*}f(x) = \\sum_{x=1}^{2} {\\left(x ^ 3 + 2 \\hspace{1mm} x\\right)}\\end{gather*}"
     },
     "metadata": {},
     "execution_count": 15
    }
   ],
   "source": [
    "op = f(x).equals((x**3 + _2|x).sum_over('x', 1, 2))\n",
    "latex(op)"
   ]
  },
  {
   "cell_type": "code",
   "execution_count": 16,
   "metadata": {},
   "outputs": [
    {
     "output_type": "execute_result",
     "data": {
      "text/plain": "<IPython.core.display.Latex object>",
      "text/latex": "\\begin{gather*}\\sum_{x} {x ^ 2}\\end{gather*}"
     },
     "metadata": {},
     "execution_count": 16
    }
   ],
   "source": [
    "# inverse not defined so returns the same expression on inversion\n",
    "latex(~(x**2).sum_over('x'))"
   ]
  },
  {
   "cell_type": "markdown",
   "metadata": {},
   "source": [
    "`|` is space operator. In case you want some space between your variables "
   ]
  },
  {
   "cell_type": "code",
   "execution_count": 17,
   "metadata": {},
   "outputs": [
    {
     "output_type": "execute_result",
     "data": {
      "text/plain": "<IPython.core.display.Latex object>",
      "text/latex": "\\begin{gather*}f(x) = \\prod_{x=1}^{2}  {\\left(x ^ 3 + 2 \\hspace{1mm} x\\right)}\\end{gather*}"
     },
     "metadata": {},
     "execution_count": 17
    }
   ],
   "source": [
    "op = f(x).equals((x**3 + _2|x).product_over('x', 1, 2))\n",
    "latex(op)"
   ]
  }
 ],
 "metadata": {
  "kernelspec": {
   "display_name": "Python 3.8.3 64-bit ('base': conda)",
   "language": "python",
   "name": "python_defaultSpec_1598871943844"
  },
  "language_info": {
   "codemirror_mode": {
    "name": "ipython",
    "version": 3
   },
   "file_extension": ".py",
   "mimetype": "text/x-python",
   "name": "python",
   "nbconvert_exporter": "python",
   "pygments_lexer": "ipython3",
   "version": "3.8.3-final"
  }
 },
 "nbformat": 4,
 "nbformat_minor": 4
}