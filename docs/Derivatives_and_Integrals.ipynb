{
 "cells": [
  {
   "cell_type": "markdown",
   "metadata": {},
   "source": [
    "## Derivatives\n",
    "\n",
    "methods used to create derivative: `Var.differentiate(wrt)` and `Var.partial_differentiate(wrt)`"
   ]
  },
  {
   "cell_type": "code",
   "execution_count": 1,
   "metadata": {},
   "outputs": [
    {
     "output_type": "execute_result",
     "data": {
      "text/plain": "<IPython.core.display.Latex object>",
      "text/latex": "\\begin{gather*}\\frac{df}{dx}\\end{gather*}"
     },
     "metadata": {},
     "execution_count": 1
    }
   ],
   "source": [
    "from nbtex import makeVar, latex\n",
    "\n",
    "f = makeVar('f')\n",
    "latex(f.differentiate('x'))"
   ]
  },
  {
   "cell_type": "code",
   "execution_count": 2,
   "metadata": {},
   "outputs": [
    {
     "output_type": "execute_result",
     "data": {
      "text/plain": "<IPython.core.display.Latex object>",
      "text/latex": "\\begin{gather*}\\frac{\\partial f}{\\partial x}\\end{gather*}"
     },
     "metadata": {},
     "execution_count": 2
    }
   ],
   "source": [
    "latex(f.partial_differentiate('x'))"
   ]
  },
  {
   "cell_type": "code",
   "execution_count": 5,
   "metadata": {},
   "outputs": [
    {
     "output_type": "execute_result",
     "data": {
      "text/plain": "<IPython.core.display.Latex object>",
      "text/latex": "\\begin{gather*}f(x) = x ^ 2 + 3 * x + 1\\end{gather*}"
     },
     "metadata": {},
     "execution_count": 5
    }
   ],
   "source": [
    "x, _3 = makeVar('x', 3)\n",
    "op = f(x).equals(x**2 + _3*x + 1)\n",
    "latex(op)"
   ]
  },
  {
   "cell_type": "code",
   "execution_count": 9,
   "metadata": {},
   "outputs": [
    {
     "output_type": "execute_result",
     "data": {
      "text/plain": "<IPython.core.display.Latex object>",
      "text/latex": "\\begin{gather*}\\frac{df}{dx} = 2 * x + 3\\end{gather*}"
     },
     "metadata": {},
     "execution_count": 9
    }
   ],
   "source": [
    "_2 = makeVar(2)\n",
    "latex(f.differentiate('x').equals(_2*x + _3))"
   ]
  },
  {
   "cell_type": "markdown",
   "metadata": {},
   "source": [
    "## Integrals\n",
    "\n",
    "`Var.integrate_over(wrt, lower, upper)` and `Var.partial_integrate_over(wrt, lower, upper)` will help create integrals"
   ]
  },
  {
   "cell_type": "code",
   "execution_count": 31,
   "metadata": {},
   "outputs": [
    {
     "output_type": "execute_result",
     "data": {
      "text/plain": "<IPython.core.display.Latex object>",
      "text/latex": "\\begin{gather*}\\int_{1}^{10}{\\left(x ^ 2 + 3 * x + 1\\right)} \\hspace{1mm} {dx}\\end{gather*}"
     },
     "metadata": {},
     "execution_count": 31
    }
   ],
   "source": [
    "op = (x**2 + _3*x + 1).integral_over('x', 1, 10)\n",
    "latex(op)"
   ]
  },
  {
   "cell_type": "code",
   "execution_count": 33,
   "metadata": {},
   "outputs": [
    {
     "output_type": "execute_result",
     "data": {
      "text/plain": "<IPython.core.display.Latex object>",
      "text/latex": "\\begin{gather*}\\int_{1}^{10}{f(x)} \\hspace{1mm} {dx} = \\int_{1}^{10}{\\left(x ^ 2 + 3 * x + 1\\right)} \\hspace{1mm} {dx}\\end{gather*}"
     },
     "metadata": {},
     "execution_count": 33
    }
   ],
   "source": [
    "op1 = f(x).integral_over('x',1,10).equals(op)\n",
    "latex(op1)"
   ]
  },
  {
   "cell_type": "code",
   "execution_count": 36,
   "metadata": {},
   "outputs": [
    {
     "output_type": "execute_result",
     "data": {
      "text/plain": "<IPython.core.display.Latex object>",
      "text/latex": "\\begin{gather*}\\int_{1}^{10}{f(x)} \\hspace{1mm} {dx} = \\int_{1}^{10}{\\left(x ^ 2 + 3 * x + 1\\right)} \\hspace{1mm} {dx} = \\frac{x ^ 3}{3} + \\frac{\\left(3 \\hspace{1mm} x ^ 2\\right)}{2} + x\\end{gather*}"
     },
     "metadata": {},
     "execution_count": 36
    }
   ],
   "source": [
    "op2 = op1.equals((x**3 / 3) + (_3|(x**2))/2 + x)\n",
    "latex(op2)"
   ]
  }
 ],
 "metadata": {
  "kernelspec": {
   "display_name": "Python 3.8.3 64-bit ('base': conda)",
   "language": "python",
   "name": "python_defaultSpec_1598871717527"
  },
  "language_info": {
   "codemirror_mode": {
    "name": "ipython",
    "version": 3
   },
   "file_extension": ".py",
   "mimetype": "text/x-python",
   "name": "python",
   "nbconvert_exporter": "python",
   "pygments_lexer": "ipython3",
   "version": "3.8.3-final"
  }
 },
 "nbformat": 4,
 "nbformat_minor": 4
}