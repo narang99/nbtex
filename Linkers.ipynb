{
 "cells": [
  {
   "cell_type": "code",
   "execution_count": null,
   "metadata": {},
   "outputs": [],
   "source": [
    "#export\n",
    "from exp.Variables import makeVar"
   ]
  },
  {
   "cell_type": "code",
   "execution_count": null,
   "metadata": {},
   "outputs": [],
   "source": [
    "#export\n",
    "class BinaryFunc():\n",
    "    def __init__(self, mid, a1, a2):\n",
    "        self._mid = mid\n",
    "        self.a1, self.a2 = makeVar(a1, a2)\n",
    "    def build(self):\n",
    "        if self._mid is None:\n",
    "            raise Exception('middle operator string not set')\n",
    "        return f'{self.a1.build()}{self._mid}{self.a2.build()}'\n",
    "                \n",
    "class FracFunc():\n",
    "    def __init__(self, num, den):\n",
    "        self.num, self.den = makeVar(num, den)\n",
    "    def build(self):\n",
    "        return (r\"\\frac{\" + \n",
    "                self.num.build() + r\"}{\" + self.den.build() + r\"}\")\n",
    "class RootFunc():\n",
    "    def __init__(self, num, root):\n",
    "        self.num, self.root = makeVar(num, root)\n",
    "    def build(self):\n",
    "        return(r\"\\sqrt[\\leftroot{-1}\\uproot{1}\" + self.root.build() \n",
    "               + r\"]{\" + self.num.build() + r\"}\")\n",
    "    \n",
    "class IntegralFunc():\n",
    "    def __init__(self, lower, upper, func):\n",
    "        self.lower, self.upper, self.func = lower, upper, func\n",
    "    def build(self):\n",
    "        pass\n",
    "    \n",
    "class FuncApplication():\n",
    "    def __init__(self, f, *args):\n",
    "        self.f = makeVar(f)\n",
    "        self.args = makeVar(*args)\n",
    "        \n",
    "    def build(self):\n",
    "        if len(self.args) == 0: return 'f()'\n",
    "        s = 'f('\n",
    "        for arg in self.args:\n",
    "            s += arg.build() + ','\n",
    "        s = s[:-1]\n",
    "        return s + ')'"
   ]
  },
  {
   "cell_type": "code",
   "execution_count": null,
   "metadata": {},
   "outputs": [],
   "source": [
    "! ./notebook2script.py ./Linkers.ipynb"
   ]
  },
  {
   "cell_type": "markdown",
   "metadata": {},
   "source": []
  }
 ],
 "metadata": {
  "kernelspec": {
   "display_name": "Python 3",
   "language": "python",
   "name": "python3"
  },
  "language_info": {
   "codemirror_mode": {
    "name": "ipython",
    "version": 3
   },
   "file_extension": ".py",
   "mimetype": "text/x-python",
   "name": "python",
   "nbconvert_exporter": "python",
   "pygments_lexer": "ipython3",
   "version": "3.8.3"
  }
 },
 "nbformat": 4,
 "nbformat_minor": 4
}
