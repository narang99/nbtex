{
 "cells": [
  {
   "cell_type": "code",
   "execution_count": null,
   "metadata": {},
   "outputs": [],
   "source": [
    "#export\n",
    "from exp.Variables import makeVar, Var\n",
    "\n",
    "class Sum(Var):\n",
    "    def __init__(self, func, it='i', lower=None, upper=None):\n",
    "        super().__init__('summation')\n",
    "        self.it = makeVar(it)\n",
    "        self.f = makeVar(func)\n",
    "        self.lower, self.upper = lower, upper\n",
    "    def __call__(self):\n",
    "        # non callable\n",
    "        pass\n",
    "    def build(self):\n",
    "        lower = ''\n",
    "        if self.lower is not None:\n",
    "            l = makeVar(self.lower)\n",
    "            lower = r\"_{\" + self.it.build() + \"=\" + l.build() + \"}\"\n",
    "        else:\n",
    "            lower = r\"_{\" + self.it.build() + \"}\"\n",
    "        upper = ''\n",
    "        if self.upper is not None:\n",
    "            u = makeVar(self.upper)\n",
    "            upper = r\"^\" + r\"{\" + u.build() + \"}\"\n",
    "        else: upper = ''\n",
    "        return r\"\\sum\" + lower + upper + ' ' + self.f.build()"
   ]
  },
  {
   "cell_type": "code",
   "execution_count": null,
   "metadata": {},
   "outputs": [],
   "source": [
    "#export\n",
    "class Partial(Var):\n",
    "    def __init__(self, wrt):\n",
    "        super().__init__(wrt)\n",
    "    def build(self):\n",
    "        return r\"\\frac{\\partial}{\\partial \" + self.name + \"}\""
   ]
  },
  {
   "cell_type": "code",
   "execution_count": null,
   "metadata": {},
   "outputs": [],
   "source": [
    "! ./notebook2script.py ./Functions.ipynb"
   ]
  }
 ],
 "metadata": {
  "kernelspec": {
   "display_name": "Python 3",
   "language": "python",
   "name": "python3"
  },
  "language_info": {
   "codemirror_mode": {
    "name": "ipython",
    "version": 3
   },
   "file_extension": ".py",
   "mimetype": "text/x-python",
   "name": "python",
   "nbconvert_exporter": "python",
   "pygments_lexer": "ipython3",
   "version": "3.8.3"
  }
 },
 "nbformat": 4,
 "nbformat_minor": 4
}
