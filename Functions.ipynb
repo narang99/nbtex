{
 "cells": [
  {
   "cell_type": "code",
   "execution_count": null,
   "metadata": {},
   "outputs": [],
   "source": [
    "#export\n",
    "from exp.Variables import *\n",
    "from exp.helpers import varArgFunc\n",
    "\n",
    "class Sum(Var):\n",
    "    def __init__(self, func, it='i', lower=None, upper=None):\n",
    "        super().__init__('summation')\n",
    "        self.it = makeVar(it)\n",
    "        self.f = makeVar(func)\n",
    "        self.lower, self.upper = lower, upper\n",
    "    # non callable\n",
    "    def __call__(self):\n",
    "        raise Exception('summation is non callable')\n",
    "    def build(self):\n",
    "        lower = ''\n",
    "        if self.lower is not None:\n",
    "            l = makeVar(self.lower)\n",
    "            lower = r\"_{\" + self.it.build() + \"=\" + l.build() + \"}\"\n",
    "        else:\n",
    "            lower = r\"_{\" + self.it.build() + \"}\"\n",
    "        upper = ''\n",
    "        if self.upper is not None:\n",
    "            u = makeVar(self.upper)\n",
    "            upper = r\"^\" + r\"{\" + u.build() + \"}\"\n",
    "        else: upper = ''\n",
    "        return r\"\\sum\" + lower + upper + ' ' + self.f.build()"
   ]
  },
  {
   "cell_type": "code",
   "execution_count": null,
   "metadata": {},
   "outputs": [],
   "source": [
    "#export\n",
    "class Partial(Var):\n",
    "    def __init__(self, wrt, degree=1):\n",
    "        super().__init__('partial')\n",
    "        self.degree, self.wrt = makeVar(degree, wrt)\n",
    "    def __str__(self):\n",
    "        return f\"partial wrt {self.wrt.build()} degree {self.degree.build()}\"\n",
    "    def build(self):\n",
    "        deg = ('^{' + self.degree.build()) + '}' if self.degree.build() != '1' else ''\n",
    "        return r\"\\frac{\\partial\" + deg + \"}{\\partial\" + deg + r\" \" + self.wrt.build() + r\"}\"\n",
    "#         return r\"\\frac{\\partial\" + deg + \"}{\\partial\" + deg + r\" \\left(\" + self.wrt.build() + r\"\\right)}\"\n",
    "\n",
    "def makePartials(*args):\n",
    "    return varArgFunc(lambda arg: Partial(*arg) if not isinstance(arg, Partial) else arg, *args)\n",
    "\n",
    "class Derivative(Var):\n",
    "    def __init__(self, wrt, degree=1):\n",
    "        super().__init__(wrt)\n",
    "        self.degree = makeVar(degree)\n",
    "    def build(self):\n",
    "        deg = ('^{' + makeVar(self.degree).build()) + '}' if self.degree != 1 else ''\n",
    "        return r\"\\frac{d\" + deg + \"}{d\" + deg + \" \" + self.name + \"}\"\n",
    "\n",
    "def makeDerivatives(*args):\n",
    "    return varArgFunc(lambda arg: (Derivative(*arg) if not isinstance(arg, Derivative) \n",
    "                                   else arg), *args)"
   ]
  },
  {
   "cell_type": "code",
   "execution_count": null,
   "metadata": {},
   "outputs": [],
   "source": [
    "from exp.Variables import MatrixWithDots, Var, Vector, wrap, makeVar, makeVector, Matrix\n",
    "from exp.Greek import Greek as G\n",
    "\n",
    "f, o, t = makeVar( 'f', 1, 2)\n",
    "v = makeVector(G.pi)\n",
    "delp = makePartials((v,))\n",
    "wrap(f(v) @ Matrix([[pow(v,2), v], [delp | pow(v,2)+v+1, 1]]))"
   ]
  },
  {
   "cell_type": "code",
   "execution_count": null,
   "metadata": {},
   "outputs": [],
   "source": [
    "v = Vector('v')\n",
    "isinstance(v, Var)"
   ]
  },
  {
   "cell_type": "code",
   "execution_count": null,
   "metadata": {},
   "outputs": [],
   "source": [
    "px, py = makeDerivatives((Var('x'),), ('y',2))\n",
    "wrap(px | 'f(x)' | py)"
   ]
  },
  {
   "cell_type": "code",
   "execution_count": null,
   "metadata": {},
   "outputs": [],
   "source": [
    "f,x,s = makeVar('f', 'x', 's')\n",
    "derx, ders = Derivative('x',1), Derivative('s',2)\n",
    "\n",
    "m1 = ders | derx | f(x,s)\n",
    "wrap(m1)"
   ]
  },
  {
   "cell_type": "code",
   "execution_count": null,
   "metadata": {},
   "outputs": [],
   "source": [
    "a = Var('a')\n",
    "a,b,c,d,e,g = makeVar('a','bb','c','d','e','g')\n",
    "m = MatrixWithDots([[1,2,3,4], [1,2]], (5,7))"
   ]
  },
  {
   "cell_type": "markdown",
   "metadata": {},
   "source": [
    "{{wrap(a+b)}}\n",
    "{{wrap(c+d)}}\n",
    "{{wrap(m)}}"
   ]
  },
  {
   "cell_type": "code",
   "execution_count": null,
   "metadata": {},
   "outputs": [],
   "source": [
    "wrap(a + 'a' * 2)"
   ]
  },
  {
   "cell_type": "code",
   "execution_count": null,
   "metadata": {},
   "outputs": [],
   "source": [
    "! ./notebook2script.py ./Functions.ipynb"
   ]
  }
 ],
 "metadata": {
  "kernelspec": {
   "display_name": "Python 3",
   "language": "python",
   "name": "python3"
  },
  "language_info": {
   "codemirror_mode": {
    "name": "ipython",
    "version": 3
   },
   "file_extension": ".py",
   "mimetype": "text/x-python",
   "name": "python",
   "nbconvert_exporter": "python",
   "pygments_lexer": "ipython3",
   "version": "3.8.3"
  }
 },
 "nbformat": 4,
 "nbformat_minor": 4
}
