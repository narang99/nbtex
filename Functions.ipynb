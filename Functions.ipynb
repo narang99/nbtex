{
 "cells": [
  {
   "cell_type": "code",
   "execution_count": null,
   "metadata": {},
   "outputs": [],
   "source": [
    "#export\n",
    "from exp.Variables import *\n",
    "\n",
    "class Sum(Var):\n",
    "    def __init__(self, func, it='i', lower=None, upper=None):\n",
    "        super().__init__('summation')\n",
    "        self.it = makeVar(it)\n",
    "        self.f = makeVar(func)\n",
    "        self.lower, self.upper = lower, upper\n",
    "    # non callable\n",
    "    def __call__(self):\n",
    "        pass\n",
    "    def build(self):\n",
    "        lower = ''\n",
    "        if self.lower is not None:\n",
    "            l = makeVar(self.lower)\n",
    "            lower = r\"_{\" + self.it.build() + \"=\" + l.build() + \"}\"\n",
    "        else:\n",
    "            lower = r\"_{\" + self.it.build() + \"}\"\n",
    "        upper = ''\n",
    "        if self.upper is not None:\n",
    "            u = makeVar(self.upper)\n",
    "            upper = r\"^\" + r\"{\" + u.build() + \"}\"\n",
    "        else: upper = ''\n",
    "        return r\"\\sum\" + lower + upper + ' ' + self.f.build()"
   ]
  },
  {
   "cell_type": "code",
   "execution_count": null,
   "metadata": {},
   "outputs": [],
   "source": [
    "#export\n",
    "class Partial(Var):\n",
    "    def __init__(self, wrt, degree=1):\n",
    "        super().__init__(wrt)\n",
    "        self.degree = degree\n",
    "    def build(self):\n",
    "        deg = ('^{' + makeVar(self.degree).build()) + '}' if self.degree != 1 else ''\n",
    "        return r\"\\frac{\\partial\" + deg + \"}{\\partial\" + deg + \" \" + self.name + \"}\"\n",
    "\n",
    "class Derivative(Var):\n",
    "    def __init__(self, wrt, degree=1):\n",
    "        super().__init__(wrt)\n",
    "        self.degree = degree\n",
    "    def build(self):\n",
    "        deg = ('^{' + makeVar(self.degree).build()) + '}' if self.degree != 1 else ''\n",
    "        return r\"\\frac{d\" + deg + \"}{d\" + deg + \" \" + self.name + \"}\""
   ]
  },
  {
   "cell_type": "code",
   "execution_count": null,
   "metadata": {},
   "outputs": [],
   "source": [
    "a = Var('a')\n",
    "wrap(a |a+ 'a' * 1)"
   ]
  },
  {
   "cell_type": "code",
   "execution_count": null,
   "metadata": {},
   "outputs": [],
   "source": [
    "wrap(a + 'a' * 2)"
   ]
  },
  {
   "cell_type": "code",
   "execution_count": null,
   "metadata": {},
   "outputs": [],
   "source": [
    "! ./notebook2script.py ./Functions.ipynb"
   ]
  }
 ],
 "metadata": {
  "kernelspec": {
   "display_name": "Python 3",
   "language": "python",
   "name": "python3"
  },
  "language_info": {
   "codemirror_mode": {
    "name": "ipython",
    "version": 3
   },
   "file_extension": ".py",
   "mimetype": "text/x-python",
   "name": "python",
   "nbconvert_exporter": "python",
   "pygments_lexer": "ipython3",
   "version": "3.8.3"
  }
 },
 "nbformat": 4,
 "nbformat_minor": 4
}
