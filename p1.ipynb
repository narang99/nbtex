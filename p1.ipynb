{
 "cells": [
  {
   "cell_type": "code",
   "execution_count": 1,
   "metadata": {},
   "outputs": [],
   "source": [
    "from exp.Variables import MatrixWithDots, Var, Vector, wrap, makeVar, makeVector, Matrix\n",
    "from exp.Symbols import PyTexSymbols as pts\n",
    "from exp.Functions import makePartials, Partial, makeDerivatives"
   ]
  },
  {
   "cell_type": "code",
   "execution_count": 2,
   "metadata": {},
   "outputs": [],
   "source": [
    "f, o, t = makeVar( 'f', 1, 2)\n",
    "v = makeVector('V')\n",
    "delp = makePartials((v,))"
   ]
  },
  {
   "cell_type": "code",
   "execution_count": 3,
   "metadata": {},
   "outputs": [
    {
     "data": {
      "text/latex": [
       "\\begin{gather}f(\\vec{\\mathbf{V}}) = \\begin{bmatrix} \\vec{\\mathbf{V}}^2 &  \\vec{\\mathbf{V}} \\\\ \\frac{\\partial}{\\partial \\vec{\\mathbf{V}}}\\hspace{1mm}\\vec{\\mathbf{V}}^2 + \\vec{\\mathbf{V}} + 1 &  1 \\end{bmatrix}\\end{gather}"
      ],
      "text/plain": [
       "<IPython.core.display.Latex object>"
      ]
     },
     "execution_count": 3,
     "metadata": {},
     "output_type": "execute_result"
    }
   ],
   "source": [
    "wrap(f(v) @ Matrix([[pow(v,2), v], [delp | pow(v,2)+v+1, 1]]))"
   ]
  },
  {
   "cell_type": "markdown",
   "metadata": {},
   "source": [
    "$$\n",
    "\\begin{gather}\n",
    "\\mathbf{\\partial}\\\\\n",
    "\\partial\n",
    "\\end{gather}\n",
    "$$"
   ]
  }
 ],
 "metadata": {
  "kernelspec": {
   "display_name": "Python 3",
   "language": "python",
   "name": "python3"
  },
  "language_info": {
   "codemirror_mode": {
    "name": "ipython",
    "version": 3
   },
   "file_extension": ".py",
   "mimetype": "text/x-python",
   "name": "python",
   "nbconvert_exporter": "python",
   "pygments_lexer": "ipython3",
   "version": "3.8.3"
  }
 },
 "nbformat": 4,
 "nbformat_minor": 4
}
