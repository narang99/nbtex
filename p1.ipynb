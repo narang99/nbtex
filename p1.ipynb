{
 "cells": [
  {
   "cell_type": "code",
   "execution_count": null,
   "metadata": {},
   "outputs": [],
   "source": [
    "a = r\"\"\"\\begin{eqnarray}\n",
    "abla \\times \\vec{\\mathbf{B}} -\\, \\frac1c\\, \\frac{\\partial\\vec{\\mathbf{E}}}{\\partial t} & = \\frac{4\\pi}{c}\\vec{\\mathbf{j}} \\\\\n",
    "abla \\cdot \\vec{\\mathbf{E}} & = 4 \\pi \\rho \\\\\n",
    "abla \\times \\vec{\\mathbf{E}}\\, +\\, \\frac1c\\, \\frac{\\partial\\vec{\\mathbf{B}}}{\\partial t} & = \\vec{\\mathbf{0}} \\\\\n",
    "abla \\cdot \\vec{\\mathbf{B}} & = 0 \n",
    "\\end{eqnarray}\"\"\""
   ]
  },
  {
   "cell_type": "markdown",
   "metadata": {},
   "source": [
    "{{a}}\n",
    "\n",
    "$\\vec{\\mathbf{B}}$"
   ]
  },
  {
   "cell_type": "markdown",
   "metadata": {},
   "source": [
    "$\\frac{\\partial}{\\partial x} x + 2$"
   ]
  },
  {
   "cell_type": "code",
   "execution_count": null,
   "metadata": {},
   "outputs": [],
   "source": [
    "# from IPython.display import Latex"
   ]
  },
  {
   "cell_type": "code",
   "execution_count": null,
   "metadata": {},
   "outputs": [],
   "source": [
    "# def makeVar(*args):\n",
    "#     if len(args) == 1: \n",
    "#         return Var(str(args[0])) if not isinstance(args[0], Var) else args[0]\n",
    "#     vs = []\n",
    "#     for arg in args:\n",
    "#         vs.append(Var(str(arg))) if not isinstance(arg, Var) else vs.append(arg)\n",
    "#     return vs"
   ]
  },
  {
   "cell_type": "code",
   "execution_count": null,
   "metadata": {},
   "outputs": [],
   "source": [
    "# class BinaryFunc():\n",
    "#     def __init__(self, mid, a1, a2):\n",
    "#         self._mid = mid\n",
    "#         self.a1, self.a2 = makeVar(a1, a2)\n",
    "#     def build(self):\n",
    "#         if self._mid is None:\n",
    "#             raise Exception('middle operator string not set')\n",
    "#         return f'{self.a1.build()}{self._mid}{self.a2.build()}'\n",
    "                \n",
    "# class FracFunc():\n",
    "#     def __init__(self, num, den):\n",
    "#         self.num, self.den = makeVar(num, den)\n",
    "#     def build(self):\n",
    "#         return (r\"\\frac{\" + \n",
    "#                 self.num.build() + r\"}{\" + self.den.build() + r\"}\")\n",
    "# class RootFunc():\n",
    "#     def __init__(self, num, root):\n",
    "#         self.num, self.root = makeVar(num, root)\n",
    "#     def build(self):\n",
    "#         return(r\"\\sqrt[\\leftroot{-1}\\uproot{1}\" + self.root.build() \n",
    "#                + r\"]{\" + self.num.build() + r\"}\")\n",
    "    \n",
    "# class IntegralFunc():\n",
    "#     def __init__(self, lower, upper, func):\n",
    "#         self.lower, self.upper, self.func = lower, upper, func\n",
    "#     def build(self):\n",
    "#         pass\n",
    "    \n",
    "# class FuncApplication():\n",
    "#     def __init__(self, f, *args):\n",
    "#         self.f = makeVar(f)\n",
    "#         self.args = makeVar(*args)\n",
    "        \n",
    "#     def build(self):\n",
    "#         if len(self.args) == 0: return 'f()'\n",
    "#         s = 'f('\n",
    "#         for arg in self.args:\n",
    "#             s += arg.build() + ','\n",
    "#         s = s[:-1]\n",
    "#         return s + ')'"
   ]
  },
  {
   "cell_type": "code",
   "execution_count": null,
   "metadata": {},
   "outputs": [],
   "source": [
    "# class Var():\n",
    "#     def __init__(self, name):\n",
    "#         self._name = str(name)\n",
    "#         self._fn = None\n",
    "#         self._latex = None\n",
    "        \n",
    "#     @property\n",
    "#     def name(self): return self._name\n",
    "#     @name.setter\n",
    "#     def name(self, n): self._name = n\n",
    "#     def setName(self, n): \n",
    "#         self._name = n\n",
    "#         return self\n",
    "        \n",
    "#     @property\n",
    "#     def back(self): return self._fn\n",
    "#     @back.setter\n",
    "#     def back(self, fn): self._fn = fn\n",
    "      \n",
    "#     def __str__(self): return self._name\n",
    "#     def __repr__(self): return self.__str__()\n",
    "    \n",
    "#     def apply(self, f, *args):\n",
    "#         n = Var('temp')\n",
    "#         n.back = f(*args)\n",
    "#         return n\n",
    "    \n",
    "#     def __add__(self, other):\n",
    "#         return self.apply(BinaryFunc, ' + ', self, other)\n",
    "#     def __sub__(self, other):\n",
    "#         return self.apply(BinaryFunc, ' - ', self, other)\n",
    "#     def __mul__(self, other):\n",
    "#         return self.apply(BinaryFunc, ' * ', self, other)\n",
    "#     def __xor__(self, other):\n",
    "#         return self.apply(BinaryFunc, '^', self, other)\n",
    "#     def __pow__(self, other):\n",
    "#         return self.apply(BinaryFunc, '^', self, other)\n",
    "#     def equals(self, other):\n",
    "#         return self.apply(BinaryFunc, ' = ', self, other)\n",
    "#     def __or__(self, other):\n",
    "#         return self.apply(BinaryFunc, ' = ', self, other)\n",
    "    \n",
    "#     def root(self, other):\n",
    "#         return self.apply(RootFunc, self, other)\n",
    "#     def __truediv__(self, other):\n",
    "#         return self.apply(FracFunc, self, other)\n",
    "    \n",
    "#     def build(self):\n",
    "#         return self.name if self._fn is None else self._fn.build()\n",
    "        \n",
    "#     def func_appl(self, *others):\n",
    "#         return self.apply(FuncApplication, self, *others)\n",
    "#     def __call__(self, *others):\n",
    "#         return self.apply(FuncApplication, self, *others)\n",
    "    \n",
    "# def MultiVar(*args):\n",
    "#     return [Var(ele) for ele in args]\n",
    "\n",
    "# def addEnv(s, env='gather'):\n",
    "#     env = '{' + env + '}'\n",
    "#     return r'\\begin' + env + str(s) + r'\\end' + env\n",
    "\n",
    "# def wrap(s):\n",
    "#     return Latex(addEnv(s))\n",
    "\n",
    "# def func(f, *args):\n",
    "#     f = makeVar(f)\n",
    "#     args = makeVar(*args)\n",
    "#     return f.func_appl(*args)\n"
   ]
  },
  {
   "cell_type": "code",
   "execution_count": null,
   "metadata": {},
   "outputs": [],
   "source": [
    "class Vector(Var):\n",
    "    def __init__(self, name):\n",
    "        super().__init__(r\"\\vec{\\mathbf{\" + name +\"}}\")"
   ]
  },
  {
   "cell_type": "code",
   "execution_count": null,
   "metadata": {},
   "outputs": [],
   "source": [
    "wrap(Vector('A').build())"
   ]
  },
  {
   "cell_type": "code",
   "execution_count": null,
   "metadata": {},
   "outputs": [],
   "source": [
    "# class MatrixBuilder():\n",
    "#     def __init__(self):\n",
    "#         self.matrix, self.cols = [], None\n",
    "        \n",
    "#     def add(self, *args):\n",
    "#         if self.cols is None:\n",
    "#             self.cols = len(args)\n",
    "#         elif not self.cols == len(args):\n",
    "#             raise Exception(f'Different dimensions for matrix builder. dim1:{self.cols} dim2:{len(args)}')\n",
    "#         self.matrix.append(list(args))\n",
    "#         return self\n",
    "        \n",
    "#     def create(self, subscript=None, power=None, surround='[]'):\n",
    "#         return Matrix(self.matrix, subscript, power, surround)"
   ]
  },
  {
   "cell_type": "code",
   "execution_count": null,
   "metadata": {},
   "outputs": [],
   "source": [
    "# class Matrix(Var):\n",
    "#     def __init__(self, matrix=[], subscript=None, power=None, surround='[]'):\n",
    "#         super().__init__('matrix')\n",
    "#         self.matrix, self.surround = matrix, surround\n",
    "#         self.power = makeVar(power) if power is not None else power\n",
    "#         self.subscript = makeVar(subscript) if subscript is not None else subscript\n",
    "        \n",
    "#     def __len__(self):\n",
    "#         return self.rows\n",
    "    \n",
    "#     @staticmethod\n",
    "#     def builder():\n",
    "#         return MatrixBuilder()\n",
    "        \n",
    "#     def T(self):\n",
    "#         if len(self.matrix) == 0: return self\n",
    "#         elif(not isinstance(self.matrix[0], list)):\n",
    "#             rows, cols = len(self.matrix), 1\n",
    "#             matrix = [[ele] for ele in self.matrix]\n",
    "#             self.matrix = matrix\n",
    "#         else:\n",
    "#             rows, cols = len(self.matrix), len(self.matrix[0])\n",
    "#             matrix = [[0]*rows]*cols\n",
    "#             matrix = [[self.matrix[j][i] for j in range(rows)] for i in range(cols)]\n",
    "#             self.matrix=matrix\n",
    "#         return self\n",
    "        \n",
    "#     def build(self): \n",
    "#         env = (r'{bmatrix}' if self.surround == '[]' \n",
    "#                else r'{pmatrix}' if self.surround == '()'\n",
    "#                else r'{matrix}')\n",
    "#         begin = r'\\begin' + env\n",
    "#         end = r'\\end' + env\n",
    "#         if len(self.matrix) == 0: return begin + end\n",
    "        \n",
    "#         s = ''\n",
    "#         if not isinstance(self.matrix[0], list):\n",
    "#             # it is a vector\n",
    "#             for ele in self.matrix:\n",
    "#                 ele = makeVar(ele)\n",
    "#                 s += ' ' + ele.build() + ' & '\n",
    "#             s = s[:-2]\n",
    "#         else:\n",
    "#             for row in self.matrix:\n",
    "#                 for ele in row:\n",
    "#                     ele = makeVar(ele)\n",
    "#                     s += ' ' + ele.build() + ' & '\n",
    "#                 s = s[:-2] + r\"\\\\\"\n",
    "#             s = s[:-2]\n",
    "#         p = '^{' + self.power.build() + '}' if self.power is not None else ''\n",
    "#         subs = '_{' + self.subscript.build() + '}' if self.subscript is not None else ''\n",
    "#         return (r\"\" + begin + s + end  + p + subs + r\"\")    "
   ]
  },
  {
   "cell_type": "code",
   "execution_count": null,
   "metadata": {},
   "outputs": [],
   "source": [
    "# class Sum(Var):\n",
    "#     def __init__(self, func, it='i', lower=None, upper=None):\n",
    "#         super().__init__('summation')\n",
    "#         self.it = makeVar(it)\n",
    "#         self.f = makeVar(func)\n",
    "#         self.lower, self.upper = lower, upper\n",
    "#     def __call__(self):\n",
    "#         # non callable\n",
    "#         pass\n",
    "#     def build(self):\n",
    "#         lower = ''\n",
    "#         if self.lower is not None:\n",
    "#             l = makeVar(self.lower)\n",
    "#             lower = r\"_{\" + self.it.build() + \"=\" + l.build() + \"}\"\n",
    "#         else:\n",
    "#             lower = r\"_{\" + self.it.build() + \"}\"\n",
    "#         upper = ''\n",
    "#         if self.upper is not None:\n",
    "#             u = makeVar(self.upper)\n",
    "#             upper = r\"^\" + u.build()\n",
    "#         else: upper = ''\n",
    "#         return r\"\\sum\" + lower + upper + ' ' + self.f.build()"
   ]
  },
  {
   "cell_type": "code",
   "execution_count": null,
   "metadata": {},
   "outputs": [],
   "source": []
  },
  {
   "cell_type": "code",
   "execution_count": null,
   "metadata": {},
   "outputs": [],
   "source": [
    "# f = Var('f')('x', 'y')\n",
    "# wrap(Sum(f, lower=1, upper='n').build())"
   ]
  },
  {
   "cell_type": "code",
   "execution_count": null,
   "metadata": {},
   "outputs": [],
   "source": [
    "from exp.Variables import *\n",
    "from exp.Functions import Sum, Partial"
   ]
  },
  {
   "cell_type": "code",
   "execution_count": null,
   "metadata": {},
   "outputs": [],
   "source": [
    "a, b, c = makeVar('a', 'b', 'c')"
   ]
  },
  {
   "cell_type": "code",
   "execution_count": null,
   "metadata": {},
   "outputs": [],
   "source": [
    "(a + b + c).build()"
   ]
  },
  {
   "cell_type": "code",
   "execution_count": null,
   "metadata": {},
   "outputs": [],
   "source": [
    "x = Var('x')\n",
    "f = pow(x, 2) + x + 2\n",
    "wrap(Sum(f, x, 12,4))"
   ]
  },
  {
   "cell_type": "code",
   "execution_count": null,
   "metadata": {},
   "outputs": [],
   "source": [
    "wrap(Matrix([[1,2,3], ['a', 'b', 'c']]).T())"
   ]
  },
  {
   "cell_type": "code",
   "execution_count": null,
   "metadata": {},
   "outputs": [],
   "source": [
    "wrap(Partial('x'))"
   ]
  }
 ],
 "metadata": {
  "kernelspec": {
   "display_name": "Python 3",
   "language": "python",
   "name": "python3"
  },
  "language_info": {
   "codemirror_mode": {
    "name": "ipython",
    "version": 3
   },
   "file_extension": ".py",
   "mimetype": "text/x-python",
   "name": "python",
   "nbconvert_exporter": "python",
   "pygments_lexer": "ipython3",
   "version": "3.8.3"
  }
 },
 "nbformat": 4,
 "nbformat_minor": 4
}
