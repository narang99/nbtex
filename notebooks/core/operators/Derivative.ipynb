{
 "metadata": {
  "language_info": {
   "codemirror_mode": {
    "name": "ipython",
    "version": 3
   },
   "file_extension": ".py",
   "mimetype": "text/x-python",
   "name": "python",
   "nbconvert_exporter": "python",
   "pygments_lexer": "ipython3",
   "version": "3.8.3-final"
  },
  "orig_nbformat": 2,
  "kernelspec": {
   "name": "python_defaultSpec_1598867467256",
   "display_name": "Python 3.8.3 64-bit ('base': conda)"
  }
 },
 "nbformat": 4,
 "nbformat_minor": 2,
 "cells": [
  {
   "cell_type": "code",
   "execution_count": 11,
   "metadata": {},
   "outputs": [],
   "source": [
    "#export\n",
    "from nbtex.core.operators.Operator import InvertibleOperator\n",
    "from nbtex.LatexInterface.LatexFormatters import LatexSeriesFormatter, LatexDerivativesFormatter\n",
    "from nbtex.core.Precedence import PRECEDENCE"
   ]
  },
  {
   "cell_type": "code",
   "execution_count": 12,
   "metadata": {},
   "outputs": [],
   "source": [
    "#export\n",
    "def inv_integral(function, wrt, lower='', upper=''):\n",
    "    return LatexDerivativesFormatter.derivative_of(function, wrt)\n",
    "\n",
    "Integral =  InvertibleOperator(PRECEDENCE.POWER, \n",
    "                               LatexSeriesFormatter.integral, \n",
    "                               inv_integral)\n",
    "Derivative = ~Integral\n",
    "\n",
    "def inv_partial(function, wrt, lower='', upper=''):\n",
    "    return LatexDerivativesFormatter.partial_of(function, wrt)\n",
    "\n",
    "PartialIntegral = InvertibleOperator(PRECEDENCE.POWER,\n",
    "                                     LatexSeriesFormatter.partial_integral, \n",
    "                                     inv_partial)\n",
    "PartialDerivative = ~PartialIntegral"
   ]
  },
  {
   "cell_type": "code",
   "execution_count": null,
   "metadata": {},
   "outputs": [],
   "source": [
    "! python3 ../../notebook2script.py Derivative.ipynb"
   ]
  }
 ]
}