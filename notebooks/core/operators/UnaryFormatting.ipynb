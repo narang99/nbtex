{
 "metadata": {
  "language_info": {
   "codemirror_mode": {
    "name": "ipython",
    "version": 3
   },
   "file_extension": ".py",
   "mimetype": "text/x-python",
   "name": "python",
   "nbconvert_exporter": "python",
   "pygments_lexer": "ipython3",
   "version": "3.8.3-final"
  },
  "orig_nbformat": 2,
  "kernelspec": {
   "name": "python_defaultSpec_1598872249069",
   "display_name": "Python 3.8.3 64-bit ('base': conda)"
  }
 },
 "nbformat": 4,
 "nbformat_minor": 2,
 "cells": [
  {
   "cell_type": "code",
   "execution_count": 1,
   "metadata": {},
   "outputs": [],
   "source": [
    "#export\n",
    "from nbtex.core.operators.Operator import InvertibleOperator\n",
    "from nbtex.core.Precedence import PRECEDENCE\n",
    "from nbtex.LatexInterface.LatexFormatters import LatexBasicFormatter"
   ]
  },
  {
   "cell_type": "code",
   "execution_count": 2,
   "metadata": {},
   "outputs": [],
   "source": [
    "#export\n",
    "def make_subscript(base, subs):\n",
    "    return base + LatexBasicFormatter.subscript(subs)\n",
    "Subscript = InvertibleOperator(PRECEDENCE.POWER, make_subscript)\n",
    "Bold = InvertibleOperator(PRECEDENCE.POWER, LatexBasicFormatter.bold)\n",
    "Italics = InvertibleOperator(PRECEDENCE.POWER, LatexBasicFormatter.italics)\n",
    "Underline = InvertibleOperator(PRECEDENCE.POWER, LatexBasicFormatter.underline)"
   ]
  },
  {
   "cell_type": "code",
   "execution_count": 6,
   "metadata": {
    "tags": []
   },
   "outputs": [
    {
     "output_type": "stream",
     "name": "stdout",
     "text": "l_a \\textbf{a} \\textit{a} \\underline{k}\n"
    }
   ],
   "source": [
    "print(Subscript('l', 'a'), Bold('a'), Italics('a'), Underline('k'))"
   ]
  },
  {
   "cell_type": "code",
   "execution_count": null,
   "metadata": {},
   "outputs": [],
   "source": [
    "!python3 ../../notebook2script.py UnaryFormatting.ipynb"
   ]
  },
  {
   "cell_type": "code",
   "execution_count": null,
   "metadata": {},
   "outputs": [],
   "source": []
  },
  {
   "cell_type": "code",
   "execution_count": null,
   "metadata": {},
   "outputs": [],
   "source": []
  }
 ]
}