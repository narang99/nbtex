{
 "metadata": {
  "language_info": {
   "codemirror_mode": {
    "name": "ipython",
    "version": 3
   },
   "file_extension": ".py",
   "mimetype": "text/x-python",
   "name": "python",
   "nbconvert_exporter": "python",
   "pygments_lexer": "ipython3",
   "version": "3.8.3-final"
  },
  "orig_nbformat": 2,
  "kernelspec": {
   "name": "python_defaultSpec_1598866535794",
   "display_name": "Python 3.8.3 64-bit ('base': conda)"
  }
 },
 "nbformat": 4,
 "nbformat_minor": 2,
 "cells": [
  {
   "cell_type": "code",
   "execution_count": 18,
   "metadata": {},
   "outputs": [],
   "source": [
    "#export\n",
    "from nbtex.LatexInterface.LatexFormatters import LatexBasicFormatter\n",
    "from functools import partial"
   ]
  },
  {
   "cell_type": "code",
   "execution_count": 10,
   "metadata": {},
   "outputs": [],
   "source": [
    "#export\n",
    "class BasicOperator:\n",
    "    def __init__(self, precedence, combine):\n",
    "         self._precedence, self._combine = precedence, combine\n",
    "    def __call__(self, *args):\n",
    "        return self._combine(*args)\n",
    "    @property\n",
    "    def precedence(self):\n",
    "        return self._precedence"
   ]
  },
  {
   "cell_type": "code",
   "execution_count": 11,
   "metadata": {},
   "outputs": [],
   "source": [
    "#export\n",
    "class InvertibleOperator(BasicOperator):\n",
    "    def __init__(self, precedence, combine, invert_combine=None):\n",
    "        super().__init__(precedence, combine)\n",
    "        self._invert_combine = invert_combine\n",
    "        \n",
    "    def __call__(self, *args):\n",
    "        return super().__call__(*args)\n",
    "    \n",
    "    def __invert__(self):\n",
    "        if self._invert_combine is not None:\n",
    "            return InvertibleOperator(self.precedence, self._invert_combine, self._combine)\n",
    "        else:\n",
    "            return self\n"
   ]
  },
  {
   "cell_type": "code",
   "execution_count": 20,
   "metadata": {},
   "outputs": [],
   "source": [
    "#export\n",
    "def infix_combine(op):\n",
    "    return partial(LatexBasicFormatter.binary_operation_output, op)\n",
    "\n",
    "class InvertibleInfixOperator(InvertibleOperator):\n",
    "    def __init__(self, precedence, op, invert_op=None):\n",
    "        c, invc = infix_combine(op), infix_combine(invert_op)\n",
    "        if invert_op is None: \n",
    "            super().__init__(precedence, c)\n",
    "        else: \n",
    "            super().__init__(precedence, c, invc)"
   ]
  },
  {
   "cell_type": "code",
   "execution_count": 24,
   "metadata": {},
   "outputs": [
    {
     "output_type": "execute_result",
     "data": {
      "text/plain": "'1 + 2'"
     },
     "metadata": {},
     "execution_count": 24
    }
   ],
   "source": [
    "! python3 ../../../notebook2script.py BasicOperat"
   ]
  }
 ]
}