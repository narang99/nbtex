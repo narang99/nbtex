{
 "metadata": {
  "language_info": {
   "codemirror_mode": {
    "name": "ipython",
    "version": 3
   },
   "file_extension": ".py",
   "mimetype": "text/x-python",
   "name": "python",
   "nbconvert_exporter": "python",
   "pygments_lexer": "ipython3",
   "version": "3.8.3-final"
  },
  "orig_nbformat": 2,
  "kernelspec": {
   "name": "python_defaultSpec_1598867373936",
   "display_name": "Python 3.8.3 64-bit ('base': conda)"
  }
 },
 "nbformat": 4,
 "nbformat_minor": 2,
 "cells": [
  {
   "cell_type": "code",
   "execution_count": 11,
   "metadata": {},
   "outputs": [],
   "source": [
    "#export\n",
    "from nbtex.core.operators.Operator import BasicOperator, InvertibleInfixOperator, InvertibleOperator, infix_combine\n",
    "from nbtex.core.Precedence import PRECEDENCE\n",
    "from nbtex.LatexInterface import Operator, LatexBasicFormatter"
   ]
  },
  {
   "cell_type": "code",
   "execution_count": 12,
   "metadata": {},
   "outputs": [],
   "source": [
    "#export\n",
    "Plus = InvertibleInfixOperator(PRECEDENCE.ARITHMATIC_ADD, Operator.plus, Operator.minus)\n",
    "Minus = ~Plus\n",
    "Equal = InvertibleInfixOperator(PRECEDENCE.EQUALITY, Operator.eq, Operator.neq)\n",
    "LessThan = InvertibleInfixOperator(PRECEDENCE.COMPARE, Operator.lt, Operator.nless)\n",
    "LessThanEqual = InvertibleInfixOperator(PRECEDENCE.COMPARE, Operator.leq, Operator.nleq)\n",
    "GreaterThan = InvertibleInfixOperator(PRECEDENCE.COMPARE, Operator.gt, Operator.ngtr)\n",
    "GreaterThanEqual = InvertibleInfixOperator(PRECEDENCE.COMPARE, Operator.geq, Operator.ngeq)\n",
    "Space = InvertibleInfixOperator(PRECEDENCE.EQUALITY, Operator.space)"
   ]
  },
  {
   "cell_type": "code",
   "execution_count": 13,
   "metadata": {},
   "outputs": [],
   "source": [
    "#export\n",
    "Negate = InvertibleOperator(PRECEDENCE.POWER, \n",
    "                            LatexBasicFormatter.negate, \n",
    "                            LatexBasicFormatter.unnegate)"
   ]
  },
  {
   "cell_type": "code",
   "execution_count": 14,
   "metadata": {},
   "outputs": [],
   "source": [
    "#export\n",
    "mult_combine = infix_combine(Operator.multiply)\n",
    "frac_combine = LatexBasicFormatter.fraction\n",
    "\n",
    "Multiply = InvertibleOperator(PRECEDENCE.ARITHMATIC_MULT, mult_combine, frac_combine)\n",
    "Fraction = ~Multiply"
   ]
  },
  {
   "cell_type": "code",
   "execution_count": 15,
   "metadata": {},
   "outputs": [],
   "source": [
    "#export\n",
    "power_combine = infix_combine(Operator.power)\n",
    "\n",
    "Power = InvertibleOperator(PRECEDENCE.POWER, power_combine, LatexBasicFormatter.root)\n",
    "Root = ~Power"
   ]
  },
  {
   "cell_type": "code",
   "execution_count": 16,
   "metadata": {
    "tags": []
   },
   "outputs": [
    {
     "output_type": "stream",
     "name": "stdout",
     "text": "Traceback (most recent call last):\n  File \"../../notebook2script.py\", line 3, in <module>\n    import json,fire,re\nModuleNotFoundError: No module named 'fire'\n"
    }
   ],
   "source": [
    "! python3 ../../notebook2script.py Operator.ipynb"
   ]
  },
  {
   "cell_type": "code",
   "execution_count": 8,
   "metadata": {},
   "outputs": [
    {
     "output_type": "execute_result",
     "data": {
      "text/plain": "'\\\\frac{1}{2}'"
     },
     "metadata": {},
     "execution_count": 8
    }
   ],
   "source": [
    "(~Multiply)('1', '2')"
   ]
  }
 ]
}