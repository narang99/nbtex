{
 "metadata": {
  "language_info": {
   "codemirror_mode": {
    "name": "ipython",
    "version": 3
   },
   "file_extension": ".py",
   "mimetype": "text/x-python",
   "name": "python",
   "nbconvert_exporter": "python",
   "pygments_lexer": "ipython3",
   "version": "3.8.3-final"
  },
  "orig_nbformat": 2,
  "kernelspec": {
   "name": "python_defaultSpec_1598867690818",
   "display_name": "Python 3.8.3 64-bit ('base': conda)"
  }
 },
 "nbformat": 4,
 "nbformat_minor": 2,
 "cells": [
  {
   "cell_type": "code",
   "execution_count": 8,
   "metadata": {},
   "outputs": [],
   "source": [
    "#export\n",
    "from nbtex.core.operators.Operator import InvertibleOperator\n",
    "from nbtex.LatexInterface.LatexFormatters import LatexSeriesFormatter\n",
    "from nbtex.core.Precedence import PRECEDENCE"
   ]
  },
  {
   "cell_type": "code",
   "execution_count": 9,
   "metadata": {},
   "outputs": [],
   "source": [
    "#export\n",
    "Summation = InvertibleOperator(PRECEDENCE.POWER, \n",
    "                               LatexSeriesFormatter.summation)\n",
    "\n",
    "Product = InvertibleOperator(PRECEDENCE.POWER,\n",
    "                             LatexSeriesFormatter.product)"
   ]
  },
  {
   "cell_type": "code",
   "execution_count": null,
   "metadata": {},
   "outputs": [],
   "source": [
    "! python3 ../../notebook2script.py Series.ipynb"
   ]
  }
 ]
}