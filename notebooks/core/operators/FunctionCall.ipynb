{
 "metadata": {
  "language_info": {
   "codemirror_mode": {
    "name": "ipython",
    "version": 3
   },
   "file_extension": ".py",
   "mimetype": "text/x-python",
   "name": "python",
   "nbconvert_exporter": "python",
   "pygments_lexer": "ipython3",
   "version": "3.8.3-final"
  },
  "orig_nbformat": 2,
  "kernelspec": {
   "name": "python_defaultSpec_1598868765092",
   "display_name": "Python 3.8.3 64-bit ('base': conda)"
  }
 },
 "nbformat": 4,
 "nbformat_minor": 2,
 "cells": [
  {
   "cell_type": "code",
   "execution_count": 6,
   "metadata": {},
   "outputs": [],
   "source": [
    "#export\n",
    "from nbtex.LatexInterface.LatexFormatters import LatexBasicFormatter\n",
    "from nbtex.core.operators import InvertibleOperator\n",
    "from nbtex.core.Precedence import PRECEDENCE"
   ]
  },
  {
   "cell_type": "code",
   "execution_count": 7,
   "metadata": {},
   "outputs": [],
   "source": [
    "#export\n",
    "f_combine = LatexBasicFormatter.function_definition\n",
    "inv_f_combine = LatexBasicFormatter.inverse_function_definition\n",
    "\n",
    "FunctionCall = InvertibleOperator(PRECEDENCE.POWER, f_combine, inv_f_combine)"
   ]
  },
  {
   "cell_type": "code",
   "execution_count": 12,
   "metadata": {
    "tags": []
   },
   "outputs": [
    {
     "output_type": "stream",
     "name": "stdout",
     "text": "Traceback (most recent call last):\n  File \"../../notebook2script.py\", line 3, in <module>\n    import json,fire,re\nModuleNotFoundError: No module named 'fire'\n"
    }
   ],
   "source": [
    "!python3 ../../notebook2script.py FunctionCall.ipynb"
   ]
  },
  {
   "cell_type": "code",
   "execution_count": 11,
   "metadata": {},
   "outputs": [
    {
     "output_type": "execute_result",
     "data": {
      "text/plain": "'x(1, 2, a)'"
     },
     "metadata": {},
     "execution_count": 11
    }
   ],
   "source": [
    "FunctionCall('x', '1', '2', 'a')"
   ]
  }
 ]
}