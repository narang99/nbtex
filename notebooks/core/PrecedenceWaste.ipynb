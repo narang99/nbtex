{
 "cells": [
  {
   "cell_type": "code",
   "execution_count": 2,
   "metadata": {},
   "outputs": [],
   "source": [
    "class Precedence():\n",
    "    def __init__(self):\n",
    "        self.precedence = precedence\n",
    "    def __gt__(self, other):\n",
    "        return self.precedence > other.precedence\n",
    "    def __le__(self, other):\n",
    "        return not self.__gt__(other)\n",
    "    \n",
    "    def __lt__(self, other):\n",
    "        return self.precedence < other.precedence\n",
    "    def __ge__(self, other):\n",
    "        return not self.__lt__(other)\n",
    "    \n",
    "    def __eq__(self, other):\n",
    "        return self.precedence == other.precedence\n",
    "    def __ne__(self, other):\n",
    "        return not self.__eq__(other)"
   ]
  },
  {
   "cell_type": "code",
   "execution_count": null,
   "metadata": {},
   "outputs": [],
   "source": [
    "\n"
   ]
  }
 ],
 "metadata": {
  "kernelspec": {
   "display_name": "Python 3",
   "language": "python",
   "name": "python3"
  },
  "language_info": {
   "codemirror_mode": {
    "name": "ipython",
    "version": 3
   },
   "file_extension": ".py",
   "mimetype": "text/x-python",
   "name": "python",
   "nbconvert_exporter": "python",
   "pygments_lexer": "ipython3",
   "version": "3.8.3"
  }
 },
 "nbformat": 4,
 "nbformat_minor": 4
}
