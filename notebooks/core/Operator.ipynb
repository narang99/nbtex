{
 "cells": [
  {
   "cell_type": "code",
   "execution_count": 1,
   "metadata": {},
   "outputs": [],
   "source": [
    "#export\n",
    "from pytex.core.Precedence import PRECEDENCE\n",
    "from pytex.LatexInterface.LatexFormatters import LatexBasicFormatter\n",
    "from pytex.LatexInterface import Operator\n",
    "from functools import partial\n",
    "from pytex.LatexInterface.LatexFormatters import LatexSeriesFormatter, LatexDerivativesFormatter"
   ]
  },
  {
   "cell_type": "code",
   "execution_count": 2,
   "metadata": {},
   "outputs": [],
   "source": [
    "#export\n",
    "class BasicOperator:\n",
    "    def __init__(self, precedence, combine):\n",
    "         self._precedence, self._combine = precedence, combine\n",
    "    def __call__(self, *args):\n",
    "        return self._combine(*args)\n",
    "    @property\n",
    "    def precedence(self):\n",
    "        return self._precedence"
   ]
  },
  {
   "cell_type": "code",
   "execution_count": 3,
   "metadata": {},
   "outputs": [],
   "source": [
    "#export\n",
    "class InvertibleOperator(BasicOperator):\n",
    "    def __init__(self, precedence, combine, invert_combine=None):\n",
    "        super().__init__(precedence, combine)\n",
    "        self._invert_combine = invert_combine\n",
    "        \n",
    "    def __call__(self, *args):\n",
    "        return super().__call__(*args)\n",
    "    \n",
    "    def __invert__(self):\n",
    "        if self._invert_combine is not None:\n",
    "            return InvertibleOperator(self.precedence, self._invert_combine, self._combine)\n",
    "        else:\n",
    "            return self\n",
    "\n",
    "def _infix_combine(op):\n",
    "    return partial(LatexBasicFormatter.binary_operation_output, op)\n",
    "\n",
    "class InvertibleInfixOperator(InvertibleOperator):\n",
    "    def __init__(self, precedence, op, invert_op=None):\n",
    "        c, invc = _infix_combine(op), _infix_combine(invert_op)\n",
    "        if invert_op is None: \n",
    "            super().__init__(precedence, c)\n",
    "        else: \n",
    "            super().__init__(precedence, c, invc)"
   ]
  },
  {
   "cell_type": "code",
   "execution_count": 4,
   "metadata": {},
   "outputs": [],
   "source": [
    "#export\n",
    "Plus = InvertibleInfixOperator(PRECEDENCE.ARITHMATIC_ADD, Operator.plus)\n",
    "Minus = InvertibleInfixOperator(PRECEDENCE.ARITHMATIC_ADD, Operator.minus)\n",
    "Equal = InvertibleInfixOperator(PRECEDENCE.EQUALITY, Operator.eq, Operator.neq)\n",
    "LessThan = InvertibleInfixOperator(PRECEDENCE.COMPARE, Operator.lt, Operator.nless)\n",
    "LessThanEqual = InvertibleInfixOperator(PRECEDENCE.COMPARE, Operator.leq, Operator.nleq)\n",
    "GreaterThan = InvertibleInfixOperator(PRECEDENCE.COMPARE, Operator.gt, Operator.ngtr)\n",
    "GreaterThanEqual = InvertibleInfixOperator(PRECEDENCE.COMPARE, Operator.geq, Operator.ngeq)\n",
    "Space = InvertibleInfixOperator(PRECEDENCE.EQUALITY, Operator.space)"
   ]
  },
  {
   "cell_type": "code",
   "execution_count": 5,
   "metadata": {},
   "outputs": [],
   "source": [
    "#export\n",
    "Negate = InvertibleOperator(PRECEDENCE.POWER, \n",
    "                            LatexBasicFormatter.negate, \n",
    "                            LatexBasicFormatter.unnegate)"
   ]
  },
  {
   "cell_type": "code",
   "execution_count": 6,
   "metadata": {},
   "outputs": [
    {
     "data": {
      "text/plain": [
       "'1'"
      ]
     },
     "execution_count": 6,
     "metadata": {},
     "output_type": "execute_result"
    }
   ],
   "source": [
    "(~Negate)('-1')"
   ]
  },
  {
   "cell_type": "code",
   "execution_count": 36,
   "metadata": {},
   "outputs": [],
   "source": [
    "#export\n",
    "mult_combine = _infix_combine(Operator.multiply)\n",
    "frac_combine = LatexBasicFormatter.fraction\n",
    "\n",
    "Multiply = InvertibleOperator(PRECEDENCE.ARITHMATIC_MULT, mult_combine, frac_combine)\n",
    "Fraction = ~Multiply"
   ]
  },
  {
   "cell_type": "code",
   "execution_count": 37,
   "metadata": {},
   "outputs": [],
   "source": [
    "#export\n",
    "power_combine = _infix_combine(Operator.power)\n",
    "\n",
    "Power = InvertibleOperator(PRECEDENCE.POWER, power_combine, LatexBasicFormatter.root)\n",
    "Root = ~Power"
   ]
  },
  {
   "cell_type": "code",
   "execution_count": 38,
   "metadata": {},
   "outputs": [
    {
     "name": "stdout",
     "output_type": "stream",
     "text": [
      "\\sqrt[\\leftroot{-1}\\uproot{1}a]{f} f ^ a\n"
     ]
    }
   ],
   "source": [
    "print(Root('f', 'a'), Power('f','a'))"
   ]
  },
  {
   "cell_type": "code",
   "execution_count": 39,
   "metadata": {},
   "outputs": [],
   "source": [
    "#export\n",
    "f_combine = LatexBasicFormatter.function_definition\n",
    "inv_f_combine = LatexBasicFormatter.inverse_function_definition\n",
    "\n",
    "FunctionCall = InvertibleOperator(PRECEDENCE.POWER, f_combine, inv_f_combine)"
   ]
  },
  {
   "cell_type": "code",
   "execution_count": 10,
   "metadata": {},
   "outputs": [],
   "source": [
    "#export\n",
    "Summation = InvertibleOperator(PRECEDENCE.POWER, \n",
    "                               LatexSeriesFormatter.summation)\n",
    "\n",
    "Product = InvertibleOperator(PRECEDENCE.POWER,\n",
    "                             LatexSeriesFormatter.product)"
   ]
  },
  {
   "cell_type": "code",
   "execution_count": 40,
   "metadata": {},
   "outputs": [],
   "source": [
    "#export\n",
    "def inv_integral(function, wrt, lower='', upper=''):\n",
    "    return LatexDerivativesFormatter.derivative_of(function, wrt)\n",
    "\n",
    "Integral =  InvertibleOperator(PRECEDENCE.POWER, \n",
    "                               LatexSeriesFormatter.integral, \n",
    "                               inv_integral)\n",
    "Derivative = ~Integral\n",
    "\n",
    "def inv_partial(function, wrt, lower='', upper=''):\n",
    "    return LatexDerivativesFormatter.partial_of(function, wrt)\n",
    "\n",
    "PartialIntegral = InvertibleOperator(PRECEDENCE.POWER,\n",
    "                                     LatexSeriesFormatter.partial_integral, \n",
    "                                     inv_partial)\n",
    "PartialDerivative = ~PartialIntegral"
   ]
  },
  {
   "cell_type": "code",
   "execution_count": 41,
   "metadata": {},
   "outputs": [
    {
     "name": "stdout",
     "output_type": "stream",
     "text": [
      "\\frac{df}{dx}\n"
     ]
    }
   ],
   "source": [
    "print((Derivative)('f', 'x', '1', '2'))"
   ]
  },
  {
   "cell_type": "markdown",
   "metadata": {},
   "source": [
    "$$\n",
    "1 \\neq 2 \\\\\n",
    "\\sqrt[\\leftroot{-1}\\uproot{1}b]{a} \\\\\n",
    "a ^ b\n",
    "$$"
   ]
  },
  {
   "cell_type": "code",
   "execution_count": 42,
   "metadata": {},
   "outputs": [
    {
     "name": "stdout",
     "output_type": "stream",
     "text": [
      "Converted /home/default/Documents/py-latex/pytex/notebooks/core/Operator.ipynb to /home/default/Documents/py-latex/pytex/pytex/core/Operator.py\r\n"
     ]
    }
   ],
   "source": [
    "! python3 ../notebook2script.py Operator.ipynb"
   ]
  }
 ],
 "metadata": {
  "kernelspec": {
   "display_name": "Python 3",
   "language": "python",
   "name": "python3"
  },
  "language_info": {
   "codemirror_mode": {
    "name": "ipython",
    "version": 3
   },
   "file_extension": ".py",
   "mimetype": "text/x-python",
   "name": "python",
   "nbconvert_exporter": "python",
   "pygments_lexer": "ipython3",
   "version": "3.8.3"
  }
 },
 "nbformat": 4,
 "nbformat_minor": 4
}
