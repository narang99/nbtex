{
 "cells": [
  {
   "cell_type": "code",
   "execution_count": 6,
   "metadata": {},
   "outputs": [],
   "source": [
    "#export\n",
    "from pytex.core.Precedence import PRECEDENCE\n",
    "from pytex.LatexInterface.LatexFormatters import LatexBasicFormatter\n",
    "from pytex.LatexInterface import Operator\n",
    "from functools import partial"
   ]
  },
  {
   "cell_type": "code",
   "execution_count": 7,
   "metadata": {},
   "outputs": [],
   "source": [
    "#export\n",
    "class BasicOperator:\n",
    "    def __init__(self, precedence, combine):\n",
    "         self._precedence, self._combine = precedence, combine\n",
    "    def __call__(self, *args):\n",
    "        return self._combine(*args)\n",
    "    @property\n",
    "    def precedence(self):\n",
    "        return self._precedence"
   ]
  },
  {
   "cell_type": "code",
   "execution_count": 8,
   "metadata": {},
   "outputs": [],
   "source": [
    "#export\n",
    "class InvertibleOperator(BasicOperator):\n",
    "    def __init__(self, precedence, combine, invert_combine=None):\n",
    "        super().__init__(precedence, combine)\n",
    "        self._invert_combine = invert_combine\n",
    "        \n",
    "    def __call__(self, *args):\n",
    "        return super().__call__(*args)\n",
    "    \n",
    "    def __invert__(self):\n",
    "        if self._invert_combine is not None:\n",
    "            return InvertibleOperator(self.precedence, self._invert_combine, self._combine)\n",
    "        else:\n",
    "            return self\n",
    "\n",
    "def _infix_combine(op):\n",
    "    return partial(LatexBasicFormatter.binary_operation_output, op)\n",
    "\n",
    "class InvertibleInfixOperator(InvertibleOperator):\n",
    "    def __init__(self, precedence, op, invert_op=None):\n",
    "        c, invc = _infix_combine(op), _infix_combine(invert_op)\n",
    "        if invert_op is None: \n",
    "            super().__init__(precedence, c)\n",
    "        else: \n",
    "            super().__init__(precedence, c, invc)"
   ]
  },
  {
   "cell_type": "code",
   "execution_count": 9,
   "metadata": {},
   "outputs": [],
   "source": [
    "#export\n",
    "Plus = InvertibleInfixOperator(PRECEDENCE.ARITHMATIC_ADD, Operator.plus)\n",
    "Minus = InvertibleInfixOperator(PRECEDENCE.ARITHMATIC_ADD, Operator.minus)\n",
    "Equal = InvertibleInfixOperator(PRECEDENCE.EQUALITY, Operator.eq, Operator.neq)\n",
    "LessThan = InvertibleInfixOperator(PRECEDENCE.COMPARE, Operator.lt, Operator.nless)\n",
    "LessThanEqual = InvertibleInfixOperator(PRECEDENCE.COMPARE, Operator.leq, Operator.nleq)\n",
    "GreaterThan = InvertibleInfixOperator(PRECEDENCE.COMPARE, Operator.gt, Operator.ngtr)\n",
    "GreaterThanEqual = InvertibleInfixOperator(PRECEDENCE.COMPARE, Operator.geq, Operator.ngeq)\n",
    "Space = InvertibleInfixOperator(PRECEDENCE.EQUALITY, Operator.space)"
   ]
  },
  {
   "cell_type": "code",
   "execution_count": 10,
   "metadata": {},
   "outputs": [],
   "source": [
    "#export\n",
    "Negate = InvertibleOperator(PRECEDENCE.POWER, \n",
    "                            LatexBasicFormatter.negate, \n",
    "                            LatexBasicFormatter.unnegate)"
   ]
  },
  {
   "cell_type": "code",
   "execution_count": 11,
   "metadata": {},
   "outputs": [
    {
     "data": {
      "text/plain": [
       "'1'"
      ]
     },
     "execution_count": 11,
     "metadata": {},
     "output_type": "execute_result"
    }
   ],
   "source": [
    "(~Negate)('-1')"
   ]
  },
  {
   "cell_type": "code",
   "execution_count": 12,
   "metadata": {},
   "outputs": [],
   "source": [
    "#export\n",
    "mult_combine = _infix_combine(Operator.multiply)\n",
    "frac_combine = LatexBasicFormatter.fraction\n",
    "\n",
    "Fraction = InvertibleOperator(PRECEDENCE.ARITHMATIC_MULT, frac_combine, mult_combine)\n",
    "Multiply = InvertibleOperator(PRECEDENCE.ARITHMATIC_MULT, mult_combine, frac_combine)"
   ]
  },
  {
   "cell_type": "code",
   "execution_count": 13,
   "metadata": {},
   "outputs": [],
   "source": [
    "#export\n",
    "power_combine = _infix_combine(Operator.power)\n",
    "Root = InvertibleOperator(PRECEDENCE.POWER, LatexBasicFormatter.root, power_combine)\n",
    "Power = InvertibleOperator(PRECEDENCE.POWER, power_combine, LatexBasicFormatter.root)"
   ]
  },
  {
   "cell_type": "code",
   "execution_count": 14,
   "metadata": {
    "scrolled": true
   },
   "outputs": [
    {
     "name": "stdout",
     "output_type": "stream",
     "text": [
      "\\frac{1}{2}\n"
     ]
    }
   ],
   "source": [
    "print ((~Multiply)('1', '2'))"
   ]
  },
  {
   "cell_type": "code",
   "execution_count": 15,
   "metadata": {},
   "outputs": [
    {
     "data": {
      "text/plain": [
       "('1 + 2', '1 - 2', '1 * 2', '1 = 2')"
      ]
     },
     "execution_count": 15,
     "metadata": {},
     "output_type": "execute_result"
    }
   ],
   "source": [
    "(~Plus)(1,2), Minus(1,2), Multiply(1,2), Equal(1,2)"
   ]
  },
  {
   "cell_type": "code",
   "execution_count": 16,
   "metadata": {},
   "outputs": [
    {
     "name": "stdout",
     "output_type": "stream",
     "text": [
      "a ^ b\n"
     ]
    }
   ],
   "source": [
    "print((~Root)('a','b'))"
   ]
  },
  {
   "cell_type": "code",
   "execution_count": 17,
   "metadata": {},
   "outputs": [
    {
     "name": "stdout",
     "output_type": "stream",
     "text": [
      "1 + 2\n"
     ]
    }
   ],
   "source": [
    "e = (~Plus)(1,2)\n",
    "print(e)"
   ]
  },
  {
   "cell_type": "markdown",
   "metadata": {},
   "source": [
    "$$\n",
    "1 \\neq 2 \\\\\n",
    "\\sqrt[\\leftroot{-1}\\uproot{1}b]{a} \\\\\n",
    "a ^ b\n",
    "$$"
   ]
  },
  {
   "cell_type": "code",
   "execution_count": 19,
   "metadata": {},
   "outputs": [
    {
     "name": "stdout",
     "output_type": "stream",
     "text": [
      "Converted /home/default/Documents/py-latex/pytex/notebooks/core/Operator.ipynb to /home/default/Documents/py-latex/pytex/pytex/core/Operator.py\r\n"
     ]
    }
   ],
   "source": [
    "! python3 ../notebook2script.py Operator.ipynb"
   ]
  }
 ],
 "metadata": {
  "kernelspec": {
   "display_name": "Python 3",
   "language": "python",
   "name": "python3"
  },
  "language_info": {
   "codemirror_mode": {
    "name": "ipython",
    "version": 3
   },
   "file_extension": ".py",
   "mimetype": "text/x-python",
   "name": "python",
   "nbconvert_exporter": "python",
   "pygments_lexer": "ipython3",
   "version": "3.8.3"
  }
 },
 "nbformat": 4,
 "nbformat_minor": 4
}
