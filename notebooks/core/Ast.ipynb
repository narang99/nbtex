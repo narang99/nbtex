{
 "cells": [
  {
   "cell_type": "code",
   "execution_count": 2,
   "metadata": {},
   "outputs": [],
   "source": [
    "#export\n",
    "import nbtex.core.operators as Operator\n",
    "from nbtex.helpers import varArgFunc\n",
    "from nbtex.core.Precedence import PRECEDENCE\n",
    "from nbtex.LatexInterface import LatexBasicFormatter\n",
    "\n",
    "class Var:\n",
    "    def __init__(self, name, backward_operation=None):\n",
    "        self._name, self._backward_operation = name, backward_operation\n",
    "    \n",
    "    @property\n",
    "    def backward_operation(self):\n",
    "        return self._backward_operation\n",
    "    \n",
    "    @property\n",
    "    def precedence(self):\n",
    "        return (PRECEDENCE.VAR \n",
    "                if self._backward_operation is None \n",
    "                else self._backward_operation.precedence)\n",
    "    \n",
    "    def build(self):\n",
    "        return (self._name \n",
    "                if self._backward_operation is None \n",
    "                else self._backward_operation.build())\n",
    "    \n",
    "    @staticmethod\n",
    "    def operation(operator, *args):\n",
    "        operation = Operation(operator)\n",
    "        args = makeVar(*args)\n",
    "        if isinstance(args, list):\n",
    "            output = Var('output', operation(*args))\n",
    "        else:\n",
    "            output = Var('output', operation(args))\n",
    "        return output\n",
    "    \n",
    "    def __invert__(self):\n",
    "        if self._backward_operation is not None:\n",
    "            self._backward_operation = self._backward_operation.__invert__()\n",
    "        return self\n",
    "        \n",
    "        \n",
    "    def __call__(self, *args):\n",
    "        return Var.operation(Operator.FunctionCall, self, *args)\n",
    "    \n",
    "    def __add__(self, other):\n",
    "        return Var.operation(Operator.Plus, self, other)\n",
    "    def __sub__(self, other):\n",
    "        return Var.operation(Operator.Minus, self, other)\n",
    "    def __mul__(self, other):\n",
    "        return Var.operation(Operator.Multiply, self, other)\n",
    "    def __pow__(self, other):\n",
    "        return Var.operation(Operator.Power, self, other)\n",
    "    def __or__(self, other):\n",
    "        return Var.operation(Operator.Space, self, other)\n",
    "    \n",
    "    def __lt__(self, other):\n",
    "        return Var.operation(Operator.LessThan, self, other)\n",
    "    def __gt__(self, other):\n",
    "        return Var.operation(Operator.GreaterThan, self, other)    \n",
    "    def __le__(self, other):\n",
    "        return Var.operation(Operator.LessThanEqual, self, other)\n",
    "    def __ge__(self, other):\n",
    "        return Var.operation(Operator.GreaterThanEqual, self, other)\n",
    "    def __eq__(self,other):\n",
    "        return Var.operation(Operator.Equal, self, other)\n",
    "    def __ne__(self,other):\n",
    "        return Var.operation(~Operator.Equal, self, other)\n",
    "    def __neg__(self):\n",
    "        return Var.operation(Operator.Negate, self)\n",
    "    def __truediv__(self, other):\n",
    "        return Var.operation(Operator.Fraction, self, other)\n",
    "    \n",
    "    def root(self, other):\n",
    "        return Var.operation(Operator.Root, self, other)\n",
    "    \n",
    "    def sum_over(self, wrt='', lower='', upper=''):\n",
    "        return Var.operation(Operator.Summation, self, wrt, lower, upper)\n",
    "    def product_over(self, wrt='', lower='', upper=''):\n",
    "        return Var.operation(Operator.Product, self, wrt, lower, upper)\n",
    "    \n",
    "    def integral_over(self, wrt='', lower='', upper=''):\n",
    "        return Var.operation(Operator.Integral, self, wrt, lower, upper)\n",
    "    def differentiate(self, wrt):\n",
    "        return Var.operation(Operator.Derivative, self, wrt)\n",
    "    \n",
    "    def partial_integral_over(self, wrt='', lower='', upper=''):\n",
    "        return Var.operation(Operator.PartialIntegral, self, wrt, lower, upper)\n",
    "    def partial_differentiate(self, wrt):\n",
    "        return Var.operation(Operator.PartialDerivative, self, wrt)\n",
    "    \n",
    "    \n",
    "def isVar(a):\n",
    "    return isinstance(a, Var)\n",
    "\n",
    "def makeVar(*args):\n",
    "    return varArgFunc(lambda arg: arg if isVar(arg) else Var(str(arg)), *args)\n",
    "\n",
    "def addEnv(s, env='gather*'):\n",
    "    env = '{' + env + '}'\n",
    "    return r'\\begin' + env + str(s) + r'\\end' + env"
   ]
  },
  {
   "cell_type": "code",
   "execution_count": 3,
   "metadata": {},
   "outputs": [],
   "source": [
    "#export\n",
    "class Operation:\n",
    "    def __init__(self, operator):\n",
    "        self._operator = operator\n",
    "        self._args = None\n",
    "    \n",
    "    @property\n",
    "    def precedence(self):\n",
    "        return self._operator.precedence\n",
    "    \n",
    "    def __call__(self, *args):\n",
    "        self._args = args\n",
    "        return self\n",
    "    \n",
    "    def _is_invertible(self, op):\n",
    "        return isinstance(op, Operator.InvertibleOperator)\n",
    "    \n",
    "    def build(self):\n",
    "        args = [self._build_and_surround(makeVar(arg)) for arg in self._args]\n",
    "        return self._operator(*args)\n",
    "    \n",
    "    def _build_and_surround(self, var_instance):\n",
    "        return (self._get_surrounded_with_parens(var_instance.build())\n",
    "               if self._should_surround_with_parens(var_instance)\n",
    "               else var_instance.build())\n",
    "    \n",
    "    def _get_surrounded_with_parens(self, string):\n",
    "        return LatexBasicFormatter.surround_with_parens(string)\n",
    "    \n",
    "    def _should_surround_with_parens(self, var_instance):\n",
    "        return (var_instance.backward_operation is not None and \n",
    "                var_instance.backward_operation.precedence < self.precedence)   \n",
    "    \n",
    "    def __invert__(self):\n",
    "        if self._is_invertible(self._operator):\n",
    "            self._operator = ~self._operator\n",
    "        return self"
   ]
  },
  {
   "cell_type": "code",
   "execution_count": 4,
   "metadata": {},
   "outputs": [
    {
     "output_type": "execute_result",
     "data": {
      "text/plain": "<IPython.core.display.Latex object>",
      "text/latex": "\\begin{gather*}a ^ b\\end{gather*}"
     },
     "metadata": {},
     "execution_count": 4
    }
   ],
   "source": [
    "from nbtex.platforms.jupyter import latex\n",
    "a, b = makeVar('a', 'b')\n",
    "latex(~(a.root(b)))"
   ]
  },
  {
   "cell_type": "code",
   "execution_count": 5,
   "metadata": {},
   "outputs": [
    {
     "output_type": "execute_result",
     "data": {
      "text/plain": "<IPython.core.display.Latex object>",
      "text/latex": "\\begin{gather*}\\frac{d}{dx} \\left(\\sqrt[\\leftroot{-1}\\uproot{1}b]{a}\\right) + -b\\end{gather*}"
     },
     "metadata": {},
     "execution_count": 5
    }
   ],
   "source": [
    "latex(a.root(b).differentiate('x') + -b)"
   ]
  },
  {
   "cell_type": "code",
   "execution_count": 6,
   "metadata": {},
   "outputs": [
    {
     "output_type": "execute_result",
     "data": {
      "text/plain": "<IPython.core.display.Latex object>",
      "text/latex": "\\begin{gather*}\\int_{1}^{n}{f(x)} \\hspace{1mm} {\\partial i}\\end{gather*}"
     },
     "metadata": {},
     "execution_count": 6
    }
   ],
   "source": [
    "f, x = makeVar('f', 'x')\n",
    "latex(f(x).partial_integral_over('i', '1', 'n'))"
   ]
  },
  {
   "cell_type": "code",
   "execution_count": 7,
   "metadata": {},
   "outputs": [
    {
     "output_type": "execute_result",
     "data": {
      "text/plain": "<IPython.core.display.Latex object>",
      "text/latex": "\\begin{gather*}a^{-1}(b)\\end{gather*}"
     },
     "metadata": {},
     "execution_count": 7
    }
   ],
   "source": [
    "latex(~a(b))"
   ]
  },
  {
   "cell_type": "code",
   "execution_count": 8,
   "metadata": {},
   "outputs": [
    {
     "output_type": "execute_result",
     "data": {
      "text/plain": "<IPython.core.display.Latex object>",
      "text/latex": "\\begin{gather*}\\frac{\\partial a}{\\partial x}\\end{gather*}"
     },
     "metadata": {},
     "execution_count": 8
    }
   ],
   "source": [
    "latex(a.partial_differentiate('x'))"
   ]
  },
  {
   "cell_type": "code",
   "execution_count": 11,
   "metadata": {
    "tags": []
   },
   "outputs": [
    {
     "output_type": "stream",
     "name": "stdout",
     "text": "Traceback (most recent call last):\n  File \"../notebook2script.py\", line 3, in <module>\n    import json,fire,re\nModuleNotFoundError: No module named 'fire'\n"
    }
   ],
   "source": [
    "! ../notebook2script.py Ast.ipynb"
   ]
  }
 ],
 "metadata": {
  "kernelspec": {
   "display_name": "Python 3.8.3 64-bit ('base': conda)",
   "language": "python",
   "name": "python_defaultSpec_1598868494031"
  },
  "language_info": {
   "codemirror_mode": {
    "name": "ipython",
    "version": 3
   },
   "file_extension": ".py",
   "mimetype": "text/x-python",
   "name": "python",
   "nbconvert_exporter": "python",
   "pygments_lexer": "ipython3",
   "version": "3.8.3-final"
  }
 },
 "nbformat": 4,
 "nbformat_minor": 4
}