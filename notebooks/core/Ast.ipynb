{
 "cells": [
  {
   "cell_type": "code",
   "execution_count": 19,
   "metadata": {},
   "outputs": [],
   "source": [
    "#export\n",
    "import pytex.core.BinaryOperator as BinaryOperator\n",
    "from pytex.helpers import varArgFunc\n",
    "from pytex.core.Precedence import PRECEDENCE\n",
    "\n",
    "class Var():\n",
    "    def __init__(self, name, backward_operation=None):\n",
    "        self._name, self._backward_operation = name, backward_operation\n",
    "    \n",
    "    @property\n",
    "    def backward_operation(self):\n",
    "        return self._backward_operation\n",
    "    \n",
    "    @property\n",
    "    def precedence(self):\n",
    "        return (PRECEDENCE.VAR \n",
    "                if self._backward_operation is None \n",
    "                else self._backward_operation.precedence)\n",
    "    \n",
    "    def build(self):\n",
    "        return (self._name \n",
    "                if self._backward_operation is None \n",
    "                else self._backward_operation.build())\n",
    "    \n",
    "    def binary_operation(self, other, operator):\n",
    "        operation = BinaryOperation(operator)\n",
    "        other = makeVar(other)\n",
    "        output = Var('output', operation(self, other))\n",
    "        return output\n",
    "    \n",
    "    def __add__(self, other):\n",
    "        return self.binary_operation(other, BinaryOperator.Plus)\n",
    "    def __sub__(self, other):\n",
    "        return self.binary_operation(other, BinaryOperator.Minus)\n",
    "    def __mul__(self, other):\n",
    "        return self.binary_operation(other, BinaryOperator.Multiply)\n",
    "    def __pow__(self, other):\n",
    "        return self.binary_operation(other, BinaryOperator.Power)\n",
    "    def __or__(self, other):\n",
    "        return self.binary_operation(other, BinaryOperator.Space)\n",
    "    \n",
    "    def lt(self, other):\n",
    "        return self.binary_operation(other, BinaryOperator.LessThan)\n",
    "    def __lt__(self, other):\n",
    "        return self.lt(other)\n",
    "    \n",
    "    def gt(self, other):\n",
    "        return self.binary_operation(other, BinaryOperator.GreaterThan)\n",
    "    def __gt__(self, other):\n",
    "        return self.gt(other)\n",
    "    \n",
    "    def le(self, other):\n",
    "        return self.binary_operation(other, BinaryOperator.LessThanEqual)\n",
    "    def __le__(self, other):\n",
    "        return self.le(other)\n",
    "    \n",
    "    def ge(self, other):\n",
    "        return self.binary_operation(other, BinaryOperator.GreaterThanEqual)\n",
    "    def __ge__(self, other):\n",
    "        return self.ge(other)\n",
    "    \n",
    "    def eq(self,other):\n",
    "        return self.binary_operation(other, BinaryOperator.Equal)\n",
    "    def ne(self,other):\n",
    "        return self.binary_operation(other, ~BinaryOperator.Equal)\n",
    "    def __eq__(self, other):\n",
    "        self.eq(other)\n",
    "    def __ne__(self, other):\n",
    "        self.ne(other)\n",
    "    \n",
    "#     def __neg__(self):\n",
    "#         return self.apply(NegateFunc(), self)\n",
    "#     def root(self, other):\n",
    "#         return self.apply(RootFunc(), self, other)\n",
    "#     def __truediv__(self, other):\n",
    "#         return self.apply(FracFunc(), self, other)\n",
    "    \n",
    "def isVar(a):\n",
    "    return isinstance(a, Var)\n",
    "\n",
    "def makeVar(*args):\n",
    "    return varArgFunc(lambda arg: arg if isVar(arg) else Var(str(arg)), *args)\n",
    "\n",
    "def addEnv(s, env='gather*'):\n",
    "    env = '{' + env + '}'\n",
    "    return r'\\begin' + env + str(s) + r'\\end' + env"
   ]
  },
  {
   "cell_type": "code",
   "execution_count": 26,
   "metadata": {},
   "outputs": [],
   "source": [
    "#export\n",
    "from pytex.LatexInterface import create_latex_for_binary_operator, surround_with_parens\n",
    "\n",
    "class Operation():\n",
    "    def __init__(self, operator):\n",
    "        self._operator = operator\n",
    "    \n",
    "    @property\n",
    "    def precedence(self):\n",
    "        return self.operator.precedence\n",
    "    \n",
    "    def __call__(self, *args):\n",
    "        raise NotImplementedError()\n",
    "    \n",
    "    def surround_if_needed(self, var_instance):\n",
    "        return (self.get_surrounded_with_parens(var_instance.build())\n",
    "               if self.should_surround_with_parens(var_instance)\n",
    "               else var_instance.build())\n",
    "    \n",
    "    def get_surrounded_with_parens(self, string):\n",
    "        return surround_with_parens(string)\n",
    "    \n",
    "    def should_surround_with_parens(self, var_instance):\n",
    "        return (var_instance.backward_operation is not None and \n",
    "                var_instance.backward_operation.precedence < self.precedence)   \n",
    "    \n",
    "    \n",
    "class BinaryOperation(Operation):\n",
    "    def __init__(self, operator):\n",
    "        super().__init__(operator)\n",
    "        self._arg1, self._arg2 = None, None\n",
    "        \n",
    "    def __call__(self, arg1, arg2):\n",
    "        self._arg1, self._arg2 = arg1, arg2\n",
    "        return self\n",
    "    \n",
    "    def build(self):\n",
    "        assert self._arg1 is not None and self._arg2 is not None, 'Call the Class to set arguments'\n",
    "        arg1, arg2 = self.surround_if_needed(self._arg1), self.surround_if_needed(self._arg2)\n",
    "        return create_latex_for_binary_operator(self._operator, arg1, arg2)\n",
    "    \n",
    "    def __invert__(self):\n",
    "        self._operator.__invert__()\n",
    "        return self"
   ]
  },
  {
   "cell_type": "code",
   "execution_count": 30,
   "metadata": {},
   "outputs": [
    {
     "name": "stdout",
     "output_type": "stream",
     "text": [
      "Converted /home/default/Documents/py-latex/pytex/notebooks/core/Ast.ipynb to /home/default/Documents/py-latex/pytex/pytex/core/Ast.py\r\n"
     ]
    }
   ],
   "source": [
    "! ../notebook2script.py Ast.ipynb"
   ]
  },
  {
   "cell_type": "code",
   "execution_count": 27,
   "metadata": {},
   "outputs": [
    {
     "data": {
      "text/latex": [
       "\\begin{gather*}a + b\\end{gather*}"
      ],
      "text/plain": [
       "<IPython.core.display.Latex object>"
      ]
     },
     "execution_count": 27,
     "metadata": {},
     "output_type": "execute_result"
    }
   ],
   "source": [
    "from pytex.platforms.jupyter import latex\n",
    "a, b, c = makeVar('a','b', 'c')\n",
    "latex(a + b)"
   ]
  }
 ],
 "metadata": {
  "kernelspec": {
   "display_name": "Python 3",
   "language": "python",
   "name": "python3"
  },
  "language_info": {
   "codemirror_mode": {
    "name": "ipython",
    "version": 3
   },
   "file_extension": ".py",
   "mimetype": "text/x-python",
   "name": "python",
   "nbconvert_exporter": "python",
   "pygments_lexer": "ipython3",
   "version": "3.8.3"
  }
 },
 "nbformat": 4,
 "nbformat_minor": 4
}
