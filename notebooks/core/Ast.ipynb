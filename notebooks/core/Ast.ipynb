{
 "cells": [
  {
   "cell_type": "code",
   "execution_count": 6,
   "metadata": {},
   "outputs": [],
   "source": [
    "#export\n",
    "import pytex.core.Operator as Operator\n",
    "from pytex.helpers import varArgFunc\n",
    "from pytex.core.Precedence import PRECEDENCE\n",
    "from pytex.LatexInterface import LatexBasicFormatter\n",
    "from pytex.core.Operator import InvertibleOperator\n",
    "\n",
    "class Var:\n",
    "    def __init__(self, name, backward_operation=None):\n",
    "        self._name, self._backward_operation = name, backward_operation\n",
    "    \n",
    "    @property\n",
    "    def backward_operation(self):\n",
    "        return self._backward_operation\n",
    "    \n",
    "    @property\n",
    "    def precedence(self):\n",
    "        return (PRECEDENCE.VAR \n",
    "                if self._backward_operation is None \n",
    "                else self._backward_operation.precedence)\n",
    "    \n",
    "    def build(self):\n",
    "        return (self._name \n",
    "                if self._backward_operation is None \n",
    "                else self._backward_operation.build())\n",
    "    \n",
    "    def operation(self, operator, *args):\n",
    "        operation = Operation(operator)\n",
    "        args = makeVar(*args)\n",
    "        if isinstance(args, list):\n",
    "            output = Var('output', operation(*args))\n",
    "        else:\n",
    "            output = Var('output', operation(args))\n",
    "        return output\n",
    "    \n",
    "    def __invert__(self):\n",
    "        if self._backward_operation is None:\n",
    "            return self\n",
    "        else:\n",
    "            return self._backward_operation.__invert__()\n",
    "        \n",
    "    def __call__(self, *args):\n",
    "        return self.operation(Operator.FunctionCall, self, *args)\n",
    "    \n",
    "    def __add__(self, other):\n",
    "        return self.operation(Operator.Plus, self, other)\n",
    "    def __sub__(self, other):\n",
    "        return self.operation(Operator.Minus, self, other)\n",
    "    def __mul__(self, other):\n",
    "        return self.operation(Operator.Multiply, self, other)\n",
    "    def __pow__(self, other):\n",
    "        return self.operation(Operator.Power, self, other)\n",
    "    def __or__(self, other):\n",
    "        return self.operation(Operator.Space, self, other)\n",
    "    \n",
    "    def __lt__(self, other):\n",
    "        return self.operation(Operator.LessThan, self, other)\n",
    "    def __gt__(self, other):\n",
    "        return self.operation(Operator.GreaterThan, self, other)    \n",
    "    def __le__(self, other):\n",
    "        return self.operation(Operator.LessThanEqual, self, other)\n",
    "    def __ge__(self, other):\n",
    "        return self.operation(Operator.GreaterThanEqual, self, other)\n",
    "    def __eq__(self,other):\n",
    "        return self.operation(Operator.Equal, self, other)\n",
    "    def __ne__(self,other):\n",
    "        return self.operation(~Operator.Equal, self, other)\n",
    "    def __neg__(self):\n",
    "        return self.operation(Operator.Negate, self)\n",
    "    def __truediv__(self, other):\n",
    "        return self.operation(Operator.Fraction, self, other)\n",
    "    \n",
    "    def root(self, other):\n",
    "        return self.operation(Operator.Root, self, other)\n",
    "    \n",
    "def isVar(a):\n",
    "    return isinstance(a, Var)\n",
    "\n",
    "def makeVar(*args):\n",
    "    return varArgFunc(lambda arg: arg if isVar(arg) else Var(str(arg)), *args)\n",
    "\n",
    "def addEnv(s, env='gather*'):\n",
    "    env = '{' + env + '}'\n",
    "    return r'\\begin' + env + str(s) + r'\\end' + env"
   ]
  },
  {
   "cell_type": "code",
   "execution_count": 8,
   "metadata": {},
   "outputs": [],
   "source": [
    "#export\n",
    "class Operation:\n",
    "    def __init__(self, operator):\n",
    "        self._operator = operator\n",
    "        self._args = None\n",
    "    \n",
    "    @property\n",
    "    def precedence(self):\n",
    "        return self._operator.precedence\n",
    "    \n",
    "    def __call__(self, *args):\n",
    "        self._args = args\n",
    "        return self\n",
    "    \n",
    "    def _is_invertible(self, op):\n",
    "        return isinstance(op, InvertibleOperator)\n",
    "    \n",
    "    def build(self):\n",
    "        args = [self._build_and_surround(makeVar(arg)) for arg in self._args]\n",
    "        return self._operator(*args)\n",
    "    \n",
    "    def _build_and_surround(self, var_instance):\n",
    "        return (self._get_surrounded_with_parens(var_instance.build())\n",
    "               if self._should_surround_with_parens(var_instance)\n",
    "               else var_instance.build())\n",
    "    \n",
    "    def _get_surrounded_with_parens(self, string):\n",
    "        return LatexStringFormatter.surround_with_parens(string)\n",
    "    \n",
    "    def _should_surround_with_parens(self, var_instance):\n",
    "        return (var_instance.backward_operation is not None and \n",
    "                var_instance.backward_operation.precedence < self.precedence)   \n",
    "    \n",
    "    def __invert__(self):\n",
    "        if self._is_invertible(self._operator):\n",
    "            self._operator = ~self._operator\n",
    "        return self"
   ]
  },
  {
   "cell_type": "code",
   "execution_count": 9,
   "metadata": {},
   "outputs": [
    {
     "data": {
      "text/latex": [
       "\\begin{gather*}a ^ b\\end{gather*}"
      ],
      "text/plain": [
       "<IPython.core.display.Latex object>"
      ]
     },
     "execution_count": 9,
     "metadata": {},
     "output_type": "execute_result"
    }
   ],
   "source": [
    "from pytex.platforms.jupyter import latex\n",
    "a, b = makeVar('a', 'b')\n",
    "latex(~(a.root(b)))"
   ]
  },
  {
   "cell_type": "code",
   "execution_count": 10,
   "metadata": {},
   "outputs": [
    {
     "name": "stdout",
     "output_type": "stream",
     "text": [
      "Converted /home/default/Documents/py-latex/pytex/notebooks/core/Ast.ipynb to /home/default/Documents/py-latex/pytex/pytex/core/Ast.py\r\n"
     ]
    }
   ],
   "source": [
    "! ../notebook2script.py Ast.ipynb"
   ]
  },
  {
   "cell_type": "code",
   "execution_count": 18,
   "metadata": {},
   "outputs": [
    {
     "data": {
      "text/latex": [
       "\\begin{gather*}1 \\neq 2\\end{gather*}"
      ],
      "text/plain": [
       "<IPython.core.display.Latex object>"
      ]
     },
     "execution_count": 18,
     "metadata": {},
     "output_type": "execute_result"
    }
   ],
   "source": [
    "from pytex.platforms.jupyter import latex\n",
    "latex(~Operation(Operator.Equal)(1,2))"
   ]
  },
  {
   "cell_type": "code",
   "execution_count": 19,
   "metadata": {},
   "outputs": [
    {
     "data": {
      "text/latex": [
       "\\begin{gather*}a + b\\end{gather*}"
      ],
      "text/plain": [
       "<IPython.core.display.Latex object>"
      ]
     },
     "execution_count": 19,
     "metadata": {},
     "output_type": "execute_result"
    }
   ],
   "source": [
    "from pytex.platforms.jupyter import latex\n",
    "a, b, c = makeVar('a','b', 'c')\n",
    "latex(a + b)"
   ]
  }
 ],
 "metadata": {
  "kernelspec": {
   "display_name": "Python 3",
   "language": "python",
   "name": "python3"
  },
  "language_info": {
   "codemirror_mode": {
    "name": "ipython",
    "version": 3
   },
   "file_extension": ".py",
   "mimetype": "text/x-python",
   "name": "python",
   "nbconvert_exporter": "python",
   "pygments_lexer": "ipython3",
   "version": "3.8.3"
  }
 },
 "nbformat": 4,
 "nbformat_minor": 4
}
