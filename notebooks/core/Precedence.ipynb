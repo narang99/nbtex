{
 "cells": [
  {
   "cell_type": "code",
   "execution_count": 1,
   "metadata": {},
   "outputs": [],
   "source": [
    "#export\n",
    "class PrecedenceValues():\n",
    "    def __init__(self):\n",
    "        pass\n",
    "    @property\n",
    "    def POWER(self): \n",
    "        return 13\n",
    "    @property\n",
    "    def VAR(self):\n",
    "        return self.POWER\n",
    "    @property\n",
    "    def UNARY(self): \n",
    "        return 12\n",
    "    @property\n",
    "    def ARITHMATIC_MULT(self): \n",
    "        return 11\n",
    "    @property\n",
    "    def ARITHMATIC_ADD(self):  \n",
    "        return 10\n",
    "    @property\n",
    "    def SHIFT(self): \n",
    "        return 9\n",
    "    @property\n",
    "    def UNARY_AND(self): \n",
    "        return 8\n",
    "    @property\n",
    "    def UNARY_OR_XOR(self): \n",
    "        return 7\n",
    "    @property\n",
    "    def COMPARE(self): \n",
    "        return 6\n",
    "    @property\n",
    "    def EQUALITY(self): \n",
    "        return 5    "
   ]
  },
  {
   "cell_type": "code",
   "execution_count": 2,
   "metadata": {},
   "outputs": [],
   "source": [
    "#export\n",
    "PRECEDENCE = PrecedenceValues()"
   ]
  },
  {
   "cell_type": "code",
   "execution_count": 3,
   "metadata": {},
   "outputs": [
    {
     "name": "stdout",
     "output_type": "stream",
     "text": [
      "Converted /home/default/Documents/py-latex/pytex/notebooks/core/Precedence.ipynb to /home/default/Documents/py-latex/pytex/pytex/core/Precedence.py\r\n"
     ]
    }
   ],
   "source": [
    "! python3 ../notebook2script.py Precedence.ipynb"
   ]
  },
  {
   "cell_type": "code",
   "execution_count": null,
   "metadata": {},
   "outputs": [],
   "source": [
    "\"\"\"\n",
    "**                                        13\n",
    "~ + -                                     12  \n",
    "* / % //                                  11\n",
    "+ -                                       10\n",
    ">> <<                                     9\n",
    "&                                         8\n",
    "^ |                                       7\n",
    "<= < > >=                                 6\n",
    "<> == !=                                  5\n",
    "= %= /= //= -= += *= **=                  4\n",
    "is is not                                 3\n",
    "in not in                                 2\n",
    "not or and                                1\n",
    "\"\"\"\n"
   ]
  }
 ],
 "metadata": {
  "kernelspec": {
   "display_name": "Python 3",
   "language": "python",
   "name": "python3"
  },
  "language_info": {
   "codemirror_mode": {
    "name": "ipython",
    "version": 3
   },
   "file_extension": ".py",
   "mimetype": "text/x-python",
   "name": "python",
   "nbconvert_exporter": "python",
   "pygments_lexer": "ipython3",
   "version": "3.8.3"
  }
 },
 "nbformat": 4,
 "nbformat_minor": 4
}
