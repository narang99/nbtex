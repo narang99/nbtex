{
 "cells": [
  {
   "cell_type": "code",
   "execution_count": 9,
   "metadata": {},
   "outputs": [],
   "source": [
    "#export\n",
    "from pytex.LatexInterface import Operator, Set\n",
    "from pytex.core.Precedence import PRECEDENCE"
   ]
  },
  {
   "cell_type": "code",
   "execution_count": 10,
   "metadata": {},
   "outputs": [],
   "source": [
    "#export\n",
    "class BinaryOperator():\n",
    "    def __init__(self):\n",
    "        self._is_inverted, self._precedence = False, None\n",
    "    @property\n",
    "    def latex(self):\n",
    "        raise NotImplementedError()\n",
    "    @property\n",
    "    def precedence(self):\n",
    "        return self._precedence\n",
    "    def __invert__(self):\n",
    "        self._is_inverted = not self._is_inverted\n",
    "        return self"
   ]
  },
  {
   "cell_type": "code",
   "execution_count": 11,
   "metadata": {},
   "outputs": [],
   "source": [
    "#export\n",
    "class PlusOperator(BinaryOperator):\n",
    "    def __init__(self):\n",
    "        super().__init__()\n",
    "        self._precedence = PRECEDENCE.ARITHMATIC_ADD\n",
    "    @property\n",
    "    def latex(self):\n",
    "        return Operator.plus\n",
    "\n",
    "class MinusOperator(BinaryOperator):\n",
    "    def __init__(self):\n",
    "        super().__init__()\n",
    "        self._precedence = PRECEDENCE.ARITHMATIC_ADD\n",
    "    @property\n",
    "    def latex(self):\n",
    "        return Operator.minus\n",
    "    \n",
    "class MultiplyOperator(BinaryOperator):\n",
    "    def __init__(self):\n",
    "        super().__init__()\n",
    "        self._precedence = PRECEDENCE.ARITHMATIC_MULT\n",
    "    @property\n",
    "    def latex(self):\n",
    "        return Operator.multiply\n",
    "    \n",
    "class EqualOperator(BinaryOperator):\n",
    "    def __init__(self):\n",
    "        super().__init__()\n",
    "        self._precedence = PRECEDENCE.EQUALITY\n",
    "    @property\n",
    "    def latex(self):\n",
    "        return Operator.neq if self._is_inverted else Operator.eq\n"
   ]
  },
  {
   "cell_type": "code",
   "execution_count": 12,
   "metadata": {},
   "outputs": [],
   "source": [
    "#export\n",
    "class ComparisonOperator(BinaryOperator):\n",
    "    def __init__(self):\n",
    "        super().__init__()\n",
    "        self._precedence = PRECEDENCE.COMPARE"
   ]
  },
  {
   "cell_type": "code",
   "execution_count": 13,
   "metadata": {},
   "outputs": [],
   "source": [
    "#export\n",
    "class LessThanOperator(ComparisonOperator):\n",
    "    def __init__(self):\n",
    "        super().__init__()\n",
    "    @property\n",
    "    def latex(self):\n",
    "        return Operator.nless if self._is_inverted else Operator.lt\n",
    "\n",
    "class GreaterThanOperator(ComparisonOperator):\n",
    "    def __init__(self):\n",
    "        super().__init__()\n",
    "    @property\n",
    "    def latex(self):\n",
    "        return Operator.ngtr if self._is_inverted else Operator.gt\n",
    "\n",
    "class LessThanEqualOperator(ComparisonOperator):\n",
    "    def __init__(self):\n",
    "        super().__init__()\n",
    "    @property\n",
    "    def latex(self):\n",
    "        return Operator.nleq if self._is_inverted else Operator.leq\n",
    "\n",
    "class GreaterThanEqualOperator(ComparisonOperator):\n",
    "    def __init__(self):\n",
    "        super().__init__()\n",
    "    @property\n",
    "    def latex(self):\n",
    "        return Operator.ngeq if self._is_inverted else Operator.geq"
   ]
  },
  {
   "cell_type": "code",
   "execution_count": 14,
   "metadata": {},
   "outputs": [],
   "source": [
    "#export\n",
    "class PowerOperator(BinaryOperator):\n",
    "    def __init__(self):\n",
    "        super().__init__()\n",
    "        self._precedence = PRECEDENCE.POWER\n",
    "    @property\n",
    "    def latex(self):\n",
    "        return Operator.power"
   ]
  },
  {
   "cell_type": "code",
   "execution_count": 15,
   "metadata": {},
   "outputs": [],
   "source": [
    "#export\n",
    "class SpaceOperator(BinaryOperator):\n",
    "    def __init__(self):\n",
    "        super().__init__()\n",
    "        self._precedence = PRECEDENCE.EQUALITY\n",
    "    @property\n",
    "    def latex(self):\n",
    "        return Operator.space"
   ]
  },
  {
   "cell_type": "code",
   "execution_count": 16,
   "metadata": {},
   "outputs": [],
   "source": [
    "#export\n",
    "Plus = PlusOperator()\n",
    "Minus = MinusOperator()\n",
    "Multiply = MultiplyOperator()\n",
    "Power = PowerOperator()\n",
    "Equal = EqualOperator()\n",
    "LessThan = LessThanOperator()\n",
    "LessThanEqual = LessThanEqualOperator()\n",
    "GreaterThan = GreaterThanOperator()\n",
    "GreaterThanEqual = GreaterThanEqualOperator()\n",
    "Space = SpaceOperator()"
   ]
  },
  {
   "cell_type": "code",
   "execution_count": 18,
   "metadata": {},
   "outputs": [
    {
     "name": "stdout",
     "output_type": "stream",
     "text": [
      "Converted /home/default/Documents/py-latex/pytex/notebooks/core/BinaryOperator.ipynb to /home/default/Documents/py-latex/pytex/pytex/core/BinaryOperator.py\r\n"
     ]
    }
   ],
   "source": [
    "! python3 ../notebook2script.py BinaryOperator.ipynb"
   ]
  }
 ],
 "metadata": {
  "kernelspec": {
   "display_name": "Python 3",
   "language": "python",
   "name": "python3"
  },
  "language_info": {
   "codemirror_mode": {
    "name": "ipython",
    "version": 3
   },
   "file_extension": ".py",
   "mimetype": "text/x-python",
   "name": "python",
   "nbconvert_exporter": "python",
   "pygments_lexer": "ipython3",
   "version": "3.8.3"
  }
 },
 "nbformat": 4,
 "nbformat_minor": 4
}
