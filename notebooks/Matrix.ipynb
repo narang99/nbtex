{
 "cells": [
  {
   "cell_type": "code",
   "execution_count": 1,
   "metadata": {},
   "outputs": [],
   "source": [
    "#export\n",
    "from pytex.Variable import Var, makeVar\n",
    "\n",
    "class Matrix(Var):\n",
    "    def __init__(self, matrix=[[]], subscript=None, power=None, surround='[]'):\n",
    "        super().__init__('matrix')\n",
    "        self.matrix, self.surround = matrix, surround\n",
    "        self.power = makeVar(power) if power is not None else power\n",
    "        self.subscript = makeVar(subscript) if subscript is not None else subscript\n",
    "        \n",
    "    def __len__(self):\n",
    "        return self.rows\n",
    "    \n",
    "    def __getitem__(self, ind):\n",
    "        if ind  >= len(self.matrix): raise Exception('index out of bounds')\n",
    "        if len(self.matrix) == 0: raise Exception('empty matrix') \n",
    "        if isinstance(self.matrix[0], list): return Matrix(self.matrix[ind])\n",
    "        else: return Var(self.matrix[ind])\n",
    "    \n",
    "    @staticmethod\n",
    "    def builder():\n",
    "        return MatrixBuilder()\n",
    "        \n",
    "    @property\n",
    "    def T(self):\n",
    "        if len(self.matrix) == 0: return self\n",
    "        elif(not isinstance(self.matrix[0], list)):\n",
    "            rows, cols = len(self.matrix), 1\n",
    "            matrix = [[ele] for ele in self.matrix]\n",
    "        else:\n",
    "            rows, cols = len(self.matrix), len(self.matrix[0])\n",
    "            matrix = [[self.matrix[j][i] for j in range(rows)] for i in range(cols)]\n",
    "        return Matrix(matrix, self.subscript, self.power, self.surround)\n",
    "        \n",
    "    def build(self): \n",
    "        env = (r'{bmatrix}' if self.surround == '[]' \n",
    "               else r'{pmatrix}' if self.surround == '()'\n",
    "               else r'{vmatrix}' if self.surround == '||'\n",
    "               else r'{Vmatrix}' if (self.surround == '|| ||' or self.surround == '||||')\n",
    "               else r'{matrix}')\n",
    "        begin = r'\\begin' + env\n",
    "        end = r'\\end' + env\n",
    "        if len(self.matrix) == 0: return begin + end\n",
    "        \n",
    "        s = ''\n",
    "        if not isinstance(self.matrix[0], list):\n",
    "            # it is a vector\n",
    "            for ele in self.matrix:\n",
    "                ele = makeVar(ele)\n",
    "                s += ' ' + ele.build() + ' & '\n",
    "            s = s[:-2]\n",
    "        else:\n",
    "            for row in self.matrix:\n",
    "                for ele in row:\n",
    "                    ele = makeVar(ele)\n",
    "                    s += ' ' + ele.build() + ' & '\n",
    "                s = s[:-2] + r\"\\\\\"\n",
    "            s = s[:-2]\n",
    "        p = '^{' + self.power.build() + '}' if self.power is not None else ''\n",
    "        subs = '_{' + self.subscript.build() + '}' if self.subscript is not None else ''\n",
    "        return (r\"\" + begin + s + end  + p + subs + r\"\")\n"
   ]
  },
  {
   "cell_type": "code",
   "execution_count": 2,
   "metadata": {},
   "outputs": [],
   "source": [
    "#export\n",
    "class MatrixBuilder():\n",
    "    def __init__(self):\n",
    "        self.matrix, self.cols = [], None\n",
    "        \n",
    "    def add(self, *args):\n",
    "        if self.cols is None:\n",
    "            self.cols = len(args)\n",
    "        elif not self.cols == len(args):\n",
    "            raise Exception(f'Different dimensions for matrix builder. dim1:{self.cols} dim2:{len(args)}')\n",
    "        self.matrix.append(list(args))\n",
    "        return self\n",
    "        \n",
    "    def create(self, subscript=None, power=None, surround='[]'):\n",
    "        return Matrix(self.matrix, subscript, power, surround)"
   ]
  },
  {
   "cell_type": "code",
   "execution_count": 3,
   "metadata": {},
   "outputs": [],
   "source": [
    "#export\n",
    "from pytex.Dots import Dots\n",
    "def hasHoriDots(elements, m):\n",
    "    elerowlen = max([len(ele) for ele in elements]) \n",
    "    return not elerowlen == len(m[0])\n",
    "def hasVertDots(elements, m):\n",
    "    return not len(elements) == len(m)\n",
    "\n",
    "class MatrixWithDots(Matrix):\n",
    "    def __init__(self, elements, shape=None, subscript=None, power=None, surround='[]'):\n",
    "        # resolve elements\n",
    "        self.elements, self.shape = elements,shape\n",
    "        if(not isinstance(elements, list) or len(elements) == 0\n",
    "          or not isinstance(elements[0], list)): \n",
    "            raise Exception('need to pass list of list')\n",
    "        # resolve shape\n",
    "        minrows, mincols = len(elements), max([len(row) for row in elements])\n",
    "        if(shape is None):\n",
    "            self.rows = minrows + 1 if minrows != 1 else minrows\n",
    "            self.cols = mincols + 1 if mincols != 1 else mincols\n",
    "        else:\n",
    "            try:\n",
    "                self.rows, self.cols = shape\n",
    "                self.rows, self.cols = int(self.rows), int(self.cols)\n",
    "            except:\n",
    "                raise Exception('shape should be of type tuple(int,int)')\n",
    "            if self.rows < minrows or self.cols < mincols:\n",
    "                raise Exception('shape >= (row, cols) of elements')\n",
    "        m = [[0]*self.cols for i in range(self.rows)]\n",
    "        i=0\n",
    "        while i < len(elements)-1:\n",
    "            row = elements[i]\n",
    "            j=0\n",
    "            while(j < len(row)-1):\n",
    "                m[i][j] = row[j]\n",
    "                j += 1\n",
    "            while(j < len(m[i])-1):\n",
    "                m[i][j] = Dots('h')\n",
    "                j += 1\n",
    "            m[i][j] = row[len(row)-1]\n",
    "            i += 1\n",
    "\n",
    "        while i < len(m)-1:\n",
    "            m[i] = [Dots('v')]*len(m[i])\n",
    "            i += 1\n",
    "\n",
    "        row = elements[len(elements)-1]\n",
    "        j=0\n",
    "        while(j < len(row)-1):\n",
    "            m[i][j] = row[j]\n",
    "            j += 1\n",
    "        while(j < len(m[i])-1):\n",
    "            m[i][j] = Dots('h')\n",
    "            j += 1\n",
    "        m[i][j] = row[len(row)-1]\n",
    "\n",
    "        dli, dlj = len(m)-2, len(m[0])-2\n",
    "\n",
    "        if isinstance(m[dli][dlj], Dots) and hasHoriDots(elements, m) and hasVertDots(elements, m):\n",
    "            m[dli][dlj] = Dots('d')\n",
    "        super().__init__(m, subscript, power, surround)\n",
    "        \n",
    "    @property\n",
    "    def T(self):\n",
    "        raise Exception('transpose of dotted matrix not allowed')"
   ]
  },
  {
   "cell_type": "code",
   "execution_count": 4,
   "metadata": {},
   "outputs": [
    {
     "data": {
      "text/latex": [
       "\\begin{gather*}\\begin{bmatrix} 1 &  2 &  3 &  \\cdots &  4 \\\\ \\vdots &  \\vdots &  \\vdots &  \\ddots &  \\vdots \\\\ 2 &  3 &  4 &  \\cdots &  5 \\end{bmatrix}\\end{gather*}"
      ],
      "text/plain": [
       "<IPython.core.display.Latex object>"
      ]
     },
     "execution_count": 4,
     "metadata": {},
     "output_type": "execute_result"
    }
   ],
   "source": [
    "from pytex.platforms.jupyter import latex\n",
    "\n",
    "latex(MatrixWithDots([[1,2,3,4],[2,3,4,5]]))"
   ]
  },
  {
   "cell_type": "code",
   "execution_count": 5,
   "metadata": {},
   "outputs": [
    {
     "data": {
      "text/latex": [
       "\\begin{gather*}\\begin{bmatrix} 1 &  2 &  3 &  4 \\\\ 2 &  3 &  4 &  5 \\end{bmatrix}\\end{gather*}"
      ],
      "text/plain": [
       "<IPython.core.display.Latex object>"
      ]
     },
     "execution_count": 5,
     "metadata": {},
     "output_type": "execute_result"
    }
   ],
   "source": [
    "latex(Matrix([[1,2,3,4],[2,3,4,5]]))"
   ]
  },
  {
   "cell_type": "code",
   "execution_count": 6,
   "metadata": {},
   "outputs": [
    {
     "data": {
      "text/latex": [
       "\\begin{gather*}\\begin{bmatrix} 1 &  2 &  3 &  4 \\\\ 2 &  3 &  4 &  5 \\end{bmatrix}\\end{gather*}"
      ],
      "text/plain": [
       "<IPython.core.display.Latex object>"
      ]
     },
     "execution_count": 6,
     "metadata": {},
     "output_type": "execute_result"
    }
   ],
   "source": [
    "latex(Matrix.builder().add(1,2,3,4).add(2,3,4,5).create())"
   ]
  },
  {
   "cell_type": "code",
   "execution_count": 8,
   "metadata": {},
   "outputs": [
    {
     "name": "stdout",
     "output_type": "stream",
     "text": [
      "Converted /home/default/Documents/py-latex/pytex/notebooks/Matrix.ipynb to /home/default/Documents/py-latex/pytex/pytex/Matrix.py\r\n"
     ]
    }
   ],
   "source": [
    "! python3 ./notebook2script.py Matrix.ipynb"
   ]
  }
 ],
 "metadata": {
  "kernelspec": {
   "display_name": "Python 3",
   "language": "python",
   "name": "python3"
  },
  "language_info": {
   "codemirror_mode": {
    "name": "ipython",
    "version": 3
   },
   "file_extension": ".py",
   "mimetype": "text/x-python",
   "name": "python",
   "nbconvert_exporter": "python",
   "pygments_lexer": "ipython3",
   "version": "3.8.3"
  }
 },
 "nbformat": 4,
 "nbformat_minor": 4
}
