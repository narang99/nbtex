{
 "cells": [
  {
   "cell_type": "code",
   "execution_count": 1,
   "metadata": {},
   "outputs": [],
   "source": [
    "#export\n",
    "from nbtex.core.Ast import Var, makeVar\n",
    "from nbtex.LatexInterface.LatexFormatters import LatexMatrixFormatter\n",
    "from nbtex.Dots import Dots\n",
    "\n",
    "\n",
    "class Matrix(Var):\n",
    "    def __init__(self, matrix=[[]], surround='[]'):\n",
    "        super().__init__('matrix')\n",
    "        self.matrix, self.surround = matrix, surround\n",
    "        self.power, self.subs = None, None\n",
    "        \n",
    "    def __getitem__(self, ind):\n",
    "        if ind  >= len(self.matrix): raise Exception('index out of bounds')\n",
    "        if len(self.matrix) == 0: raise Exception('empty matrix') \n",
    "        if isinstance(self.matrix[0], list): return Matrix(self.matrix[ind])\n",
    "        else: return Var(self.matrix[ind])\n",
    "    \n",
    "    def __pow__(self, power):\n",
    "        self.power = makeVar(power)\n",
    "        return self\n",
    "\n",
    "    def subscript(self, subs):\n",
    "        self.subs = makeVar(subs)\n",
    "        return self\n",
    "\n",
    "    @staticmethod\n",
    "    def builder():\n",
    "        return MatrixBuilder()\n",
    "        \n",
    "    @property\n",
    "    def T(self):\n",
    "        if len(self.matrix) == 0: return self\n",
    "        rows, cols = len(self.matrix), len(self.matrix[0])\n",
    "        matrix = [[self.matrix[j][i] for j in range(rows)] for i in range(cols)]\n",
    "        return Matrix(matrix, self.surround)\n",
    "        \n",
    "    def build(self):\n",
    "        begin, end = self.create_env()\n",
    "        mtx = self.get_built_base_matrix()\n",
    "        power, subs = self.get_pow_subs()\n",
    "        return (r\"\" + begin + mtx + end  + power + subs + r\"\")\n",
    "    \n",
    "    def create_env(self):\n",
    "        return LatexMatrixFormatter.create_env(self.surround)\n",
    "    \n",
    "    def get_built_base_matrix(self):\n",
    "        mtx = self.get_built_matrix_elements()\n",
    "        return LatexMatrixFormatter.matrix_to_latex(mtx)\n",
    "    \n",
    "    def get_built_matrix_elements(self):\n",
    "        mtx = [[makeVar(cell) for cell in row] for row in self.matrix]\n",
    "        mtx = [[cell.build() for cell in row] for row in mtx]\n",
    "        return mtx\n",
    "    \n",
    "    def get_pow_subs(self):\n",
    "        if self.power is not None:\n",
    "            power = LatexMatrixFormatter.power_of_matrix(self.power.build())\n",
    "        else:\n",
    "            power = LatexMatrixFormatter.empty_power()\n",
    "            \n",
    "        if self.subs is not None:\n",
    "            subs = LatexMatrixFormatter.subscript_of_matrix(self.subs.build())\n",
    "        else:\n",
    "            subs = LatexMatrixFormatter.empty_subscript()\n",
    "        return power, subs"
   ]
  },
  {
   "cell_type": "code",
   "execution_count": 24,
   "metadata": {
    "tags": []
   },
   "outputs": [
    {
     "output_type": "execute_result",
     "data": {
      "text/plain": "<IPython.core.display.Latex object>",
      "text/latex": "\\begin{gather*}\\begin{bmatrix} 1 &  2 &  3 \\end{bmatrix}^{2}_{1}\\end{gather*}"
     },
     "metadata": {},
     "execution_count": 24
    }
   ],
   "source": [
    "from nbtex.platforms.jupyter import latex\n",
    "m = Matrix([[1,2,3]]).subscript(1)**2\n",
    "latex(m)"
   ]
  },
  {
   "cell_type": "code",
   "execution_count": 26,
   "metadata": {},
   "outputs": [],
   "source": [
    "#export\n",
    "class MatrixBuilder():\n",
    "    def __init__(self):\n",
    "        self.matrix, self.cols = [], None\n",
    "        \n",
    "    def add(self, *args):\n",
    "        if self.cols is None:\n",
    "            self.cols = len(args)\n",
    "        elif not self.cols == len(args):\n",
    "            raise Exception(f'Different dimensions for matrix builder. dim1:{self.cols} dim2:{len(args)}')\n",
    "        self.matrix.append(list(args))\n",
    "        return self\n",
    "        \n",
    "    def create(self, surround='[]'):\n",
    "        return Matrix(self.matrix, surround)"
   ]
  },
  {
   "cell_type": "code",
   "execution_count": 27,
   "metadata": {},
   "outputs": [],
   "source": [
    "#export\n",
    "def hasHoriDots(elements, m):\n",
    "    elerowlen = max([len(ele) for ele in elements]) \n",
    "    return not elerowlen == len(m[0])\n",
    "\n",
    "def hasVertDots(elements, m):\n",
    "    return not len(elements) == len(m)\n",
    "\n",
    "class MatrixWithDots(Matrix):\n",
    "    def __init__(self, elements, shape=None, surround='[]'):\n",
    "        # resolve elements\n",
    "        self._elements_check(elements)\n",
    "        self.elements= elements\n",
    "        rows, cols = self._get_dimensions(elements, shape)\n",
    "        matrix = self._construct_matrix(rows, cols, elements)\n",
    "        super().__init__(matrix, surround)\n",
    "    \n",
    "    def _elements_check(self, elements):\n",
    "        if(not isinstance(elements, list) or len(elements) == 0\n",
    "          or not isinstance(elements[0], list)): \n",
    "            raise Exception('need to pass list of list')\n",
    "                \n",
    "    def _get_dimensions(self, elements, shape):\n",
    "        minrows, mincols = len(elements), max([len(row) for row in elements])\n",
    "        if(shape is None):\n",
    "            rows = minrows + 1 if minrows != 1 else minrows\n",
    "            cols = mincols + 1 if mincols != 1 else mincols\n",
    "        else:\n",
    "            try:\n",
    "                rows, cols = shape\n",
    "                rows, cols = int(rows), int(cols)\n",
    "            except:\n",
    "                raise Exception('shape should be of type tuple(int,int)')\n",
    "            if rows < minrows or cols < mincols:\n",
    "                raise Exception('shape >= (row, cols) of elements')\n",
    "        return rows, cols\n",
    "    \n",
    "    def _construct_matrix(self, rows, cols, elements):\n",
    "        m = self._get_zero_matrix_of_dimensions(rows, cols)\n",
    "        i = self._fill_with_elements(0, elements, m)\n",
    "        i = self._fill_with_vertical_dots(i, elements, m)\n",
    "        self._fill_last_row_with_elements(elements, m)\n",
    "        self._put_diagonal_dot(elements, m)\n",
    "        return m\n",
    "    \n",
    "    def _get_zero_matrix_of_dimensions(self, rows, cols):\n",
    "        return [[0]*cols for i in range(rows)]\n",
    "        \n",
    "    def _fill_with_elements(self, start, elements, m):\n",
    "        i=start\n",
    "        while i < len(elements)-1:\n",
    "            m[i] = self._get_row_with_elements(elements, i, len(m[i]))\n",
    "            i += 1\n",
    "        return i\n",
    "    \n",
    "    def _fill_with_vertical_dots(self, start, elements, m):\n",
    "        i = start\n",
    "        while i < len(m)-1:\n",
    "            m[i] = [Dots('v')]*len(m[i])\n",
    "            i += 1\n",
    "        return i\n",
    "    \n",
    "    def _fill_last_row_with_elements(self, elements, m):\n",
    "        m[len(m)-1] = self._get_row_with_elements(elements, len(elements)-1,\n",
    "                                                 len(m[len(m)-1]))\n",
    "    \n",
    "    def _put_diagonal_dot(self, elements, m):\n",
    "        dli, dlj = len(m)-2, len(m[0])-2\n",
    "        if (isinstance(m[dli][dlj], Dots) \n",
    "            and hasHoriDots(elements, m) \n",
    "            and hasVertDots(elements, m)):\n",
    "            \n",
    "            m[dli][dlj] = Dots('d')\n",
    "        \n",
    "    def _get_row_with_elements(self, elements, row_index, mlen):\n",
    "        row = elements[row_index]\n",
    "        new_row = [0]*mlen\n",
    "        j=0\n",
    "        while(j < len(row)-1):\n",
    "            new_row[j] = row[j]\n",
    "            j += 1\n",
    "        while(j < mlen-1):\n",
    "            new_row[j] = Dots('h')\n",
    "            j += 1\n",
    "        new_row[j] = row[len(row)-1]\n",
    "        return new_row\n",
    "    \n",
    "    @property\n",
    "    def T(self):\n",
    "        raise Exception('transpose of dotted matrix not allowed')"
   ]
  },
  {
   "cell_type": "code",
   "execution_count": 32,
   "metadata": {},
   "outputs": [
    {
     "output_type": "execute_result",
     "data": {
      "text/plain": "<IPython.core.display.Latex object>",
      "text/latex": "\\begin{gather*}\\begin{pmatrix} 1 &  2 &  3 &  \\cdots &  4 \\\\ \\vdots &  \\vdots &  \\vdots &  \\vdots &  \\vdots \\\\ \\vdots &  \\vdots &  \\vdots &  \\vdots &  \\vdots \\\\ \\vdots &  \\vdots &  \\vdots &  \\ddots &  \\vdots \\\\ 2 &  3 &  4 &  \\cdots &  5 \\end{pmatrix}^{2}_{1}\\end{gather*}"
     },
     "metadata": {},
     "execution_count": 32
    }
   ],
   "source": [
    "from nbtex.platforms.jupyter import latex\n",
    "\n",
    "m = MatrixWithDots([[1,2,3,4],[2,3,4,5]], (5,5), '()')\n",
    "latex(m.subscript('1')**2)"
   ]
  },
  {
   "cell_type": "code",
   "execution_count": 33,
   "metadata": {},
   "outputs": [
    {
     "output_type": "execute_result",
     "data": {
      "text/plain": "<IPython.core.display.Latex object>",
      "text/latex": "\\begin{gather*}\\begin{bmatrix} 1 &  2 &  3 &  4 \\\\ 2 &  3 &  4 &  5 \\end{bmatrix}\\end{gather*}"
     },
     "metadata": {},
     "execution_count": 33
    }
   ],
   "source": [
    "latex(Matrix([[1,2,3,4],[2,3,4,5]]))"
   ]
  },
  {
   "cell_type": "code",
   "execution_count": 36,
   "metadata": {},
   "outputs": [
    {
     "output_type": "execute_result",
     "data": {
      "text/plain": "<IPython.core.display.Latex object>",
      "text/latex": "\\begin{gather*}\\begin{bmatrix} 1 &  2 &  3 &  4 \\\\ 2 &  3 &  4 &  5 \\end{bmatrix}^{3}_{2}\\end{gather*}"
     },
     "metadata": {},
     "execution_count": 36
    }
   ],
   "source": [
    "latex(Matrix.builder().add(1,2,3,4).add(2,3,4,5).create().subscript('2')**3)"
   ]
  },
  {
   "cell_type": "code",
   "execution_count": 1,
   "metadata": {},
   "outputs": [
    {
     "name": "stdout",
     "output_type": "stream",
     "text": [
      "Converted /home/default/Documents/py-latex/nbtex/notebooks/Matrix.ipynb to /home/default/Documents/py-latex/nbtex/nbtex/Matrix.py\r\n"
     ]
    }
   ],
   "source": [
    "! python3 ./notebook2script.py Matrix.ipynb"
   ]
  }
 ],
 "metadata": {
  "kernelspec": {
   "display_name": "Python 3.8.3 64-bit ('base': conda)",
   "language": "python",
   "name": "python_defaultSpec_1598875306623"
  },
  "language_info": {
   "codemirror_mode": {
    "name": "ipython",
    "version": 3
   },
   "file_extension": ".py",
   "mimetype": "text/x-python",
   "name": "python",
   "nbconvert_exporter": "python",
   "pygments_lexer": "ipython3",
   "version": "3.8.3-final"
  }
 },
 "nbformat": 4,
 "nbformat_minor": 4
}