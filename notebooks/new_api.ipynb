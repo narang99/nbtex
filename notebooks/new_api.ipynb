{
 "cells": [
  {
   "cell_type": "code",
   "execution_count": null,
   "metadata": {},
   "outputs": [],
   "source": [
    "\"\"\"\n",
    "    final variable should be operable.\n",
    "    should have methods to do stuff like less than and all\n",
    "    should have invert for getting cut symbols\n",
    "    getting latex for cut symbols should be done through a utility class\n",
    "\n",
    "\"\"\""
   ]
  },
  {
   "cell_type": "code",
   "execution_count": null,
   "metadata": {},
   "outputs": [],
   "source": [
    "\"\"\"\n",
    "    var.les().var\n",
    "    \n",
    "    if method in var takes argument it returns var, else it returns builder function\n",
    "    in method var should just pass the args to the function applier\n",
    "    core.Var, core.Operation, core.OperableVar\n",
    "    core.Var: has all operations for \n",
    "    OperableVar and Operation will be mutually recursive for sure\n",
    "\"\"\""
   ]
  },
  {
   "cell_type": "code",
   "execution_count": 26,
   "metadata": {},
   "outputs": [
    {
     "name": "stdout",
     "output_type": "stream",
     "text": [
      "2\n",
      "[1, 2, 3] [2]\n"
     ]
    }
   ],
   "source": [
    "def check(*args):\n",
    "    print(len(args))\n",
    "    print(*args)\n",
    "check([1,2,3], [2])"
   ]
  },
  {
   "cell_type": "code",
   "execution_count": null,
   "metadata": {},
   "outputs": [],
   "source": [
    "class Var():\n",
    "    def __init__(self, name, operation=None):\n",
    "        self.name, self._operation = name, operation\n",
    "#     @property\n",
    "#     def operation(self):\n",
    "#         return self._operation\n",
    "#     @operation.setter\n",
    "#     def operation(self ,op):\n",
    "#         self._operation = operation\n",
    "    \n",
    "    @property\n",
    "    def precedence(self):\n",
    "        return Precedence.Var (if self._operation is None \n",
    "                               else self._operation.precedence)\n",
    "    def build(self):\n",
    "        pass\n",
    "    def __add__(self, other):\n",
    "        return Operation(LatexOperation.ADD, self, other)\n",
    "    \n",
    "class Operation(self):\n",
    "    def __init__(self, latex_operation, *others):\n",
    "        self.latex_operation = \n",
    "    \n",
    "    def build(self):\n",
    "        pass"
   ]
  },
  {
   "cell_type": "code",
   "execution_count": 1,
   "metadata": {},
   "outputs": [],
   "source": [
    "from pathlib import Path"
   ]
  },
  {
   "cell_type": "code",
   "execution_count": 4,
   "metadata": {},
   "outputs": [],
   "source": [
    "p1 = Path('/home/default/Documents/py-latex/pytex/notebooks')\n",
    "par = Path('/home/default/Documents/py-latex/pytex')"
   ]
  },
  {
   "cell_type": "code",
   "execution_count": 8,
   "metadata": {},
   "outputs": [
    {
     "data": {
      "text/plain": [
       "PosixPath('notebooks')"
      ]
     },
     "execution_count": 8,
     "metadata": {},
     "output_type": "execute_result"
    }
   ],
   "source": [
    "p1.parent == par\n",
    "p1.relative_to(par)"
   ]
  },
  {
   "cell_type": "code",
   "execution_count": null,
   "metadata": {},
   "outputs": [],
   "source": [
    "#export\n",
    "from IPython.display import Latex\n",
    "from pytex.helpers import varArgFunc\n",
    "\n",
    "#export\n",
    "from pytex.helpers import *\n",
    "\n",
    "class Var():\n",
    "    def __init__(self, name, latex=None):\n",
    "        self._name = str(name)\n",
    "        self._fn, self._latex = None, None\n",
    "        self._isTopLevel = True\n",
    "    \n",
    "    @property\n",
    "    def name(self): return self._name\n",
    "    @name.setter\n",
    "    def name(self, n): self._name = n\n",
    "    def setName(self, n): \n",
    "        self._name = n\n",
    "        return self\n",
    "    \n",
    "    @property\n",
    "    def backward_function(self): return self._fn\n",
    "    @backward_function.setter\n",
    "    def backward_function(self, fn): self._fn = fn\n",
    "      \n",
    "    def __str__(self): return self._name\n",
    "    def __repr__(self): return self.__str__()\n",
    "    \n",
    "    def apply(self, f, *args):\n",
    "        n = Var('temp')\n",
    "        a = makeVar(*args)\n",
    "        n.backward_function = f(*a) if not isinstance(a,Var) else f(a)\n",
    "        return n\n",
    "    \n",
    "    def __add__(self, other):\n",
    "        return self.apply(BinaryFunc(ADD), self, other)\n",
    "    def __sub__(self, other):\n",
    "        return self.apply(BinaryFunc(SUB), self, other)\n",
    "    def __mul__(self, other):\n",
    "        return self.apply(BinaryFunc(MUL), self, other)\n",
    "    def __pow__(self, other):\n",
    "        return self.apply(BinaryFunc(POW), self, other)\n",
    "    def __or__(self, other):\n",
    "        return self.apply(BinaryFunc(OR), self, other)\n",
    "    \n",
    "    def __lt__(self, other):\n",
    "        return self.lt(other)\n",
    "    def __gt__(self, other):\n",
    "        return self.gt(other)\n",
    "    def __le__(self, other):\n",
    "        return self.le(other)\n",
    "    def __ge__(self, other):\n",
    "        return self.ge(other)\n",
    "    def __eq__(self, other):\n",
    "        return self.eq(other)\n",
    "    def __ne__(self, other):\n",
    "        return self.ne(other)\n",
    "    \n",
    "    def equals(self, other):\n",
    "        return self.apply(BinaryFunc(EQ), self, other)\n",
    "    def not_equals(self, other):\n",
    "        return self.apply(BinaryFunc(NE), self, other)\n",
    "    def eq(self,other):\n",
    "        return self.equals(other)\n",
    "    def ne(self,other):\n",
    "        return self.not_equals(other)\n",
    "    def lt(self, other):\n",
    "        return self.apply(BinaryFunc(LT), self, other)\n",
    "    def gt(self, other):\n",
    "        return self.apply(BinaryFunc(GT), self, other)\n",
    "    def le(self, other):\n",
    "        return self.apply(BinaryFunc(LE), self, other)\n",
    "    def ge(self, other):\n",
    "        return self.apply(BinaryFunc(GE), self, other)\n",
    "    \n",
    "    def __neg__(self):\n",
    "        return self.apply(NegateFunc(), self)\n",
    "    def root(self, other):\n",
    "        return self.apply(RootFunc(), self, other)\n",
    "    def __truediv__(self, other):\n",
    "        return self.apply(FracFunc(), self, other)\n",
    "    \n",
    "    def build(self):\n",
    "        if self._latex is not None: return self._latex\n",
    "        else:\n",
    "            self._latex = self.name if self._fn is None else self._fn.build()\n",
    "            return self._latex\n",
    "        \n",
    "    def __call__(self, *others):\n",
    "        return self.apply(FuncApplication(self), *others)\n",
    "\n",
    "def isVar(a):\n",
    "    return isinstance(a, Var)\n",
    "\n",
    "def makeVar(*args):\n",
    "    return varArgFunc(lambda arg: arg if isVar(arg) else Var(str(arg)), *args)\n",
    "\n",
    "def addEnv(s, env='gather'):\n",
    "    env = '{' + env + '}'\n",
    "    return r'\\begin' + env + str(s) + r'\\end' + env\n"
   ]
  }
 ],
 "metadata": {
  "kernelspec": {
   "display_name": "Python 3",
   "language": "python",
   "name": "python3"
  },
  "language_info": {
   "codemirror_mode": {
    "name": "ipython",
    "version": 3
   },
   "file_extension": ".py",
   "mimetype": "text/x-python",
   "name": "python",
   "nbconvert_exporter": "python",
   "pygments_lexer": "ipython3",
   "version": "3.8.3"
  }
 },
 "nbformat": 4,
 "nbformat_minor": 4
}
