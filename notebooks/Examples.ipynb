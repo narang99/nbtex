{
 "cells": [
  {
   "cell_type": "markdown",
   "metadata": {},
   "source": [
    "# Pytex  \n",
    "\n",
    "A light-weight pythonic wrapper around LaTeX specifically to provide python-like interface to write mathemical latex in Jupyter Notebooks.   \n",
    "**NOTE:** Only Jupyter Notebooks are supported for now. Tests done in notebooks too\n",
    "\n",
    "## Usage  \n",
    "The usage is best presented by examples  \n",
    "The next cells show some use cases\n",
    "\n",
    "It is recommended to use the `Python-Markdown` extension to render the latex inside a markdown cell.  \n",
    "You can enclose a python statement inside double curly braces (see Python-markdown on Jupyter website) `{ { statement } }`  inside a markdown cell if this extension is enable **and** the notebook is trusted.  \n",
    "\n",
    "As an alternative: the function `latex` returns a `iPython.core.display.Latex` object. It has attribute `data` which can be printed in a code cell. This string can be enclosed in `$$ <output> $$` in a markdown cell\n",
    "\n",
    "`platex` prints the latex that can be directly copy pasted inside a markdown cell."
   ]
  },
  {
   "cell_type": "markdown",
   "metadata": {},
   "source": [
    "## Variables\n",
    "\n",
    "`Var` class is the basic class of the package which defines `+`,`-`, function calling etc. and constructs the LaTeX AST internally.  \n",
    "Calling `latex` with any `Var` as argument gives the LaTeX in a platform dependent object. Since only Jupyter Notebooks are supported for now, it returns an `IPython.core.display.Latex` object"
   ]
  },
  {
   "cell_type": "code",
   "execution_count": 5,
   "metadata": {},
   "outputs": [
    {
     "ename": "ModuleNotFoundError",
     "evalue": "No module named 'pytex'",
     "output_type": "error",
     "traceback": [
      "\u001b[0;31m---------------------------------------------------------------------------\u001b[0m",
      "\u001b[0;31mModuleNotFoundError\u001b[0m                       Traceback (most recent call last)",
      "\u001b[0;32m<ipython-input-5-15206cd3d244>\u001b[0m in \u001b[0;36m<module>\u001b[0;34m\u001b[0m\n\u001b[0;32m----> 1\u001b[0;31m \u001b[0;32mfrom\u001b[0m \u001b[0mpytex\u001b[0m \u001b[0;32mimport\u001b[0m \u001b[0mVar\u001b[0m\u001b[0;34m\u001b[0m\u001b[0;34m\u001b[0m\u001b[0m\n\u001b[0m\u001b[1;32m      2\u001b[0m \u001b[0;32mfrom\u001b[0m \u001b[0mpytex\u001b[0m\u001b[0;34m.\u001b[0m\u001b[0mplatforms\u001b[0m\u001b[0;34m.\u001b[0m\u001b[0mjupyter\u001b[0m \u001b[0;32mimport\u001b[0m \u001b[0mlatex\u001b[0m\u001b[0;34m\u001b[0m\u001b[0;34m\u001b[0m\u001b[0m\n\u001b[1;32m      3\u001b[0m \u001b[0ma\u001b[0m \u001b[0;34m=\u001b[0m \u001b[0mVar\u001b[0m\u001b[0;34m(\u001b[0m\u001b[0;34m'a'\u001b[0m\u001b[0;34m)\u001b[0m\u001b[0;34m\u001b[0m\u001b[0;34m\u001b[0m\u001b[0m\n\u001b[1;32m      4\u001b[0m \u001b[0mprint\u001b[0m\u001b[0;34m(\u001b[0m\u001b[0mlatex\u001b[0m\u001b[0;34m(\u001b[0m\u001b[0ma\u001b[0m\u001b[0;34m)\u001b[0m\u001b[0;34m.\u001b[0m\u001b[0mdata\u001b[0m\u001b[0;34m)\u001b[0m\u001b[0;34m\u001b[0m\u001b[0;34m\u001b[0m\u001b[0m\n",
      "\u001b[0;31mModuleNotFoundError\u001b[0m: No module named 'pytex'"
     ]
    }
   ],
   "source": [
    "from pytex import Var\n",
    "from pytex.platforms.jupyter import latex\n",
    "a = Var('a')\n",
    "print(latex(a).data)"
   ]
  },
  {
   "cell_type": "markdown",
   "metadata": {},
   "source": [
    "`platex` prints the latex which can be put inside a markdown cell along with the Latex that will be outputted in the markdown cell. Once you get the required Latex, copy it into your markdown cell"
   ]
  },
  {
   "cell_type": "markdown",
   "metadata": {},
   "source": [
    "Here we have copied the latex inside the markdown cell\n",
    "$$\n",
    "\\begin{gather*}a\\end{gather*}\n",
    "$$"
   ]
  },
  {
   "cell_type": "markdown",
   "metadata": {},
   "source": [
    "In the next examples, the printed latex wont be copied in the markdown cell"
   ]
  },
  {
   "cell_type": "code",
   "execution_count": 2,
   "metadata": {},
   "outputs": [
    {
     "name": "stdout",
     "output_type": "stream",
     "text": [
      "\\begin{gather*}a \\neq a\\end{gather*}\n"
     ]
    },
    {
     "data": {
      "text/latex": [
       "\\begin{gather*}a \\neq a\\end{gather*}"
      ],
      "text/plain": [
       "<IPython.core.display.Latex object>"
      ]
     },
     "execution_count": 2,
     "metadata": {},
     "output_type": "execute_result"
    }
   ],
   "source": [
    "from pytex.platforms.jupyter import platex\n",
    "platex(a.ne(a))"
   ]
  },
  {
   "cell_type": "markdown",
   "metadata": {},
   "source": [
    "`makeVar` is a convenience function to create multiple `Var` variables easily.  \n",
    "A list of operators supported:\n",
    "+ `+`: Adding\n",
    "+ `-`: Subtraction\n",
    "+ `*`: Multiplication\n",
    "+ `pow`: Exponents\n",
    "+ `^`: Exponents (another way)\n",
    "+ `/`: Fractions\n",
    "+ `|`: Space in generated latex\n",
    "+ `()`: Function calling with arbitrary args\n",
    "+ `<`, `>`, `<=`, `>=`, `==`, `!=`: Ordering operators, these are the same as `lt`, `gt`, `le`, `ge`, `eq`, `ne`. However using the methods is safer. Use these operators only once a statement if you really want to\n",
    "+ `eq` or `equals`: Equality\n",
    "+ `ne` or `not_equals`: Not equals\n",
    "+ `le`, `lt`, `ge`, `gt`: Less than equal, Less than, Greater than equal, Greater than\n",
    "\n",
    "\n",
    "In some cases you can directly use literal constants (numbers, strings etc) like `'a', 'bc', 1, 2`. Use cases where this is safe will be discussed later. For now, it just depends on precendence of operators in python in case of operators on `Var`. If a `Var` instance is bounded before the constant, it would automatically wrap it in a `Var`. Method calls are safe from this. \n",
    "It is however usually safer to wrap all your constants inside `Var` using `makeVar` for concise syntax as shown below. (eg. binding const `2` to instance `_2` of `Var` as shown below)  \n",
    "`Var` instances also can be called with arbitrary parameters for them to render as functions"
   ]
  },
  {
   "cell_type": "code",
   "execution_count": 21,
   "metadata": {},
   "outputs": [
    {
     "name": "stdout",
     "output_type": "stream",
     "text": [
      "\\begin{gather*}f(x + y\\hspace{1mm}z + ab) = x^2 + x + ab\\end{gather*}\n"
     ]
    },
    {
     "data": {
      "text/latex": [
       "\\begin{gather*}f(x + y\\hspace{1mm}z + ab) = x^2 + x + ab\\end{gather*}"
      ],
      "text/plain": [
       "<IPython.core.display.Latex object>"
      ]
     },
     "execution_count": 21,
     "metadata": {},
     "output_type": "execute_result"
    }
   ],
   "source": [
    "from pytex import makeVar\n",
    "x,y,z,f,ab,_2 = makeVar('x','y','z','f','ab', 2)\n",
    "op = f(x + y|z + ab).eq( x**2 + x + ab)\n",
    "platex(op)"
   ]
  },
  {
   "cell_type": "code",
   "execution_count": 5,
   "metadata": {},
   "outputs": [
    {
     "name": "stdout",
     "output_type": "stream",
     "text": [
      "\\begin{gather*}x \\neq z \\neq y\\end{gather*}\n"
     ]
    },
    {
     "data": {
      "text/latex": [
       "\\begin{gather*}x \\neq z \\neq y\\end{gather*}"
      ],
      "text/plain": [
       "<IPython.core.display.Latex object>"
      ]
     },
     "execution_count": 5,
     "metadata": {},
     "output_type": "execute_result"
    }
   ],
   "source": [
    "platex(x.ne(z).ne(y))"
   ]
  },
  {
   "cell_type": "markdown",
   "metadata": {},
   "source": [
    "Ordering Operators Example"
   ]
  },
  {
   "cell_type": "code",
   "execution_count": 16,
   "metadata": {},
   "outputs": [
    {
     "name": "stdout",
     "output_type": "stream",
     "text": [
      "\\begin{gather*}\\vec{\\mathbf{x}} \\geq \\vec{\\mathbf{y}}\\end{gather*}\n"
     ]
    },
    {
     "data": {
      "text/latex": [
       "\\begin{gather*}\\vec{\\mathbf{x}} \\geq \\vec{\\mathbf{y}}\\end{gather*}"
      ],
      "text/plain": [
       "<IPython.core.display.Latex object>"
      ]
     },
     "execution_count": 16,
     "metadata": {},
     "output_type": "execute_result"
    }
   ],
   "source": [
    "platex(x >= y)"
   ]
  },
  {
   "cell_type": "code",
   "execution_count": 9,
   "metadata": {},
   "outputs": [
    {
     "name": "stdout",
     "output_type": "stream",
     "text": [
      "\\begin{gather*}y \\geq z\\end{gather*}\n"
     ]
    },
    {
     "data": {
      "text/latex": [
       "\\begin{gather*}y \\geq z\\end{gather*}"
      ],
      "text/plain": [
       "<IPython.core.display.Latex object>"
      ]
     },
     "execution_count": 9,
     "metadata": {},
     "output_type": "execute_result"
    }
   ],
   "source": [
    "# As you can see this gives undefined erronous behaviour. Use ge\n",
    "platex(x >= y >= z)"
   ]
  },
  {
   "cell_type": "code",
   "execution_count": 10,
   "metadata": {},
   "outputs": [
    {
     "name": "stdout",
     "output_type": "stream",
     "text": [
      "\\begin{gather*}x \\geq y \\geq z\\end{gather*}\n"
     ]
    },
    {
     "data": {
      "text/latex": [
       "\\begin{gather*}x \\geq y \\geq z\\end{gather*}"
      ],
      "text/plain": [
       "<IPython.core.display.Latex object>"
      ]
     },
     "execution_count": 10,
     "metadata": {},
     "output_type": "execute_result"
    }
   ],
   "source": [
    "# Correct implementation for upper part\n",
    "platex(x.ge(y).ge(z))"
   ]
  },
  {
   "cell_type": "markdown",
   "metadata": {},
   "source": [
    "String Argument passed to `Var` or `makeVar` is rendered in the latex. It is recommended to map arguments to approximately same names of `Var` instances"
   ]
  },
  {
   "cell_type": "code",
   "execution_count": 22,
   "metadata": {},
   "outputs": [
    {
     "name": "stdout",
     "output_type": "stream",
     "text": [
      "\\begin{gather*}a = x + c = a\\end{gather*}\n"
     ]
    },
    {
     "data": {
      "text/latex": [
       "\\begin{gather*}a = x + c = a\\end{gather*}"
      ],
      "text/plain": [
       "<IPython.core.display.Latex object>"
      ]
     },
     "execution_count": 22,
     "metadata": {},
     "output_type": "execute_result"
    }
   ],
   "source": [
    "a = Var('a')\n",
    "b = Var('x')\n",
    "c = makeVar('c')\n",
    "\n",
    "\n",
    "platex(a.eq(b+c).eq(a))"
   ]
  },
  {
   "cell_type": "markdown",
   "metadata": {},
   "source": [
    "`==` is overloaded version of `equals` method. Use whichever you prefer"
   ]
  },
  {
   "cell_type": "code",
   "execution_count": 23,
   "metadata": {},
   "outputs": [
    {
     "name": "stdout",
     "output_type": "stream",
     "text": [
      "\\begin{gather*}a = x + c\\end{gather*}\n"
     ]
    },
    {
     "data": {
      "text/latex": [
       "\\begin{gather*}a = x + c\\end{gather*}"
      ],
      "text/plain": [
       "<IPython.core.display.Latex object>"
      ]
     },
     "execution_count": 23,
     "metadata": {},
     "output_type": "execute_result"
    }
   ],
   "source": [
    "platex(a.eq(b + c))"
   ]
  },
  {
   "cell_type": "markdown",
   "metadata": {},
   "source": [
    "You can also use Vectors. `Vector` class is used. `makeVector` convenience function similarly supported"
   ]
  },
  {
   "cell_type": "code",
   "execution_count": 24,
   "metadata": {},
   "outputs": [
    {
     "name": "stdout",
     "output_type": "stream",
     "text": [
      "\\begin{gather*}\\vec{\\mathbf{f}}(\\vec{\\mathbf{x}},\\vec{\\mathbf{y}}) = \\vec{\\mathbf{x}}^\\vec{\\mathbf{y}} + \\vec{\\mathbf{x}} * \\vec{\\mathbf{y}} + 1\\end{gather*}\n"
     ]
    },
    {
     "data": {
      "text/latex": [
       "\\begin{gather*}\\vec{\\mathbf{f}}(\\vec{\\mathbf{x}},\\vec{\\mathbf{y}}) = \\vec{\\mathbf{x}}^\\vec{\\mathbf{y}} + \\vec{\\mathbf{x}} * \\vec{\\mathbf{y}} + 1\\end{gather*}"
      ],
      "text/plain": [
       "<IPython.core.display.Latex object>"
      ]
     },
     "execution_count": 24,
     "metadata": {},
     "output_type": "execute_result"
    }
   ],
   "source": [
    "from pytex import Vector, makeVector\n",
    "f,x,y = makeVector('f','x','y')\n",
    "_1 = makeVar(1)\n",
    "op = f(x,y).eq(x**y + x*y + _1)\n",
    "platex(op)"
   ]
  },
  {
   "cell_type": "markdown",
   "metadata": {},
   "source": [
    "## Series\n",
    "\n",
    "### Summation\n",
    "**NOTE:** upper and lower limits are optional. (Shown in `Product`)"
   ]
  },
  {
   "cell_type": "code",
   "execution_count": 25,
   "metadata": {},
   "outputs": [
    {
     "name": "stdout",
     "output_type": "stream",
     "text": [
      "\\begin{gather*}\\sum_{i=1}^{10} i^2 + i + 1\\end{gather*}\n"
     ]
    },
    {
     "data": {
      "text/latex": [
       "\\begin{gather*}\\sum_{i=1}^{10} i^2 + i + 1\\end{gather*}"
      ],
      "text/plain": [
       "<IPython.core.display.Latex object>"
      ]
     },
     "execution_count": 25,
     "metadata": {},
     "output_type": "execute_result"
    }
   ],
   "source": [
    "from pytex import Sum\n",
    "i, _1, _10 = makeVar('i', 1, 10)\n",
    "op = Sum(i**2+i+1, i, _1, _10)\n",
    "platex(op)"
   ]
  },
  {
   "cell_type": "markdown",
   "metadata": {},
   "source": [
    "### Product"
   ]
  },
  {
   "cell_type": "code",
   "execution_count": 26,
   "metadata": {},
   "outputs": [
    {
     "name": "stdout",
     "output_type": "stream",
     "text": [
      "\\begin{gather*}\\prod_{i} i^2 + i + 1\\end{gather*}\n"
     ]
    },
    {
     "data": {
      "text/latex": [
       "\\begin{gather*}\\prod_{i} i^2 + i + 1\\end{gather*}"
      ],
      "text/plain": [
       "<IPython.core.display.Latex object>"
      ]
     },
     "execution_count": 26,
     "metadata": {},
     "output_type": "execute_result"
    }
   ],
   "source": [
    "from pytex import Product\n",
    "i = makeVar('i')\n",
    "op = Product(pow(i,2)+i+1, i)\n",
    "platex(op)"
   ]
  },
  {
   "cell_type": "markdown",
   "metadata": {},
   "source": [
    "## Derivatives and Partial Derivatives\n",
    "\n",
    "Similar to `Var` we have `Derivative` and `Partial` implementations. `makeDerivative` and `makePartial` are parallel implementations of `makeVar`"
   ]
  },
  {
   "cell_type": "code",
   "execution_count": 27,
   "metadata": {},
   "outputs": [
    {
     "name": "stdout",
     "output_type": "stream",
     "text": [
      "\\begin{gather*}\\frac{d}{d x}\\hspace{1mm}\\frac{d^{2}}{d y^2}\\hspace{1mm}x + y\\end{gather*}\n"
     ]
    },
    {
     "data": {
      "text/latex": [
       "\\begin{gather*}\\frac{d}{d x}\\hspace{1mm}\\frac{d^{2}}{d y^2}\\hspace{1mm}x + y\\end{gather*}"
      ],
      "text/plain": [
       "<IPython.core.display.Latex object>"
      ]
     },
     "execution_count": 27,
     "metadata": {},
     "output_type": "execute_result"
    }
   ],
   "source": [
    "from pytex import makeDerivative\n",
    "\n",
    "# NOTE: makeDerivative takes args in forms of tuples of size two\n",
    "#       the first element in the tuple is the name of the differentiating variable\n",
    "#       the second element is the degree of the variable\n",
    "# NOTE: degree of 1 is not shown in latex\n",
    "\n",
    "dx, dy = makeDerivative(('x', 1), ('y', 2))\n",
    "x, y = makeVar('x', 'y')\n",
    "op = dx | dy | x+y\n",
    "platex(op)"
   ]
  },
  {
   "cell_type": "markdown",
   "metadata": {},
   "source": [
    "You can use a more complex expression as differentiator too. Also shows an example of not equal"
   ]
  },
  {
   "cell_type": "code",
   "execution_count": 28,
   "metadata": {},
   "outputs": [
    {
     "name": "stdout",
     "output_type": "stream",
     "text": [
      "\\begin{gather*}\\frac{d^{2}}{d (x^2 + x + 1)^2}\\hspace{1mm}x^2 + x + 1 \\neq 2\\end{gather*}\n"
     ]
    },
    {
     "data": {
      "text/latex": [
       "\\begin{gather*}\\frac{d^{2}}{d (x^2 + x + 1)^2}\\hspace{1mm}x^2 + x + 1 \\neq 2\\end{gather*}"
      ],
      "text/plain": [
       "<IPython.core.display.Latex object>"
      ]
     },
     "execution_count": 28,
     "metadata": {},
     "output_type": "execute_result"
    }
   ],
   "source": [
    "x = makeVar('x')\n",
    "f = (pow(x,2) + x + 1)\n",
    "df = makeDerivative((f,2))\n",
    "\n",
    "op = df | f != Var('2')\n",
    "platex(op)"
   ]
  },
  {
   "cell_type": "markdown",
   "metadata": {},
   "source": [
    "We used `|` for space between the variables. Calling `df` with `f` in the previous example will result in parenthesizing the function on which the differentiation operator acts.  \n",
    "**NOTE:** The `=` here is normal python assignment to a new variable `op`. It wont be rendered as your latex. For that you either use `@` operator or the `equals` method"
   ]
  },
  {
   "cell_type": "code",
   "execution_count": 29,
   "metadata": {},
   "outputs": [
    {
     "name": "stdout",
     "output_type": "stream",
     "text": [
      "\\begin{gather*}\\frac{d^{2}}{d (x^2 + x + 1)^2}(x^2 + x + 1) \\neq 2\\end{gather*}\n"
     ]
    },
    {
     "data": {
      "text/latex": [
       "\\begin{gather*}\\frac{d^{2}}{d (x^2 + x + 1)^2}(x^2 + x + 1) \\neq 2\\end{gather*}"
      ],
      "text/plain": [
       "<IPython.core.display.Latex object>"
      ]
     },
     "execution_count": 29,
     "metadata": {},
     "output_type": "execute_result"
    }
   ],
   "source": [
    "op = df(f) != makeVar('2')\n",
    "platex(op)"
   ]
  },
  {
   "cell_type": "markdown",
   "metadata": {},
   "source": [
    "Same example with Partial"
   ]
  },
  {
   "cell_type": "code",
   "execution_count": 30,
   "metadata": {},
   "outputs": [
    {
     "name": "stdout",
     "output_type": "stream",
     "text": [
      "\\begin{gather*}\\frac{\\partial ^{3}}{\\partial  (x^2 + x + 1)^3}\\hspace{1mm}x^2 + x + 1 = 1\\end{gather*}\n"
     ]
    },
    {
     "data": {
      "text/latex": [
       "\\begin{gather*}\\frac{\\partial ^{3}}{\\partial  (x^2 + x + 1)^3}\\hspace{1mm}x^2 + x + 1 = 1\\end{gather*}"
      ],
      "text/plain": [
       "<IPython.core.display.Latex object>"
      ]
     },
     "execution_count": 30,
     "metadata": {},
     "output_type": "execute_result"
    }
   ],
   "source": [
    "from pytex import makePartial\n",
    "x = makeVar('x')\n",
    "f = pow(x,2) + x + 1\n",
    "df = makePartial((f,3))\n",
    "\n",
    "op = df | f == Var('1')\n",
    "platex(op)"
   ]
  },
  {
   "cell_type": "markdown",
   "metadata": {},
   "source": [
    "## Matrices and Vectors\n",
    "\n",
    "You can make both matrices and vectors with a single class `Matrix` by giving appropriate dimensions  \n",
    "`MatrixBuilder` provides a builder pattern API to create a Matrix.  \n",
    "\n",
    "For `Matrix`, pass a list representing a matrix with appropriate dimensions"
   ]
  },
  {
   "cell_type": "code",
   "execution_count": 31,
   "metadata": {},
   "outputs": [
    {
     "name": "stdout",
     "output_type": "stream",
     "text": [
      "\\begin{gather*}\\begin{bmatrix} 1 &  2 &  3 \\end{bmatrix}\\end{gather*}\n"
     ]
    },
    {
     "data": {
      "text/latex": [
       "\\begin{gather*}\\begin{bmatrix} 1 &  2 &  3 \\end{bmatrix}\\end{gather*}"
      ],
      "text/plain": [
       "<IPython.core.display.Latex object>"
      ]
     },
     "execution_count": 31,
     "metadata": {},
     "output_type": "execute_result"
    }
   ],
   "source": [
    "from pytex import Matrix\n",
    "# simple row vector\n",
    "platex(Matrix([1,2,3]))"
   ]
  },
  {
   "cell_type": "code",
   "execution_count": 32,
   "metadata": {},
   "outputs": [
    {
     "name": "stdout",
     "output_type": "stream",
     "text": [
      "\\begin{gather*}\\begin{bmatrix} 1 \\\\ 2 \\\\ 3 \\end{bmatrix}\\end{gather*}\n"
     ]
    },
    {
     "data": {
      "text/latex": [
       "\\begin{gather*}\\begin{bmatrix} 1 \\\\ 2 \\\\ 3 \\end{bmatrix}\\end{gather*}"
      ],
      "text/plain": [
       "<IPython.core.display.Latex object>"
      ]
     },
     "execution_count": 32,
     "metadata": {},
     "output_type": "execute_result"
    }
   ],
   "source": [
    "# simple column vector\n",
    "m = [[1],[2],[3]]\n",
    "platex(Matrix(m))"
   ]
  },
  {
   "cell_type": "code",
   "execution_count": 33,
   "metadata": {},
   "outputs": [
    {
     "name": "stdout",
     "output_type": "stream",
     "text": [
      "\\begin{gather*}\\begin{bmatrix} 1 \\\\ 2 \\\\ 3 \\end{bmatrix}^{2}_{3x1}\\end{gather*}\n"
     ]
    },
    {
     "data": {
      "text/latex": [
       "\\begin{gather*}\\begin{bmatrix} 1 \\\\ 2 \\\\ 3 \\end{bmatrix}^{2}_{3x1}\\end{gather*}"
      ],
      "text/plain": [
       "<IPython.core.display.Latex object>"
      ]
     },
     "execution_count": 33,
     "metadata": {},
     "output_type": "execute_result"
    }
   ],
   "source": [
    "# adding subscript and powers\n",
    "platex(Matrix(m, '3x1', 2))"
   ]
  },
  {
   "cell_type": "code",
   "execution_count": 34,
   "metadata": {},
   "outputs": [
    {
     "name": "stdout",
     "output_type": "stream",
     "text": [
      "\\begin{gather*}\\begin{pmatrix} 1 \\\\ 2 \\\\ 3 \\end{pmatrix}\\hspace{1mm}\\begin{vmatrix} 1 \\\\ 2 \\\\ 3 \\end{vmatrix}\\hspace{1mm}\\begin{Vmatrix} 1 \\\\ 2 \\\\ 3 \\end{Vmatrix}\\end{gather*}\n"
     ]
    },
    {
     "data": {
      "text/latex": [
       "\\begin{gather*}\\begin{pmatrix} 1 \\\\ 2 \\\\ 3 \\end{pmatrix}\\hspace{1mm}\\begin{vmatrix} 1 \\\\ 2 \\\\ 3 \\end{vmatrix}\\hspace{1mm}\\begin{Vmatrix} 1 \\\\ 2 \\\\ 3 \\end{Vmatrix}\\end{gather*}"
      ],
      "text/plain": [
       "<IPython.core.display.Latex object>"
      ]
     },
     "execution_count": 34,
     "metadata": {},
     "output_type": "execute_result"
    }
   ],
   "source": [
    "# different types of brackets, default is [] -> square brackets\n",
    "# Passing anything else in surround renders the matrix without a border\n",
    "platex(Matrix(m, surround='()') | Matrix(m, surround='||') | Matrix(m, surround='||||'))"
   ]
  },
  {
   "cell_type": "markdown",
   "metadata": {},
   "source": [
    "A more complex matrix example"
   ]
  },
  {
   "cell_type": "code",
   "execution_count": 35,
   "metadata": {},
   "outputs": [
    {
     "name": "stdout",
     "output_type": "stream",
     "text": [
      "\\begin{gather*}\\begin{vmatrix} i &  j &  k \\\\ \\frac{\\partial }{\\partial  u}\\hspace{1mm}X &  \\frac{\\partial }{\\partial  u}\\hspace{1mm}Y &  0 \\\\ \\frac{\\partial }{\\partial  v}\\hspace{1mm}X &  \\frac{\\partial }{\\partial  v}\\hspace{1mm}Y &  0 \\end{vmatrix}^{2}_{3x3}\\end{gather*}\n"
     ]
    },
    {
     "data": {
      "text/latex": [
       "\\begin{gather*}\\begin{vmatrix} i &  j &  k \\\\ \\frac{\\partial }{\\partial  u}\\hspace{1mm}X &  \\frac{\\partial }{\\partial  u}\\hspace{1mm}Y &  0 \\\\ \\frac{\\partial }{\\partial  v}\\hspace{1mm}X &  \\frac{\\partial }{\\partial  v}\\hspace{1mm}Y &  0 \\end{vmatrix}^{2}_{3x3}\\end{gather*}"
      ],
      "text/plain": [
       "<IPython.core.display.Latex object>"
      ]
     },
     "execution_count": 35,
     "metadata": {},
     "output_type": "execute_result"
    }
   ],
   "source": [
    "from pytex import makePartial, makeVar, Matrix\n",
    "from pytex.platforms.jupyter import latex\n",
    "du, dv = makePartial('u', 'v')\n",
    "X, Y = makeVar('X', 'Y')\n",
    "l = [\n",
    "    ['i', 'j', 'k'],\n",
    "    [du|X, du|Y, 0],\n",
    "    [dv|X, dv|Y, 0]\n",
    "]\n",
    "platex(Matrix(l, subscript='3x3', power=2,surround='||'))"
   ]
  },
  {
   "cell_type": "markdown",
   "metadata": {},
   "source": [
    "Same example with `MatrixBuilder`"
   ]
  },
  {
   "cell_type": "code",
   "execution_count": 36,
   "metadata": {},
   "outputs": [
    {
     "name": "stdout",
     "output_type": "stream",
     "text": [
      "\\begin{gather*}\\begin{vmatrix} i &  j &  k \\\\ \\frac{\\partial }{\\partial  u}\\hspace{1mm}X &  \\frac{\\partial }{\\partial  u}\\hspace{1mm}Y &  0 \\\\ \\frac{\\partial }{\\partial  v}\\hspace{1mm}X &  \\frac{\\partial }{\\partial  v}\\hspace{1mm}Y &  0 \\end{vmatrix}^{2}_{3x3}\\end{gather*}\n"
     ]
    },
    {
     "data": {
      "text/latex": [
       "\\begin{gather*}\\begin{vmatrix} i &  j &  k \\\\ \\frac{\\partial }{\\partial  u}\\hspace{1mm}X &  \\frac{\\partial }{\\partial  u}\\hspace{1mm}Y &  0 \\\\ \\frac{\\partial }{\\partial  v}\\hspace{1mm}X &  \\frac{\\partial }{\\partial  v}\\hspace{1mm}Y &  0 \\end{vmatrix}^{2}_{3x3}\\end{gather*}"
      ],
      "text/plain": [
       "<IPython.core.display.Latex object>"
      ]
     },
     "execution_count": 36,
     "metadata": {},
     "output_type": "execute_result"
    }
   ],
   "source": [
    "# from pytex import MatrixBuilder\n",
    "from pytex import makePartial, makeVar, Matrix\n",
    "from pytex.platforms.jupyter import latex\n",
    "du, dv = makePartial('u', 'v')\n",
    "X, Y = makeVar('X', 'Y')\n",
    "\n",
    "m = (Matrix.builder()\n",
    "    .add('i','j','k')\n",
    "    .add(du|X, du|Y, 0)\n",
    "    .add(dv|X, dv|Y, 0)\n",
    "    .create(subscript='3x3', power=2, surround='||'))\n",
    "platex(m)"
   ]
  },
  {
   "cell_type": "markdown",
   "metadata": {},
   "source": [
    "`MatrixWithDots` is also best explained by example"
   ]
  },
  {
   "cell_type": "code",
   "execution_count": 37,
   "metadata": {},
   "outputs": [
    {
     "name": "stdout",
     "output_type": "stream",
     "text": [
      "\\begin{gather*}\\vec{\\mathbf{J}} = \\begin{bmatrix} \\frac{\\partial }{\\partial  x_1}\\hspace{1mm}\\vec{\\mathbf{f}} &  \\cdots &  \\frac{\\partial }{\\partial  x_n}\\hspace{1mm}\\vec{\\mathbf{f}} \\end{bmatrix}\\end{gather*}\n"
     ]
    },
    {
     "data": {
      "text/latex": [
       "\\begin{gather*}\\vec{\\mathbf{J}} = \\begin{bmatrix} \\frac{\\partial }{\\partial  x_1}\\hspace{1mm}\\vec{\\mathbf{f}} &  \\cdots &  \\frac{\\partial }{\\partial  x_n}\\hspace{1mm}\\vec{\\mathbf{f}} \\end{bmatrix}\\end{gather*}"
      ],
      "text/plain": [
       "<IPython.core.display.Latex object>"
      ]
     },
     "execution_count": 37,
     "metadata": {},
     "output_type": "execute_result"
    }
   ],
   "source": [
    "from pytex import MatrixWithDots, makeVector, makeVar, makePartial\n",
    "# Jacobian matrix\n",
    "\n",
    "f, J = makeVector('f', 'J')\n",
    "f1, fm = makeVar('f_1', 'f_m')\n",
    "dx1, dxn = makePartial(('x_1',), ('x_n',))\n",
    "op = J == MatrixWithDots([[dx1|f, dxn|f]])\n",
    "platex(op)"
   ]
  },
  {
   "cell_type": "code",
   "execution_count": 38,
   "metadata": {},
   "outputs": [
    {
     "name": "stdout",
     "output_type": "stream",
     "text": [
      "\\begin{gather*}\\vec{\\mathbf{J}} = \\begin{bmatrix} \\frac{\\partial }{\\partial  x_1}\\hspace{1mm}\\vec{\\mathbf{f}} &  \\cdots &  \\frac{\\partial }{\\partial  x_n}\\hspace{1mm}\\vec{\\mathbf{f}} \\end{bmatrix} = \\begin{bmatrix} \\frac{\\partial }{\\partial  x_1}\\hspace{1mm}f_1 &  \\cdots &  \\frac{\\partial }{\\partial  x_n}\\hspace{1mm}f_1 \\\\ \\vdots &  \\ddots &  \\vdots \\\\ \\frac{\\partial }{\\partial  x_1}\\hspace{1mm}f_m &  \\cdots &  \\frac{\\partial }{\\partial  x_n}\\hspace{1mm}f_m \\end{bmatrix}\\end{gather*}\n"
     ]
    },
    {
     "data": {
      "text/latex": [
       "\\begin{gather*}\\vec{\\mathbf{J}} = \\begin{bmatrix} \\frac{\\partial }{\\partial  x_1}\\hspace{1mm}\\vec{\\mathbf{f}} &  \\cdots &  \\frac{\\partial }{\\partial  x_n}\\hspace{1mm}\\vec{\\mathbf{f}} \\end{bmatrix} = \\begin{bmatrix} \\frac{\\partial }{\\partial  x_1}\\hspace{1mm}f_1 &  \\cdots &  \\frac{\\partial }{\\partial  x_n}\\hspace{1mm}f_1 \\\\ \\vdots &  \\ddots &  \\vdots \\\\ \\frac{\\partial }{\\partial  x_1}\\hspace{1mm}f_m &  \\cdots &  \\frac{\\partial }{\\partial  x_n}\\hspace{1mm}f_m \\end{bmatrix}\\end{gather*}"
      ],
      "text/plain": [
       "<IPython.core.display.Latex object>"
      ]
     },
     "execution_count": 38,
     "metadata": {},
     "output_type": "execute_result"
    }
   ],
   "source": [
    "ll = [\n",
    "    [dx1 | f1, dxn | f1],\n",
    "    [dx1 | fm, dxn | fm],\n",
    "]\n",
    "op2 = op.equals(MatrixWithDots(ll, shape=(3,3)))\n",
    "platex(op2)"
   ]
  },
  {
   "cell_type": "markdown",
   "metadata": {},
   "source": [
    "`MatrixWithDots` is good with placing dots only when the list size is not the same as the shape passed. By default, it makes one extra row and one extra column unless size of the dimension is 1, in that case it makes a single row/column. For more than 1 size, it puts the last element in the row to the last column at that row and puts dots between them. Same for columns"
   ]
  },
  {
   "cell_type": "markdown",
   "metadata": {},
   "source": [
    "The library provides many of the LaTeX math symbols by the same name with some exceptions in case of a name clash with python keyword (eg. `lambda`)"
   ]
  },
  {
   "cell_type": "code",
   "execution_count": 39,
   "metadata": {},
   "outputs": [],
   "source": [
    "from pytex import Greek as G, Set as st, Operator as opr"
   ]
  },
  {
   "cell_type": "code",
   "execution_count": 40,
   "metadata": {},
   "outputs": [
    {
     "name": "stdout",
     "output_type": "stream",
     "text": [
      "\\begin{gather*}\\beta\\hspace{1mm}\\subseteq\\hspace{1mm}\\Delta\\hspace{1mm}\\approxeq\\hspace{1mm}x + 1\\end{gather*}\n"
     ]
    },
    {
     "data": {
      "text/latex": [
       "\\begin{gather*}\\beta\\hspace{1mm}\\subseteq\\hspace{1mm}\\Delta\\hspace{1mm}\\approxeq\\hspace{1mm}x + 1\\end{gather*}"
      ],
      "text/plain": [
       "<IPython.core.display.Latex object>"
      ]
     },
     "execution_count": 40,
     "metadata": {},
     "output_type": "execute_result"
    }
   ],
   "source": [
    "op = G.beta | st.subseteq | G.Delta | opr.approxeq | Var('x') + 1\n",
    "platex(op)"
   ]
  }
 ],
 "metadata": {
  "kernelspec": {
   "display_name": "Python 3",
   "language": "python",
   "name": "python3"
  },
  "language_info": {
   "codemirror_mode": {
    "name": "ipython",
    "version": 3
   },
   "file_extension": ".py",
   "mimetype": "text/x-python",
   "name": "python",
   "nbconvert_exporter": "python",
   "pygments_lexer": "ipython3",
   "version": "3.8.3"
  }
 },
 "nbformat": 4,
 "nbformat_minor": 4
}
