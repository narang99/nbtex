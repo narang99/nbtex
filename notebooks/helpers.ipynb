{
 "cells": [
  {
   "cell_type": "code",
   "execution_count": 45,
   "metadata": {},
   "outputs": [],
   "source": [
    "#export\n",
    "def varArgFunc(func, *args):\n",
    "    if len(args) == 1: return func(args[0])\n",
    "    return [func(arg) for arg in args]"
   ]
  },
  {
   "cell_type": "code",
   "execution_count": 46,
   "metadata": {},
   "outputs": [],
   "source": [
    "#export\n",
    "class OverloadedBinaryOperator():\n",
    "    def __init__(self, mid, precedence):\n",
    "        self._precedence = precedence\n",
    "        self._mid = mid\n",
    "    @property\n",
    "    def precedence(self):\n",
    "        return self._precedence\n",
    "    @property\n",
    "    def mid(self): \n",
    "        return self._mid\n",
    "    \n",
    "ADD = OverloadedBinaryOperator(' + ', 1)\n",
    "SUB = OverloadedBinaryOperator(' - ', 1)\n",
    "MUL = OverloadedBinaryOperator(' * ', 2)\n",
    "DIV = OverloadedBinaryOperator(' ', 2)\n",
    "POW = OverloadedBinaryOperator('^', 3)\n",
    "EQ = OverloadedBinaryOperator(' = ', 0)\n",
    "NE = OverloadedBinaryOperator(r' \\neq ', 0)\n",
    "OR = OverloadedBinaryOperator(r'\\hspace{1mm}', 0)\n",
    "GT = OverloadedBinaryOperator(' > ', 0)\n",
    "LT = OverloadedBinaryOperator(' < ', 0)\n",
    "GE = OverloadedBinaryOperator(r' \\geq ', 0)\n",
    "LE = OverloadedBinaryOperator(r' \\leq ', 0)\n",
    "MAX = OverloadedBinaryOperator('', 4)"
   ]
  },
  {
   "cell_type": "code",
   "execution_count": 47,
   "metadata": {},
   "outputs": [
    {
     "data": {
      "text/plain": [
       "__main__.OverloadedBinaryOperator"
      ]
     },
     "execution_count": 47,
     "metadata": {},
     "output_type": "execute_result"
    }
   ],
   "source": [
    "type(ADD)"
   ]
  },
  {
   "cell_type": "code",
   "execution_count": 49,
   "metadata": {},
   "outputs": [],
   "source": [
    "from pytex.Variable import Var\n",
    "\n",
    "o,t,th,f = varArgFunc(Var, 1,2,3,4)\n",
    "#wrap(Matrix([o,t,th,f]))"
   ]
  },
  {
   "cell_type": "code",
   "execution_count": 51,
   "metadata": {},
   "outputs": [
    {
     "name": "stdout",
     "output_type": "stream",
     "text": [
      "Converted /home/default/Documents/py-latex/pytex/notebooks/helpers.ipynb to /home/default/Documents/py-latex/pytex/pytex/helpers.py\r\n"
     ]
    }
   ],
   "source": [
    "! python3 ./notebook2script.py helpers.ipynb"
   ]
  }
 ],
 "metadata": {
  "kernelspec": {
   "display_name": "Python 3",
   "language": "python",
   "name": "python3"
  },
  "language_info": {
   "codemirror_mode": {
    "name": "ipython",
    "version": 3
   },
   "file_extension": ".py",
   "mimetype": "text/x-python",
   "name": "python",
   "nbconvert_exporter": "python",
   "pygments_lexer": "ipython3",
   "version": "3.8.3"
  }
 },
 "nbformat": 4,
 "nbformat_minor": 4
}
