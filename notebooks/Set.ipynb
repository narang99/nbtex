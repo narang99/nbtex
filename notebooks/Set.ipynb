{
 "cells": [
  {
   "cell_type": "code",
   "execution_count": 2,
   "metadata": {},
   "outputs": [],
   "source": [
    "#export\n",
    "from pytex.Variable import Var"
   ]
  },
  {
   "cell_type": "code",
   "execution_count": 3,
   "metadata": {},
   "outputs": [],
   "source": [
    "#export\n",
    "class SetSymbols():\n",
    "    def __init__(self):\n",
    "        pass\n",
    "    @property\n",
    "    def Subset(self):\n",
    "        return Var(r'\\Subset')\n",
    "    @property\n",
    "    def sqsubset(self):\n",
    "        return Var(r'\\sqsubset')\n",
    "    @property\n",
    "    def triangleleft(self):\n",
    "        return Var(r'\\triangleleft')\n",
    "    @property\n",
    "    def blacktriangleleft(self):\n",
    "        return Var(r'\\blacktriangleleft')\n",
    "    @property\n",
    "    def supset(self):\n",
    "        return Var(r'\\supset')\n",
    "    @property\n",
    "    def Supset(self):\n",
    "        return Var(r'\\Supset')\n",
    "    @property\n",
    "    def sqsupset(self):\n",
    "        return Var(r'\\sqsupset')\n",
    "    @property\n",
    "    def triangleright(self):\n",
    "        return Var(r'\\triangleright')\n",
    "    @property\n",
    "    def blacktriangleright(self):\n",
    "        return Var(r'\\blacktriangleright')\n",
    "    @property\n",
    "    def cap(self):\n",
    "        return Var(r'\\cap')\n",
    "    @property\n",
    "    def Cap(self):\n",
    "        return Var(r'\\Cap')\n",
    "    @property\n",
    "    def sqcap(self):\n",
    "        return Var(r'\\sqcap')\n",
    "    @property\n",
    "    def vartriangle(self):\n",
    "        return Var(r'\\vartriangle')\n",
    "    @property\n",
    "    def blacktriangle(self):\n",
    "        return Var(r'\\blacktriangle')\n",
    "    @property\n",
    "    def cup(self):\n",
    "        return Var(r'\\cup')\n",
    "    @property\n",
    "    def Cup(self):\n",
    "        return Var(r'\\Cup')\n",
    "    @property\n",
    "    def sqcup(self):\n",
    "        return Var(r'\\sqcup')\n",
    "    @property\n",
    "    def triangledown(self):\n",
    "        return Var(r'\\triangledown')\n",
    "    @property\n",
    "    def blacktriangledown(self):\n",
    "        return Var(r'\\blacktriangledown')\n",
    "    @property\n",
    "    def In(self):\n",
    "        return Var(r'\\in')\n",
    "    @property\n",
    "    def subseteq(self):\n",
    "        return Var(r'\\subseteq')\n",
    "    @property\n",
    "    def subseteqq(self):\n",
    "        return Var(r'\\subseteqq')\n",
    "    @property\n",
    "    def sqsubseteq(self):\n",
    "        return Var(r'\\sqsubseteq')\n",
    "    @property\n",
    "    def ni(self):\n",
    "        return Var(r'\\ni')\n",
    "    @property\n",
    "    def supseteq(self):\n",
    "        return Var(r'\\supseteq')\n",
    "    @property\n",
    "    def supseteqq(self):\n",
    "        return Var(r'\\supseteqq')\n",
    "    @property\n",
    "    def sqsupseteq(self):\n",
    "        return Var(r'\\sqsupseteq')\n",
    "    @property\n",
    "    def notin(self):\n",
    "        return Var(r'\\notin')\n",
    "    @property\n",
    "    def nsubseteq(self):\n",
    "        return Var(r'\\nsubseteq')\n",
    "    @property\n",
    "    def subsetneq(self):\n",
    "        return Var(r'\\subsetneq')\n",
    "    @property\n",
    "    def varsubsetneq(self):\n",
    "        return Var(r'\\varsubsetneq')\n",
    "    @property\n",
    "    def nsubseteqq(self):\n",
    "        return Var(r'\\nsubseteqq')\n",
    "    @property\n",
    "    def subsetneqq(self):\n",
    "        return Var(r'\\subsetneqq')\n",
    "    @property\n",
    "    def varsubsetneqq(self):\n",
    "        return Var(r'\\varsubsetneqq')\n",
    "    @property\n",
    "    def uplus(self):\n",
    "        return Var(r'\\uplus')\n",
    "    @property\n",
    "    def nsupseteq(self):\n",
    "        return Var(r'\\nsupseteq')\n",
    "    @property\n",
    "    def supsetneq(self):\n",
    "        return Var(r'\\supsetneq')\n",
    "    @property\n",
    "    def varsupsetneq(self):\n",
    "        return Var(r'\\varsupsetneq')\n",
    "    @property\n",
    "    def nsupseteqq(self):\n",
    "        return Var(r'\\nsupseteqq')\n",
    "    @property\n",
    "    def supsetneqq(self):\n",
    "        return Var(r'\\supsetneqq')\n",
    "    @property\n",
    "    def varsupsetneqq(self):\n",
    "        return Var(r'\\varsupsetneqq')"
   ]
  },
  {
   "cell_type": "code",
   "execution_count": 4,
   "metadata": {},
   "outputs": [],
   "source": [
    "#export\n",
    "Set = SetSymbols()"
   ]
  },
  {
   "cell_type": "code",
   "execution_count": 6,
   "metadata": {},
   "outputs": [
    {
     "data": {
      "text/latex": [
       "\\begin{gather*}\\blacktriangle\\end{gather*}"
      ],
      "text/plain": [
       "<IPython.core.display.Latex object>"
      ]
     },
     "execution_count": 6,
     "metadata": {},
     "output_type": "execute_result"
    }
   ],
   "source": [
    "from pytex.platforms.jupyter import latex\n",
    "latex(Set.blacktriangle)"
   ]
  },
  {
   "cell_type": "code",
   "execution_count": 7,
   "metadata": {},
   "outputs": [
    {
     "name": "stdout",
     "output_type": "stream",
     "text": [
      "Converted /home/default/Documents/py-latex/pytex/notebooks/Set.ipynb to /home/default/Documents/py-latex/pytex/pytex/Set.py\r\n"
     ]
    }
   ],
   "source": [
    "! python3 ./notebook2script.py Set.ipynb"
   ]
  },
  {
   "cell_type": "code",
   "execution_count": 7,
   "metadata": {},
   "outputs": [],
   "source": [
    "from exp.SymbolsExtractor import getDefs, getNameSym, getWrappedProps\n",
    "from exp.Variables import wrap"
   ]
  },
  {
   "cell_type": "code",
   "execution_count": 18,
   "metadata": {},
   "outputs": [
    {
     "data": {
      "text/plain": [
       "'TESTS'"
      ]
     },
     "execution_count": 18,
     "metadata": {},
     "output_type": "execute_result"
    }
   ],
   "source": [
    "'TESTS'"
   ]
  },
  {
   "cell_type": "code",
   "execution_count": 5,
   "metadata": {},
   "outputs": [
    {
     "data": {
      "text/plain": [
       "'wrap(ss.Subset | ss.sqsubset | ss.triangleleft | ss.blacktriangleleft | ss.supset | ss.Supset | ss.sqsupset | ss.triangleright | ss.blacktriangleright | ss.cap | ss.Cap | ss.sqcap | ss.vartriangle | ss.blacktriangle | ss.cup | ss.Cup | ss.sqcup | ss.triangledown | ss.blacktriangledown | ss.In | ss.subseteq | ss.subseteqq | ss.sqsubseteq | ss.ni | ss.supseteq | ss.supseteqq | ss.sqsupseteq | ss.notin | ss.nsubseteq | ss.subsetneq | ss.varsubsetneq | ss.nsubseteqq | ss.subsetneqq | ss.varsubsetneqq | ss.uplus | ss.nsupseteq | ss.supsetneq | ss.varsupsetneq | ss.nsupseteqq | ss.supsetneqq | ss.varsupsetneqq )'"
      ]
     },
     "execution_count": 5,
     "metadata": {},
     "output_type": "execute_result"
    }
   ],
   "source": [
    "ss = SetSymbols()\n",
    "getWrappedProps(SetSymbols, 'ss')"
   ]
  },
  {
   "cell_type": "code",
   "execution_count": 6,
   "metadata": {},
   "outputs": [
    {
     "data": {
      "text/latex": [
       "\\begin{gather}\\Subset\\hspace{1mm}\\sqsubset\\hspace{1mm}\\triangleleft\\hspace{1mm}\\blacktriangleleft\\hspace{1mm}\\supset\\hspace{1mm}\\Supset\\hspace{1mm}\\sqsupset\\hspace{1mm}\\triangleright\\hspace{1mm}\\blacktriangleright\\hspace{1mm}\\cap\\hspace{1mm}\\Cap\\hspace{1mm}\\sqcap\\hspace{1mm}\\vartriangle\\hspace{1mm}\\blacktriangle\\hspace{1mm}\\cup\\hspace{1mm}\\Cup\\hspace{1mm}\\sqcup\\hspace{1mm}\\triangledown\\hspace{1mm}\\blacktriangledown\\hspace{1mm}\\in\\hspace{1mm}\\subseteq\\hspace{1mm}\\subseteqq\\hspace{1mm}\\sqsubseteq\\hspace{1mm}\\ni\\hspace{1mm}\\supseteq\\hspace{1mm}\\supseteqq\\hspace{1mm}\\sqsupseteq\\hspace{1mm}\\notin\\hspace{1mm}\\nsubseteq\\hspace{1mm}\\subsetneq\\hspace{1mm}\\varsubsetneq\\hspace{1mm}\\nsubseteqq\\hspace{1mm}\\subsetneqq\\hspace{1mm}\\varsubsetneqq\\hspace{1mm}\\uplus\\hspace{1mm}\\nsupseteq\\hspace{1mm}\\supsetneq\\hspace{1mm}\\varsupsetneq\\hspace{1mm}\\nsupseteqq\\hspace{1mm}\\supsetneqq\\hspace{1mm}\\varsupsetneqq\\end{gather}"
      ],
      "text/plain": [
       "<IPython.core.display.Latex object>"
      ]
     },
     "execution_count": 6,
     "metadata": {},
     "output_type": "execute_result"
    }
   ],
   "source": [
    "wrap(ss.Subset | ss.sqsubset | ss.triangleleft | ss.blacktriangleleft | ss.supset | ss.Supset | ss.sqsupset | ss.triangleright | ss.blacktriangleright | ss.cap | ss.Cap | ss.sqcap | ss.vartriangle | ss.blacktriangle | ss.cup | ss.Cup | ss.sqcup | ss.triangledown | ss.blacktriangledown | ss.In | ss.subseteq | ss.subseteqq | ss.sqsubseteq | ss.ni | ss.supseteq | ss.supseteqq | ss.sqsupseteq | ss.notin | ss.nsubseteq | ss.subsetneq | ss.varsubsetneq | ss.nsubseteqq | ss.subsetneqq | ss.varsubsetneqq | ss.uplus | ss.nsupseteq | ss.supsetneq | ss.varsupsetneq | ss.nsupseteqq | ss.supsetneqq | ss.varsupsetneqq )"
   ]
  },
  {
   "cell_type": "code",
   "execution_count": 17,
   "metadata": {},
   "outputs": [
    {
     "data": {
      "text/plain": [
       "'EXTRACTER'"
      ]
     },
     "execution_count": 17,
     "metadata": {},
     "output_type": "execute_result"
    }
   ],
   "source": [
    "'EXTRACTER'"
   ]
  },
  {
   "cell_type": "code",
   "execution_count": 13,
   "metadata": {},
   "outputs": [
    {
     "name": "stdout",
     "output_type": "stream",
     "text": [
      "@property\n",
      "def Subset(self):\n",
      "    return Var(r'\\Subset')\n",
      "@property\n",
      "def sqsubset(self):\n",
      "    return Var(r'\\sqsubset')\n",
      "@property\n",
      "def triangleleft(self):\n",
      "    return Var(r'\\triangleleft')\n",
      "@property\n",
      "def blacktriangleleft(self):\n",
      "    return Var(r'\\blacktriangleleft')\n",
      "@property\n",
      "def supset(self):\n",
      "    return Var(r'\\supset')\n",
      "@property\n",
      "def Supset(self):\n",
      "    return Var(r'\\Supset')\n",
      "@property\n",
      "def sqsupset(self):\n",
      "    return Var(r'\\sqsupset')\n",
      "@property\n",
      "def triangleright(self):\n",
      "    return Var(r'\\triangleright')\n",
      "@property\n",
      "def blacktriangleright(self):\n",
      "    return Var(r'\\blacktriangleright')\n",
      "@property\n",
      "def cap(self):\n",
      "    return Var(r'\\cap')\n",
      "@property\n",
      "def Cap(self):\n",
      "    return Var(r'\\Cap')\n",
      "@property\n",
      "def sqcap(self):\n",
      "    return Var(r'\\sqcap')\n",
      "@property\n",
      "def vartriangle(self):\n",
      "    return Var(r'\\vartriangle')\n",
      "@property\n",
      "def blacktriangle(self):\n",
      "    return Var(r'\\blacktriangle')\n",
      "@property\n",
      "def cup(self):\n",
      "    return Var(r'\\cup')\n",
      "@property\n",
      "def Cup(self):\n",
      "    return Var(r'\\Cup')\n",
      "@property\n",
      "def sqcup(self):\n",
      "    return Var(r'\\sqcup')\n",
      "@property\n",
      "def triangledown(self):\n",
      "    return Var(r'\\triangledown')\n",
      "@property\n",
      "def blacktriangledown(self):\n",
      "    return Var(r'\\blacktriangledown')\n",
      "@property\n",
      "def in(self):\n",
      "    return Var(r'\\in')\n",
      "@property\n",
      "def subseteq(self):\n",
      "    return Var(r'\\subseteq')\n",
      "@property\n",
      "def subseteqq(self):\n",
      "    return Var(r'\\subseteqq')\n",
      "@property\n",
      "def sqsubseteq(self):\n",
      "    return Var(r'\\sqsubseteq')\n",
      "@property\n",
      "def ni(self):\n",
      "    return Var(r'\\ni')\n",
      "@property\n",
      "def supseteq(self):\n",
      "    return Var(r'\\supseteq')\n",
      "@property\n",
      "def supseteqq(self):\n",
      "    return Var(r'\\supseteqq')\n",
      "@property\n",
      "def sqsupseteq(self):\n",
      "    return Var(r'\\sqsupseteq')\n",
      "@property\n",
      "def notin(self):\n",
      "    return Var(r'\\notin')\n",
      "@property\n",
      "def nsubseteq(self):\n",
      "    return Var(r'\\nsubseteq')\n",
      "@property\n",
      "def subsetneq(self):\n",
      "    return Var(r'\\subsetneq')\n",
      "@property\n",
      "def varsubsetneq(self):\n",
      "    return Var(r'\\varsubsetneq')\n",
      "@property\n",
      "def nsubseteqq(self):\n",
      "    return Var(r'\\nsubseteqq')\n",
      "@property\n",
      "def subsetneqq(self):\n",
      "    return Var(r'\\subsetneqq')\n",
      "@property\n",
      "def varsubsetneqq(self):\n",
      "    return Var(r'\\varsubsetneqq')\n",
      "@property\n",
      "def uplus(self):\n",
      "    return Var(r'\\uplus')\n",
      "@property\n",
      "def nsupseteq(self):\n",
      "    return Var(r'\\nsupseteq')\n",
      "@property\n",
      "def supsetneq(self):\n",
      "    return Var(r'\\supsetneq')\n",
      "@property\n",
      "def varsupsetneq(self):\n",
      "    return Var(r'\\varsupsetneq')\n",
      "@property\n",
      "def nsupseteqq(self):\n",
      "    return Var(r'\\nsupseteqq')\n",
      "@property\n",
      "def supsetneqq(self):\n",
      "    return Var(r'\\supsetneqq')\n",
      "@property\n",
      "def varsupsetneqq(self):\n",
      "    return Var(r'\\varsupsetneqq')\n"
     ]
    }
   ],
   "source": [
    "getDefs(getNameSym(pasta))"
   ]
  },
  {
   "cell_type": "code",
   "execution_count": 12,
   "metadata": {},
   "outputs": [],
   "source": [
    "pasta = r\"\"\"    \\subset \\subset\n",
    "    ⋐ {\\displaystyle \\Subset } \\Subset \\Subset\n",
    "    ⊏ {\\displaystyle \\sqsubset } \\sqsubset \\sqsubset\n",
    "    ◃ {\\displaystyle \\triangleleft } \\triangleleft \\triangleleft\n",
    "    ◂ {\\displaystyle \\blacktriangleleft } \\blacktriangleleft \\blacktriangleleft\n",
    "\n",
    "\t\n",
    "\n",
    "    ⊃ {\\displaystyle \\supset } \\supset \\supset\n",
    "    ⋑ {\\displaystyle \\Supset } \\Supset \\Supset\n",
    "    ⊐ {\\displaystyle \\sqsupset } \\sqsupset \\sqsupset\n",
    "    ▹ {\\displaystyle \\triangleright } \\triangleright \\triangleright\n",
    "    ▸ {\\displaystyle \\blacktriangleright } \\blacktriangleright \\blacktriangleright\n",
    "\n",
    "\t\n",
    "\n",
    "    ∩ {\\displaystyle \\cap } \\cap \\cap\n",
    "    ⋒ {\\displaystyle \\Cap } \\Cap \\Cap\n",
    "    ⊓ {\\displaystyle \\sqcap } \\sqcap \\sqcap\n",
    "    △ {\\displaystyle \\vartriangle } \\vartriangle \\vartriangle\n",
    "    ▴ {\\displaystyle \\blacktriangle } \\blacktriangle \\blacktriangle\n",
    "\n",
    "\t\n",
    "\n",
    "    ∪ {\\displaystyle \\cup } \\cup \\cup\n",
    "    ⋓ {\\displaystyle \\Cup } \\Cup \\Cup\n",
    "    ⊔ {\\displaystyle \\sqcup } \\sqcup \\sqcup\n",
    "    ▽ {\\displaystyle \\triangledown } \\triangledown \\triangledown\n",
    "    ▾ {\\displaystyle \\blacktriangledown } \\blacktriangledown \\blacktriangledown\n",
    "\n",
    "    ∈ {\\displaystyle \\in } \\in \\in\n",
    "    ⊆ {\\displaystyle \\subseteq } \\subseteq \\subseteq\n",
    "      {\\displaystyle \\ } \\ \n",
    "      {\\displaystyle \\ } \\ \n",
    "    ⫅ {\\displaystyle \\subseteqq } \\subseteqq \\subseteqq\n",
    "      {\\displaystyle \\ } \\ \n",
    "      {\\displaystyle \\ } \\ \n",
    "    ⊑ {\\displaystyle \\sqsubseteq } \\sqsubseteq \\sqsubseteq\n",
    "\n",
    "\t\n",
    "\n",
    "    ∋ {\\displaystyle \\ni } \\ni \\ni\n",
    "    ⊇ {\\displaystyle \\supseteq } \\supseteq \\supseteq\n",
    "      {\\displaystyle \\ } \\ \n",
    "      {\\displaystyle \\ } \\ \n",
    "    ⫆ {\\displaystyle \\supseteqq } \\supseteqq \\supseteqq\n",
    "      {\\displaystyle \\ } \\ \n",
    "      {\\displaystyle \\ } \\ \n",
    "    ⊒ {\\displaystyle \\sqsupseteq } \\sqsupseteq \\sqsupseteq\n",
    "\n",
    "\t\n",
    "\n",
    "    ∉ {\\displaystyle \\notin } \\notin \\notin\n",
    "    ⊈ {\\displaystyle \\nsubseteq } \\nsubseteq \\nsubseteq\n",
    "    ⊊ {\\displaystyle \\subsetneq } \\subsetneq \\subsetneq\n",
    "    ⊊ {\\displaystyle \\varsubsetneq } \\varsubsetneq \\varsubsetneq\n",
    "    ⊈ {\\displaystyle \\nsubseteqq } \\nsubseteqq \\nsubseteqq\n",
    "    ⫋ {\\displaystyle \\subsetneqq } \\subsetneqq \\subsetneqq\n",
    "    ⫋ {\\displaystyle \\varsubsetneqq } \\varsubsetneqq \\varsubsetneqq\n",
    "      {\\displaystyle \\ } \\ \n",
    "\n",
    "\t\n",
    "\n",
    "    ⊎ {\\displaystyle \\uplus } \\uplus \\uplus\n",
    "    ⊉ {\\displaystyle \\nsupseteq } \\nsupseteq \\nsupseteq\n",
    "    ⊋ {\\displaystyle \\supsetneq } \\supsetneq \\supsetneq\n",
    "    ⊋ {\\displaystyle \\varsupsetneq } \\varsupsetneq \\varsupsetneq\n",
    "    ⊉ {\\displaystyle \\nsupseteqq } \\nsupseteqq \\nsupseteqq\n",
    "    ⫌ {\\displaystyle \\supsetneqq } \\supsetneqq \\supsetneqq\n",
    "    ⫌ {\\displaystyle \\varsupsetneqq } \\varsupsetneqq \\varsupsetneqq\n",
    "\"\"\""
   ]
  }
 ],
 "metadata": {
  "kernelspec": {
   "display_name": "Python 3",
   "language": "python",
   "name": "python3"
  },
  "language_info": {
   "codemirror_mode": {
    "name": "ipython",
    "version": 3
   },
   "file_extension": ".py",
   "mimetype": "text/x-python",
   "name": "python",
   "nbconvert_exporter": "python",
   "pygments_lexer": "ipython3",
   "version": "3.8.3"
  }
 },
 "nbformat": 4,
 "nbformat_minor": 4
}
