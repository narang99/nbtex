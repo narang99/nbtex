{
 "cells": [
  {
   "cell_type": "code",
   "execution_count": 4,
   "metadata": {},
   "outputs": [],
   "source": [
    "#export\n",
    "from pytex.LatexInterface.LatexFormatters.LatexBasicFormatter import LatexBasicFormatter\n",
    "from pytex.LatexInterface.Operator import Operator\n",
    "\n",
    "class LatexSeriesFormatter():\n",
    "    @staticmethod\n",
    "    def integral(func, wrt, lower='', upper=''):\n",
    "        func, wrt, lower, upper = LatexSeriesFormatter.preprocess_args(func, f'd{wrt}', lower, upper)\n",
    "        return f'\\\\int{lower}{upper}{func} {Operator.space} {wrt}'\n",
    "    \n",
    "    @staticmethod\n",
    "    def partial_integral(func, wrt, lower='', upper=''):\n",
    "        func, wrt, lower, upper = (LatexSeriesFormatter.\n",
    "                                   preprocess_args(func, f'\\\\partial {wrt}', \n",
    "                                                   lower, upper))\n",
    "        return f'\\\\int{lower}{upper}{func} {Operator.space} {wrt}'\n",
    "    \n",
    "    @staticmethod\n",
    "    def summation(func, wrt, lower='', upper=''):\n",
    "        lower = f'{wrt}={lower}' if lower!='' and wrt!='' else wrt\n",
    "        func, _, lower, upper = LatexSeriesFormatter.preprocess_args(func, wrt, lower, upper)\n",
    "        return f'\\\\sum{lower}{upper} {func}'\n",
    "    \n",
    "    @staticmethod\n",
    "    def product(func, wrt='', lower='', upper=''):\n",
    "        lower = f'{wrt}={lower}' if lower!='' and wrt!='' else wrt\n",
    "        func, _, lower, upper = LatexSeriesFormatter.preprocess_args(func, wrt, lower, upper)\n",
    "        return f'\\\\prod{lower}{upper}  {func}'\n",
    "    \n",
    "    @staticmethod\n",
    "    def preprocess_args(func, wrt, lower, upper):\n",
    "        lower, upper = LatexSeriesFormatter.format_lower_upper(lower, upper)\n",
    "        func, wrt = LatexBasicFormatter.surround_all_with_braces(func, wrt)\n",
    "        return func, wrt, lower, upper\n",
    "    \n",
    "    @staticmethod\n",
    "    def format_lower_upper(lower, upper):\n",
    "        lower = LatexBasicFormatter.surround_with_braces(lower) if lower!='' else ''\n",
    "        if lower!='':\n",
    "            lower = LatexBasicFormatter.subscript(lower)\n",
    "        \n",
    "        upper = LatexBasicFormatter.surround_with_braces(upper) if upper!='' else ''\n",
    "        if upper!='':\n",
    "            upper = LatexBasicFormatter.superscript(upper)\n",
    "        return lower, upper"
   ]
  },
  {
   "cell_type": "code",
   "execution_count": 5,
   "metadata": {},
   "outputs": [
    {
     "name": "stdout",
     "output_type": "stream",
     "text": [
      "\\int_{1}^{10}{f} \\hspace{1mm} {\\partial x}\n"
     ]
    }
   ],
   "source": [
    "print(LatexSeriesFormatter.partial_integral('f', 'x', '1', '10'))"
   ]
  },
  {
   "cell_type": "markdown",
   "metadata": {},
   "source": [
    "$\\int_{1}^{10}{f} \\hspace{1mm} {\\partial x}$"
   ]
  },
  {
   "cell_type": "code",
   "execution_count": 6,
   "metadata": {},
   "outputs": [
    {
     "name": "stdout",
     "output_type": "stream",
     "text": [
      "Converted /home/default/Documents/py-latex/pytex/notebooks/LatexInterface/LatexFormatters/LatexSeriesFormatter.ipynb to /home/default/Documents/py-latex/pytex/pytex/LatexInterface/LatexFormatters/LatexSeriesFormatter.py\r\n"
     ]
    }
   ],
   "source": [
    "! python3 ../../notebook2script.py LatexSeriesFormatter.ipynb"
   ]
  }
 ],
 "metadata": {
  "kernelspec": {
   "display_name": "Python 3",
   "language": "python",
   "name": "python3"
  },
  "language_info": {
   "codemirror_mode": {
    "name": "ipython",
    "version": 3
   },
   "file_extension": ".py",
   "mimetype": "text/x-python",
   "name": "python",
   "nbconvert_exporter": "python",
   "pygments_lexer": "ipython3",
   "version": "3.8.3"
  }
 },
 "nbformat": 4,
 "nbformat_minor": 4
}
