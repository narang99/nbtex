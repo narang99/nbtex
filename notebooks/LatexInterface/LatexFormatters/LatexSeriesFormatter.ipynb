{
 "cells": [
  {
   "cell_type": "code",
   "execution_count": 5,
   "metadata": {},
   "outputs": [],
   "source": [
    "#export\n",
    "from pytex.LatexInterface.LatexFormatters.LatexBasicFormatter import LatexBasicFormatter\n",
    "class LatexSeriesFormatter():\n",
    "    @staticmethod\n",
    "    def integral(func, wrt, lower=None, upper=None):\n",
    "        func, wrt, lower, upper = LatexSeriesFormatter.preprocess_args(func, f'd{wrt}', lower, upper)\n",
    "        return f'\\\\int{lower}{upper}{func} {wrt}'\n",
    "    \n",
    "    @staticmethod\n",
    "    def partial_integral(func, wrt, lower=None, upper=None):\n",
    "        func, wrt, lower, upper = LatexSeriesFormatter.preprocess_args(func, f'\\\\partial {wrt}', \n",
    "                                                                       lower, upper)\n",
    "        return f'\\\\int{lower}{upper}{func} {wrt}'\n",
    "    \n",
    "    @staticmethod\n",
    "    def summation(func, wrt, lower=None, upper=None):\n",
    "        lower = f'{wrt}={lower}' if lower is not None else wrt\n",
    "        func, _, lower, upper = LatexSeriesFormatter.preprocess_args(func, wrt, lower, upper)\n",
    "        return f'\\\\sum{lower}{upper} {func}'\n",
    "    \n",
    "    @staticmethod\n",
    "    def product(func, wrt, lower=None, upper=None):\n",
    "        lower = f'{wrt}={lower}' if lower is not None else wrt\n",
    "        func, _, lower, upper = LatexSeriesFormatter.preprocess_args(func, wrt, lower, upper)\n",
    "        return f'\\\\prod{lower}{upper} {func}'\n",
    "    \n",
    "    @staticmethod\n",
    "    def preprocess_args(func, wrt, lower, upper):\n",
    "        lower, upper = LatexSeriesFormatter.format_lower_upper(lower, upper)\n",
    "        func, wrt = LatexBasicFormatter.surround_all_with_braces(func, wrt)\n",
    "        return func, wrt, lower, upper\n",
    "    \n",
    "    @staticmethod\n",
    "    def format_lower_upper(lower, upper):\n",
    "        lower = LatexBasicFormatter.surround_with_braces(lower) if lower is not None else ''\n",
    "        if lower is not None:\n",
    "            lower = LatexBasicFormatter.subscript(lower)\n",
    "        \n",
    "        upper = LatexBasicFormatter.surround_with_braces(upper) if upper is not None else ''\n",
    "        if upper is not None:\n",
    "            upper = LatexBasicFormatter.superscript(upper)\n",
    "        return lower, upper"
   ]
  },
  {
   "cell_type": "code",
   "execution_count": 7,
   "metadata": {},
   "outputs": [
    {
     "name": "stdout",
     "output_type": "stream",
     "text": [
      "Converted /home/default/Documents/py-latex/pytex/notebooks/LatexInterface/LatexFormatters/LatexSeriesFormatter.ipynb to /home/default/Documents/py-latex/pytex/pytex/LatexInterface/LatexFormatters/LatexSeriesFormatter.py\r\n"
     ]
    }
   ],
   "source": [
    "! python3 ../../notebook2script.py LatexSeriesFormatter.ipynb"
   ]
  }
 ],
 "metadata": {
  "kernelspec": {
   "display_name": "Python 3",
   "language": "python",
   "name": "python3"
  },
  "language_info": {
   "codemirror_mode": {
    "name": "ipython",
    "version": 3
   },
   "file_extension": ".py",
   "mimetype": "text/x-python",
   "name": "python",
   "nbconvert_exporter": "python",
   "pygments_lexer": "ipython3",
   "version": "3.8.3"
  }
 },
 "nbformat": 4,
 "nbformat_minor": 4
}
