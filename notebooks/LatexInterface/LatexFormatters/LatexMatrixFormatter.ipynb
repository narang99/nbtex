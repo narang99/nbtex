{
 "cells": [
  {
   "cell_type": "code",
   "execution_count": 1,
   "metadata": {},
   "outputs": [],
   "source": [
    "#export\n",
    "class LatexMatrixFormatter:\n",
    "    def __init__(self):\n",
    "        pass\n",
    "    \n",
    "    @staticmethod\n",
    "    def row_to_latex(row):\n",
    "        s = ''\n",
    "        for ele in row:\n",
    "            s += ' ' + ele + ' & '\n",
    "        s = s[:-2] + r\"\\\\\"\n",
    "        return s\n",
    "    \n",
    "    @staticmethod\n",
    "    def matrix_to_latex(matrix):\n",
    "        s = ''\n",
    "        for row in matrix:\n",
    "            s += LatexMatrixFormatter.row_to_latex(row)\n",
    "        s = s[:-2]\n",
    "        return s\n",
    "    \n",
    "    @staticmethod\n",
    "    def create_env(surround):\n",
    "        env = (r'{bmatrix}' if surround == '[]' \n",
    "               else r'{pmatrix}' if surround == '()'\n",
    "               else r'{vmatrix}' if surround == '||'\n",
    "               else r'{Vmatrix}' if (surround == '|| ||' or surround == '||||')\n",
    "               else r'{matrix}')\n",
    "        begin = r'\\begin' + env\n",
    "        end = r'\\end' + env\n",
    "        return begin, end\n",
    "    \n",
    "    @staticmethod\n",
    "    def subscript_of_matrix(subscript):\n",
    "        return '_{' + subscript + '}'\n",
    "    \n",
    "    @staticmethod\n",
    "    def power_of_matrix(power):\n",
    "        return '^{' + power + '}'\n",
    "    \n",
    "    @staticmethod\n",
    "    def empty_power():\n",
    "        return ''\n",
    "    \n",
    "    @staticmethod\n",
    "    def empty_subscript():\n",
    "        return ''"
   ]
  },
  {
   "cell_type": "code",
   "execution_count": 2,
   "metadata": {},
   "outputs": [
    {
     "name": "stdout",
     "output_type": "stream",
     "text": [
      "Converted /home/default/Documents/py-latex/nbtex/notebooks/LatexInterface/LatexFormatters/LatexMatrixFormatter.ipynb to /home/default/Documents/py-latex/nbtex/nbtex/LatexInterface/LatexFormatters/LatexMatrixFormatter.py\r\n"
     ]
    }
   ],
   "source": [
    "! python3 ../../notebook2script.py LatexMatrixFormatter.ipynb"
   ]
  }
 ],
 "metadata": {
  "kernelspec": {
   "display_name": "Python 3",
   "language": "python",
   "name": "python3"
  },
  "language_info": {
   "codemirror_mode": {
    "name": "ipython",
    "version": 3
   },
   "file_extension": ".py",
   "mimetype": "text/x-python",
   "name": "python",
   "nbconvert_exporter": "python",
   "pygments_lexer": "ipython3",
   "version": "3.8.3"
  }
 },
 "nbformat": 4,
 "nbformat_minor": 4
}
