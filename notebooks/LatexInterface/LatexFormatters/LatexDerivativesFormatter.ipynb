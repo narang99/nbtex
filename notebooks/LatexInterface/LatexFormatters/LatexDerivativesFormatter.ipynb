{
 "cells": [
  {
   "cell_type": "code",
   "execution_count": 4,
   "metadata": {},
   "outputs": [],
   "source": [
    "#export\n",
    "from pytex.LatexInterface.LatexFormatters import LatexBasicFormatter\n",
    "class LatexDerivativesFormatter():\n",
    "    @staticmethod\n",
    "    def is_one_word(expr):\n",
    "        for w in expr:\n",
    "            if not w.isalnum() and w != '_' and w != '^':\n",
    "                return False\n",
    "        return True\n",
    "    @staticmethod\n",
    "    def partial(wrt):\n",
    "        return LatexBasicFormatter.fraction('\\\\partial', f'\\\\partial {wrt}')\n",
    "    @staticmethod\n",
    "    def partial_of(function, wrt):\n",
    "        if(not LatexDerivativesFormatter.is_one_word(function)):\n",
    "            function = LatexBasicFormatter.surround_with_parens(function)\n",
    "            par = LatexDerivativesFormatter.partial(wrt)\n",
    "            return f'{par} {function}'\n",
    "        return LatexBasicFormatter.fraction(f'\\\\partial {function}', f'\\\\partial {wrt}')\n",
    "    \n",
    "    @staticmethod\n",
    "    def derivative(wrt):\n",
    "        return LatexBasicFormatter.fraction('d', f'd{wrt}')\n",
    "    @staticmethod\n",
    "    def derivative_of(function, wrt):\n",
    "        if(not LatexDerivativesFormatter.is_one_word(function)):\n",
    "            function = LatexBasicFormatter.surround_with_parens(function)\n",
    "            der = LatexDerivativesFormatter.derivative(wrt)\n",
    "            return f'{der} {function}'\n",
    "        return LatexBasicFormatter.fraction(f'd{function}', f'd{wrt}')"
   ]
  },
  {
   "cell_type": "code",
   "execution_count": 5,
   "metadata": {},
   "outputs": [
    {
     "name": "stdout",
     "output_type": "stream",
     "text": [
      "\\frac{d}{dx} \\left(f+1\\right)\n",
      "\\frac{\\partial}{\\partial x} \\left(f+1\\right)\n"
     ]
    }
   ],
   "source": [
    "print(LatexDerivativesFormatter.derivative_of('f+1', 'x'))\n",
    "print(LatexDerivativesFormatter.partial_of('f+1','x'))\n"
   ]
  },
  {
   "cell_type": "markdown",
   "metadata": {},
   "source": [
    "$$\n",
    "\\frac{df}{dx} \\\\\n",
    "\\frac{\\partial (f+1)}{\\partial x} \\\\\n",
    "\\frac{d}{dx} (f+1) \\\\\n",
    "\\frac{\\partial}{\\partial x} \\left(f+1\\right)\\\\\n",
    "$$"
   ]
  },
  {
   "cell_type": "code",
   "execution_count": 6,
   "metadata": {},
   "outputs": [
    {
     "name": "stdout",
     "output_type": "stream",
     "text": [
      "Converted /home/default/Documents/py-latex/pytex/notebooks/LatexInterface/LatexFormatters/LatexDerivativesFormatter.ipynb to /home/default/Documents/py-latex/pytex/pytex/LatexInterface/LatexFormatters/LatexDerivativesFormatter.py\r\n"
     ]
    }
   ],
   "source": [
    "! python3 ../../notebook2script.py LatexDerivativesFormatter.ipynb"
   ]
  }
 ],
 "metadata": {
  "kernelspec": {
   "display_name": "Python 3",
   "language": "python",
   "name": "python3"
  },
  "language_info": {
   "codemirror_mode": {
    "name": "ipython",
    "version": 3
   },
   "file_extension": ".py",
   "mimetype": "text/x-python",
   "name": "python",
   "nbconvert_exporter": "python",
   "pygments_lexer": "ipython3",
   "version": "3.8.3"
  }
 },
 "nbformat": 4,
 "nbformat_minor": 4
}
