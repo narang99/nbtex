{
 "cells": [
  {
   "cell_type": "code",
   "execution_count": 2,
   "metadata": {},
   "outputs": [],
   "source": [
    "#export\n",
    "class LatexDerivativesFormatter():\n",
    "    @staticmethod\n",
    "    def partial(wrt):\n",
    "        return LatexBasicFormatter.fraction('\\\\partial', f'\\\\partial {wrt}')\n",
    "    @staticmethod\n",
    "    def partial_of(wrt, function):\n",
    "        if(not is_one_word(function)):\n",
    "            function = LatexBasicFormatter.surround_with_parens(function)\n",
    "        return LatexBasicFormatter.fraction(f'\\\\partial {function}', f'\\\\partial {wrt}')\n",
    "    \n",
    "    @staticmethod\n",
    "    def derivative(wrt):\n",
    "        return LatexBasicFormatter.fraction('d', f'd{wrt}')\n",
    "    @staticmethod\n",
    "    def derivative_of(wrt, function):\n",
    "        if(not is_one_word(function)):\n",
    "            function = LatexBasicFormatter.surround_with_parens(function)\n",
    "        return LatexBasicFormatter.fraction(f'd({function})', f'd{wrt}')"
   ]
  },
  {
   "cell_type": "code",
   "execution_count": 4,
   "metadata": {},
   "outputs": [
    {
     "name": "stdout",
     "output_type": "stream",
     "text": [
      "Converted /home/default/Documents/py-latex/pytex/notebooks/LatexInterface/LatexFormatters/LatexDerivativesFormatter.ipynb to /home/default/Documents/py-latex/pytex/pytex/LatexInterface/LatexFormatters/LatexDerivativesFormatter.py\r\n"
     ]
    }
   ],
   "source": [
    "! python3 ../../notebook2script.py LatexDerivativesFormatter.ipynb"
   ]
  }
 ],
 "metadata": {
  "kernelspec": {
   "display_name": "Python 3",
   "language": "python",
   "name": "python3"
  },
  "language_info": {
   "codemirror_mode": {
    "name": "ipython",
    "version": 3
   },
   "file_extension": ".py",
   "mimetype": "text/x-python",
   "name": "python",
   "nbconvert_exporter": "python",
   "pygments_lexer": "ipython3",
   "version": "3.8.3"
  }
 },
 "nbformat": 4,
 "nbformat_minor": 4
}
