{
 "cells": [
  {
   "cell_type": "code",
   "execution_count": 1,
   "metadata": {},
   "outputs": [],
   "source": [
    "#export\n",
    "class LatexBasicFormatter:\n",
    "    def __init__(self):\n",
    "        pass\n",
    "    @staticmethod\n",
    "    def bold(string):\n",
    "        return '\\\\textbf{' + string + '}'\n",
    "    @staticmethod\n",
    "    def italics(string):\n",
    "        return '\\\\textit{' + string + '}'\n",
    "    @staticmethod\n",
    "    def underline(string):\n",
    "        return '\\\\underline{' + string + '}'\n",
    "    @staticmethod\n",
    "    def binary_operation_output(binary_operator, a1, a2):\n",
    "        return f'{a1} {binary_operator} {a2}'\n",
    "    \n",
    "    @staticmethod\n",
    "    def surround_with_parens(string):\n",
    "        return f'\\\\left({string}\\\\right)'\n",
    "    \n",
    "    @staticmethod\n",
    "    def negate(string):\n",
    "        if string[0] == '-': return string\n",
    "        else: return f'-{string}'\n",
    "    \n",
    "    @staticmethod\n",
    "    def unnegate(string):\n",
    "        return string[1:] if(string[0] == '-') else string\n",
    "    \n",
    "    @staticmethod\n",
    "    def fraction(num, den):\n",
    "        num, den = LatexBasicFormatter.surround_all_with_braces(num, den)\n",
    "        return f'\\\\frac{num}{den}'\n",
    "    \n",
    "    @staticmethod\n",
    "    def subscript(string):\n",
    "        return f'_{string}'\n",
    "    @staticmethod\n",
    "    def superscript(string):\n",
    "        return f'^{string}'\n",
    "    \n",
    "    @staticmethod\n",
    "    def surround_with_braces(string):\n",
    "        return '{' + string + '}'\n",
    "    \n",
    "    @staticmethod\n",
    "    def surround_all_with_braces(*args):\n",
    "        if len(args) == 1: return LatexBasicFormatter.surround_with_braces(args[0])\n",
    "        else: return [LatexBasicFormatter.surround_with_braces(arg) for arg in args]\n",
    "     \n",
    "    @staticmethod\n",
    "    def root(num, nth):\n",
    "        return (r\"\\sqrt[\\leftroot{-1}\\uproot{1}\" + nth\n",
    "               + r\"]{\" + num + r\"}\")\n",
    "    \n",
    "    @staticmethod\n",
    "    def function_definition(f, *args):\n",
    "        if len(args) == 0: return f'{f}()'\n",
    "        s = ''\n",
    "        for arg in args: s += f'{arg}, '\n",
    "        s = s[:-2]\n",
    "        return f'{f}({s})'\n",
    "    \n",
    "    @staticmethod\n",
    "    def inverse_function_definition(f, *args):\n",
    "        _1 = LatexBasicFormatter.surround_with_braces('-1');\n",
    "        return LatexBasicFormatter.function_definition(f'{f}^{_1}', *args)"
   ]
  },
  {
   "cell_type": "code",
   "execution_count": 2,
   "metadata": {
    "tags": []
   },
   "outputs": [
    {
     "output_type": "stream",
     "name": "stdout",
     "text": "\\left(\\frac{f}{\\frac{x}{y}}\\right)\n"
    }
   ],
   "source": [
    "print(LatexBasicFormatter.surround_with_parens('\\\\frac{f}{\\\\frac{x}{y}}'))"
   ]
  },
  {
   "cell_type": "markdown",
   "metadata": {},
   "source": [
    "$\\left(\\frac{f}{a}\\right)$\n",
    "$\\left(\\frac{f}{\\frac{x}{y}}\\right)$"
   ]
  },
  {
   "cell_type": "code",
   "execution_count": 3,
   "metadata": {
    "tags": []
   },
   "outputs": [
    {
     "output_type": "stream",
     "name": "stdout",
     "text": "Traceback (most recent call last):\n  File \"../../notebook2script.py\", line 3, in <module>\n    import json,fire,re\nModuleNotFoundError: No module named 'fire'\n"
    }
   ],
   "source": [
    "! python3 ../../notebook2script.py LatexBasicFormatter.ipynb"
   ]
  }
 ],
 "metadata": {
  "kernelspec": {
   "display_name": "Python 3.8.3 64-bit ('base': conda)",
   "language": "python",
   "name": "python_defaultSpec_1598872488704"
  },
  "language_info": {
   "codemirror_mode": {
    "name": "ipython",
    "version": 3
   },
   "file_extension": ".py",
   "mimetype": "text/x-python",
   "name": "python",
   "nbconvert_exporter": "python",
   "pygments_lexer": "ipython3",
   "version": "3.8.3-final"
  }
 },
 "nbformat": 4,
 "nbformat_minor": 4
}