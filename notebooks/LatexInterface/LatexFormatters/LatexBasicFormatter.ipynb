{
 "cells": [
  {
   "cell_type": "code",
   "execution_count": 1,
   "metadata": {},
   "outputs": [],
   "source": [
    "#export\n",
    "class LatexBasicFormatter:\n",
    "    def __init__(self):\n",
    "        pass\n",
    "\n",
    "    @staticmethod\n",
    "    def binary_operation_output(binary_operator, a1, a2):\n",
    "        return f'{a1} {binary_operator} {a2}'\n",
    "    \n",
    "    @staticmethod\n",
    "    def surround_with_parens(string):\n",
    "        return f'({string})'\n",
    "    \n",
    "    @staticmethod\n",
    "    def negate(string):\n",
    "        if string[0] == '-': return string\n",
    "        else: return f'-{string}'\n",
    "    \n",
    "    @staticmethod\n",
    "    def unnegate(string):\n",
    "        return string[1:] if(string[0] == '-') else string\n",
    "    \n",
    "    @staticmethod\n",
    "    def fraction(num, den):\n",
    "        num, den = LatexBasicFormatter.surround_all_with_braces(num, den)\n",
    "        return f'\\\\frac{num}{den}'\n",
    "    \n",
    "    @staticmethod\n",
    "    def subscript(string):\n",
    "        return f'_{string}'\n",
    "    @staticmethod\n",
    "    def superscript(string):\n",
    "        return f'^{string}'\n",
    "    \n",
    "    @staticmethod\n",
    "    def surround_with_braces(string):\n",
    "        return '{' + string + '}'\n",
    "    \n",
    "    @staticmethod\n",
    "    def surround_all_with_braces(*args):\n",
    "        if len(args) == 1: return LatexBasicFormatter.surround_with_braces(args[0])\n",
    "        else: return [LatexBasicFormatter.surround_with_braces(arg) for arg in args]\n",
    "     \n",
    "    @staticmethod\n",
    "    def root(num, nth):\n",
    "        return (r\"\\sqrt[\\leftroot{-1}\\uproot{1}\" + nth\n",
    "               + r\"]{\" + num + r\"}\")"
   ]
  },
  {
   "cell_type": "code",
   "execution_count": 5,
   "metadata": {},
   "outputs": [
    {
     "name": "stdout",
     "output_type": "stream",
     "text": [
      "Converted /home/default/Documents/py-latex/pytex/notebooks/LatexInterface/LatexFormatters/LatexBasicFormatter.ipynb to /home/default/Documents/py-latex/pytex/pytex/LatexInterface/LatexFormatters/LatexBasicFormatter.py\r\n"
     ]
    }
   ],
   "source": [
    "! python3 ../../notebook2script.py LatexBasicFormatter.ipynb"
   ]
  }
 ],
 "metadata": {
  "kernelspec": {
   "display_name": "Python 3",
   "language": "python",
   "name": "python3"
  },
  "language_info": {
   "codemirror_mode": {
    "name": "ipython",
    "version": 3
   },
   "file_extension": ".py",
   "mimetype": "text/x-python",
   "name": "python",
   "nbconvert_exporter": "python",
   "pygments_lexer": "ipython3",
   "version": "3.8.3"
  }
 },
 "nbformat": 4,
 "nbformat_minor": 4
}
