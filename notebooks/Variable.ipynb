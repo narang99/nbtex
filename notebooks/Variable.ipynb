{
 "cells": [
  {
   "cell_type": "code",
   "execution_count": 1,
   "metadata": {},
   "outputs": [],
   "source": [
    "#export\n",
    "from IPython.display import Latex\n",
    "from pytex.helpers import varArgFunc"
   ]
  },
  {
   "cell_type": "code",
   "execution_count": 2,
   "metadata": {},
   "outputs": [
    {
     "data": {
      "text/plain": [
       "'NOTE: need to add eager execution, it will definitely help'"
      ]
     },
     "execution_count": 2,
     "metadata": {},
     "output_type": "execute_result"
    }
   ],
   "source": [
    "\"NOTE: need to add eager execution, it will definitely help\""
   ]
  },
  {
   "cell_type": "code",
   "execution_count": 3,
   "metadata": {},
   "outputs": [],
   "source": [
    "#export\n",
    "from pytex.helpers import *\n",
    "class Var():\n",
    "    def __init__(self, name, latex=None):\n",
    "        self._name = str(name)\n",
    "        self._fn, self._latex = None, None\n",
    "        self._isTopLevel = True\n",
    "    \n",
    "    @property\n",
    "    def name(self): return self._name\n",
    "    @name.setter\n",
    "    def name(self, n): self._name = n\n",
    "    def setName(self, n): \n",
    "        self._name = n\n",
    "        return self\n",
    "    \n",
    "    @property\n",
    "    def backward_function(self): return self._fn\n",
    "    @backward_function.setter\n",
    "    def backward_function(self, fn): self._fn = fn\n",
    "      \n",
    "    def __str__(self): return self._name\n",
    "    def __repr__(self): return self.__str__()\n",
    "    \n",
    "    def apply(self, f, *args):\n",
    "        n = Var('temp')\n",
    "        a = makeVar(*args)\n",
    "        n.backward_function = f(*a) if not isinstance(a,Var) else f(a)\n",
    "        return n\n",
    "    \n",
    "    def __add__(self, other):\n",
    "        return self.apply(BinaryFunc(ADD), self, other)\n",
    "    def __sub__(self, other):\n",
    "        return self.apply(BinaryFunc(SUB), self, other)\n",
    "    def __mul__(self, other):\n",
    "        return self.apply(BinaryFunc(MUL), self, other)\n",
    "    def __pow__(self, other):\n",
    "        return self.apply(BinaryFunc(POW), self, other)\n",
    "    def __or__(self, other):\n",
    "        return self.apply(BinaryFunc(OR), self, other)\n",
    "    \n",
    "    def __lt__(self, other):\n",
    "        return self.lt(other)\n",
    "    def __gt__(self, other):\n",
    "        return self.gt(other)\n",
    "    def __le__(self, other):\n",
    "        return self.le(other)\n",
    "    def __ge__(self, other):\n",
    "        return self.ge(other)\n",
    "    def __eq__(self, other):\n",
    "        return self.eq(other)\n",
    "    def __ne__(self, other):\n",
    "        return self.ne(other)\n",
    "    \n",
    "    def equals(self, other):\n",
    "        return self.apply(BinaryFunc(EQ), self, other)\n",
    "    def not_equals(self, other):\n",
    "        return self.apply(BinaryFunc(NE), self, other)\n",
    "    def eq(self,other):\n",
    "        return self.equals(other)\n",
    "    def ne(self,other):\n",
    "        return self.not_equals(other)\n",
    "    def lt(self, other):\n",
    "        return self.apply(BinaryFunc(LT), self, other)\n",
    "    def gt(self, other):\n",
    "        return self.apply(BinaryFunc(GT), self, other)\n",
    "    def le(self, other):\n",
    "        return self.apply(BinaryFunc(LE), self, other)\n",
    "    def ge(self, other):\n",
    "        return self.apply(BinaryFunc(GE), self, other)\n",
    "    \n",
    "    def __neg__(self):\n",
    "        return self.apply(NegateFunc(), self)\n",
    "    def root(self, other):\n",
    "        return self.apply(RootFunc(), self, other)\n",
    "    def __truediv__(self, other):\n",
    "        return self.apply(FracFunc(), self, other)\n",
    "    \n",
    "    def build(self):\n",
    "        if self._latex is not None: return self._latex\n",
    "        else:\n",
    "            self._latex = self.name if self._fn is None else self._fn.build()\n",
    "            return self._latex\n",
    "        \n",
    "    def __call__(self, *others):\n",
    "        return self.apply(FuncApplication(self), *others)\n",
    "\n",
    "def isVar(a):\n",
    "    return isinstance(a, Var)\n",
    "\n",
    "def makeVar(*args):\n",
    "    return varArgFunc(lambda arg: arg if isVar(arg) else Var(str(arg)), *args)\n",
    "\n",
    "def addEnv(s, env='gather'):\n",
    "    env = '{' + env + '}'\n",
    "    return r'\\begin' + env + str(s) + r'\\end' + env\n"
   ]
  },
  {
   "cell_type": "code",
   "execution_count": 89,
   "metadata": {},
   "outputs": [],
   "source": [
    "#export\n",
    "class BasicFunc():\n",
    "    def __init__(self, operator):\n",
    "        self._operator = operator\n",
    "        \n",
    "    @property\n",
    "    def precedence(self):\n",
    "        return self.operator.precedence\n",
    "    \n",
    "    @property\n",
    "    def operator(self):\n",
    "        return self._operator\n",
    "    \n",
    "    @property\n",
    "    def mid(self):\n",
    "        return self._operator.mid\n",
    "    \n",
    "    # can only be called with args of type Var\n",
    "    def __call__(self, *args):\n",
    "        raise NotImplementedError()\n",
    "        \n",
    "    def get_surrounded_with_parens(self, string):\n",
    "        return '(' + string + ')'\n",
    "    \n",
    "    def should_surround_with_parens(self, var_instance):\n",
    "        return (var_instance.backward_function is not None and \n",
    "                var_instance.backward_function.precedence < self.precedence)"
   ]
  },
  {
   "cell_type": "code",
   "execution_count": 90,
   "metadata": {},
   "outputs": [],
   "source": [
    "#export\n",
    "class BinaryFunc(BasicFunc):\n",
    "    def __init__(self, operator):\n",
    "        super().__init__(operator)\n",
    "        self._a1, self._a2 = None, None\n",
    "        \n",
    "    def build(self):\n",
    "        a1, a2 = self.get_built_strings()\n",
    "        return f'{a1}{self.mid}{a2}'\n",
    "\n",
    "    def __call__(self, a1, a2):\n",
    "        self._a1, self._a2 = a1, a2\n",
    "        return self\n",
    "    \n",
    "    def get_built_strings(self):\n",
    "        if self._a1 is None or self._a2 is None:\n",
    "            raise Exception('args not passed to function. need to call the class')\n",
    "        a1, a2 = self._a1.build(), self._a2.build()\n",
    "        if self.should_surround_with_parens(self._a1):\n",
    "            a1 = self.get_surrounded_with_parens(a1)\n",
    "        if self.should_surround_with_parens(self._a2):\n",
    "            a2 = self.get_surrounded_with_parens(a2)\n",
    "        return a1, a2"
   ]
  },
  {
   "cell_type": "code",
   "execution_count": 99,
   "metadata": {},
   "outputs": [],
   "source": [
    "#export\n",
    "class FracFunc(BasicFunc):\n",
    "    def __init__(self):\n",
    "        super().__init__(DIV)\n",
    "        self.num, self.den = None, None\n",
    "        \n",
    "    def __call__(self, num, den):\n",
    "        self.num, self.den = num, den\n",
    "        return self\n",
    "    \n",
    "    def build(self):\n",
    "        return (r\"\\frac{\" + \n",
    "                self.num.build() + r\"}{\" + self.den.build() + r\"}\")\n",
    "    \n",
    "class RootFunc(BasicFunc):\n",
    "    def __init__(self):\n",
    "        super().__init__(MAX)\n",
    "        self.num, self.root = None, None\n",
    "    def __call__(self, num, root):\n",
    "        self.num, self.root = num, root\n",
    "        return self\n",
    "    def build(self):\n",
    "        return(r\"\\sqrt[\\leftroot{-1}\\uproot{1}\" + self.root.build() \n",
    "               + r\"]{\" + self.num.build() + r\"}\")\n",
    "\n",
    "class NegateFunc(BasicFunc):\n",
    "    def __init__(self):\n",
    "        super().__init__(MAX)\n",
    "        self.value = None\n",
    "    def __call__(self, value):\n",
    "        self.value = value\n",
    "        return self\n",
    "    def build(self):\n",
    "        return f'-{self.value.build()}'\n",
    "    \n",
    "class IntegralFunc(BasicFunc):\n",
    "    def __init__(self):\n",
    "        super().__init__(MAX)\n",
    "        self.lower, self.upper, self.func = [None]*3\n",
    "    def __call__(self, lower, upper, func):\n",
    "        self.lower, self.upper, self.func = lower, upper, func\n",
    "        return self\n",
    "    def build(self):\n",
    "        pass\n",
    "    \n",
    "class FuncApplication(BasicFunc):\n",
    "    def __init__(self, f):\n",
    "        super().__init__(MAX)\n",
    "        self.f, self.args = f, None\n",
    "        \n",
    "    def __call__(self, *args):\n",
    "        if len(args) == 0: self.args = None\n",
    "        elif isinstance(args, tuple): self.args = list(args)\n",
    "        else: raise Exception('invalid type passed')\n",
    "        return self\n",
    "        \n",
    "    def build(self):\n",
    "        if self.args is None: return self.getNoArgsFunc()\n",
    "        else: return self.getFuncWithArgs()\n",
    "    \n",
    "    def getNoArgsFunc(self):\n",
    "        return self.getBuiltF() + '()'\n",
    "    \n",
    "    def getFuncWithArgs(self):\n",
    "        return self.getBuiltF() + self.getArgsForBuilding()\n",
    "    \n",
    "    def getArgsForBuilding(self):\n",
    "        s = '('\n",
    "        for arg in self.args:\n",
    "            s += arg.build() + ','\n",
    "        s = s[:-1]\n",
    "        return s + ')'\n",
    "    \n",
    "    def getBuiltF(self):\n",
    "        # need to pass argument\n",
    "        return self.f.build()"
   ]
  },
  {
   "cell_type": "code",
   "execution_count": 100,
   "metadata": {},
   "outputs": [
    {
     "name": "stdout",
     "output_type": "stream",
     "text": [
      "\\begin{gather*}a \\leq -b\\end{gather*}\n",
      "\\begin{gather*}c \\neq d\\end{gather*}\n"
     ]
    }
   ],
   "source": [
    "from pytex.platforms.jupyter import latex, platex\n",
    "a,b,c,d = makeVar('a','b','c','d')\n",
    "k = platex(a.le(-b))\n",
    "l = platex(c.not_equals(d))"
   ]
  },
  {
   "cell_type": "code",
   "execution_count": 102,
   "metadata": {},
   "outputs": [
    {
     "data": {
      "text/latex": [
       "\\begin{gather*}\\frac{a}{b}\\end{gather*}"
      ],
      "text/plain": [
       "<IPython.core.display.Latex object>"
      ]
     },
     "execution_count": 102,
     "metadata": {},
     "output_type": "execute_result"
    }
   ],
   "source": [
    "latex(a/b)"
   ]
  },
  {
   "cell_type": "code",
   "execution_count": 43,
   "metadata": {},
   "outputs": [
    {
     "data": {
      "text/latex": [
       "\\begin{gather*}(a) + (b) + (c) = (1)(1)\\end{gather*}"
      ],
      "text/plain": [
       "<IPython.core.display.Latex object>"
      ]
     },
     "execution_count": 43,
     "metadata": {},
     "output_type": "execute_result"
    }
   ],
   "source": [
    "latex((a+b+c).equals(1)(1))"
   ]
  },
  {
   "cell_type": "code",
   "execution_count": 32,
   "metadata": {},
   "outputs": [
    {
     "data": {
      "text/latex": [
       "\\begin{gather*}c \\neq (a + a - b) * a^2\\hspace{1mm}(b + b)^2 \\neq c\\end{gather*}"
      ],
      "text/plain": [
       "<IPython.core.display.Latex object>"
      ]
     },
     "execution_count": 32,
     "metadata": {},
     "output_type": "execute_result"
    }
   ],
   "source": [
    "a,b,c,d = makeVar('a','b','c','d')\n",
    "latex(c.ne((a+a-b)*(a**2) | (b+b)**2).ne(c))"
   ]
  },
  {
   "cell_type": "code",
   "execution_count": 103,
   "metadata": {},
   "outputs": [
    {
     "name": "stdout",
     "output_type": "stream",
     "text": [
      "Converted /home/default/Documents/py-latex/pytex/notebooks/Variable.ipynb to /home/default/Documents/py-latex/pytex/pytex/Variable.py\r\n"
     ]
    }
   ],
   "source": [
    "!./notebook2script.py ./Variable.ipynb"
   ]
  }
 ],
 "metadata": {
  "kernelspec": {
   "display_name": "Python 3",
   "language": "python",
   "name": "python3"
  },
  "language_info": {
   "codemirror_mode": {
    "name": "ipython",
    "version": 3
   },
   "file_extension": ".py",
   "mimetype": "text/x-python",
   "name": "python",
   "nbconvert_exporter": "python",
   "pygments_lexer": "ipython3",
   "version": "3.8.3"
  }
 },
 "nbformat": 4,
 "nbformat_minor": 4
}
