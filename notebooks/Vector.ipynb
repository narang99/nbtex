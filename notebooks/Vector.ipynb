{
 "cells": [
  {
   "cell_type": "code",
   "execution_count": 7,
   "metadata": {},
   "outputs": [],
   "source": [
    "#export\n",
    "from pytex.Variable import Var\n",
    "from pytex.helpers import varArgFunc\n",
    "class Vector(Var):\n",
    "    def __init__(self, name):\n",
    "        super().__init__(r\"\\vec{\\mathbf{\" + name +\"}}\")\n",
    "\n",
    "def makeVector(*args):\n",
    "    return varArgFunc(lambda arg: arg if isinstance(arg, Vector) else Vector(str(arg)), *args)"
   ]
  },
  {
   "cell_type": "code",
   "execution_count": 8,
   "metadata": {},
   "outputs": [
    {
     "data": {
      "text/latex": [
       "\\begin{gather*}\\vec{\\mathbf{a}}\\end{gather*}"
      ],
      "text/plain": [
       "<IPython.core.display.Latex object>"
      ]
     },
     "execution_count": 8,
     "metadata": {},
     "output_type": "execute_result"
    }
   ],
   "source": [
    "from pytex.platforms.jupyter import latex\n",
    "latex(Vector('a'))"
   ]
  },
  {
   "cell_type": "code",
   "execution_count": 9,
   "metadata": {},
   "outputs": [],
   "source": [
    "a,b,c,_1 = makeVector('a', 'b', 'c', 1)"
   ]
  },
  {
   "cell_type": "code",
   "execution_count": 11,
   "metadata": {},
   "outputs": [
    {
     "data": {
      "text/latex": [
       "\\begin{gather*}\\vec{\\mathbf{a}} + \\vec{\\mathbf{b}} + \\vec{\\mathbf{c}}(\\vec{\\mathbf{1}})\\end{gather*}"
      ],
      "text/plain": [
       "<IPython.core.display.Latex object>"
      ]
     },
     "execution_count": 11,
     "metadata": {},
     "output_type": "execute_result"
    }
   ],
   "source": [
    "latex(a+b+c(_1))"
   ]
  },
  {
   "cell_type": "code",
   "execution_count": 12,
   "metadata": {},
   "outputs": [
    {
     "name": "stdout",
     "output_type": "stream",
     "text": [
      "Converted /home/default/Documents/py-latex/pytex/notebooks/Vector.ipynb to /home/default/Documents/py-latex/pytex/pytex/Vector.py\r\n"
     ]
    }
   ],
   "source": [
    "!python3 ./notebook2script.py ./Vector.ipynb"
   ]
  }
 ],
 "metadata": {
  "kernelspec": {
   "display_name": "Python 3",
   "language": "python",
   "name": "python3"
  },
  "language_info": {
   "codemirror_mode": {
    "name": "ipython",
    "version": 3
   },
   "file_extension": ".py",
   "mimetype": "text/x-python",
   "name": "python",
   "nbconvert_exporter": "python",
   "pygments_lexer": "ipython3",
   "version": "3.8.3"
  }
 },
 "nbformat": 4,
 "nbformat_minor": 4
}
