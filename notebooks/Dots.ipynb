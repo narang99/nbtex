{
 "cells": [
  {
   "cell_type": "code",
   "execution_count": 1,
   "metadata": {},
   "outputs": [],
   "source": [
    "#export\n",
    "from pytex.core.Ast import Var\n",
    "class Dots(Var):\n",
    "    def __init__(self, direc='h'):\n",
    "        super().__init__(direc + 'dots')\n",
    "        self.direc = direc\n",
    "    def build(self):\n",
    "        return (r'\\cdots' if (self.direc == 'h' or self.direc == 'c') \n",
    "                else r'\\vdots' if (self.direc == 'v') else r'\\ddots')"
   ]
  },
  {
   "cell_type": "code",
   "execution_count": 2,
   "metadata": {},
   "outputs": [
    {
     "data": {
      "text/latex": [
       "\\begin{gather*}\\ddots   \\vdots   \\cdots\\end{gather*}"
      ],
      "text/plain": [
       "<IPython.core.display.Latex object>"
      ]
     },
     "execution_count": 2,
     "metadata": {},
     "output_type": "execute_result"
    }
   ],
   "source": [
    "from pytex.platforms.jupyter import latex\n",
    "latex(Dots('d') | Dots('v') | Dots())"
   ]
  },
  {
   "cell_type": "code",
   "execution_count": 4,
   "metadata": {},
   "outputs": [
    {
     "name": "stdout",
     "output_type": "stream",
     "text": [
      "Converted /home/default/Documents/py-latex/pytex/notebooks/Dots.ipynb to /home/default/Documents/py-latex/pytex/pytex/Dots.py\r\n"
     ]
    }
   ],
   "source": [
    "! python3 ./notebook2script.py ./Dots.ipynb"
   ]
  }
 ],
 "metadata": {
  "kernelspec": {
   "display_name": "Python 3",
   "language": "python",
   "name": "python3"
  },
  "language_info": {
   "codemirror_mode": {
    "name": "ipython",
    "version": 3
   },
   "file_extension": ".py",
   "mimetype": "text/x-python",
   "name": "python",
   "nbconvert_exporter": "python",
   "pygments_lexer": "ipython3",
   "version": "3.8.3"
  }
 },
 "nbformat": 4,
 "nbformat_minor": 4
}
