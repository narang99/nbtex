{
 "cells": [
  {
   "cell_type": "code",
   "execution_count": 1,
   "metadata": {},
   "outputs": [],
   "source": [
    "#export\n",
    "from pytex.Variable import Var, makeVar\n",
    "from pytex.helpers import varArgFunc"
   ]
  },
  {
   "cell_type": "code",
   "execution_count": 2,
   "metadata": {},
   "outputs": [],
   "source": [
    "#export\n",
    "class SeriesTemplate(Var):\n",
    "    def __init__(self, seriesLatex, func, it='i', lower=None, upper=None):\n",
    "        super().__init__(seriesLatex)\n",
    "        self.it = makeVar(it)\n",
    "        self.f = makeVar(func)\n",
    "        self.lower, self.upper, self.seriesLatex = lower, upper, seriesLatex\n",
    "    # non callable\n",
    "    def __call__(self):\n",
    "        raise Exception('summation is non callable')\n",
    "    def build(self):\n",
    "        lower = ''\n",
    "        if self.lower is not None:\n",
    "            l = makeVar(self.lower)\n",
    "            lower = r\"_{\" + self.it.build() + \"=\" + l.build() + \"}\"\n",
    "        else:\n",
    "            lower = r\"_{\" + self.it.build() + \"}\"\n",
    "        upper = ''\n",
    "        if self.upper is not None:\n",
    "            u = makeVar(self.upper)\n",
    "            upper = r\"^\" + r\"{\" + u.build() + \"}\"\n",
    "        else: upper = ''\n",
    "        return self.seriesLatex + lower + upper + ' ' + self.f.build()    "
   ]
  },
  {
   "cell_type": "code",
   "execution_count": 3,
   "metadata": {},
   "outputs": [],
   "source": [
    "#export\n",
    "class Sum(SeriesTemplate):\n",
    "    def __init__(self, func, it='i', lower=None, upper=None):\n",
    "        super().__init__(r'\\sum', func, it, lower, upper)\n",
    "\n",
    "class Product(SeriesTemplate):\n",
    "    def __init__(self, func, it='i', lower=None, upper=None):\n",
    "        super().__init__(r'\\prod', func, it, lower, upper)\n"
   ]
  },
  {
   "cell_type": "code",
   "execution_count": 4,
   "metadata": {},
   "outputs": [
    {
     "data": {
      "text/latex": [
       "\\begin{gather*}\\prod_{i=1} f\\end{gather*}"
      ],
      "text/plain": [
       "<IPython.core.display.Latex object>"
      ]
     },
     "execution_count": 4,
     "metadata": {},
     "output_type": "execute_result"
    }
   ],
   "source": [
    "from pytex.platforms.jupyter import latex\n",
    "latex(Product('f', 'i', 1))"
   ]
  },
  {
   "cell_type": "code",
   "execution_count": 5,
   "metadata": {},
   "outputs": [],
   "source": [
    "#export\n",
    "class Partial(Var):\n",
    "    def __init__(self, wrt, degree=1):\n",
    "        super().__init__('partial')\n",
    "        self.degree, self.wrt = makeVar(degree, wrt)\n",
    "    def __str__(self):\n",
    "        return f\"partial wrt {self.wrt.build()} degree {self.degree.build()}\"\n",
    "    def build(self):\n",
    "        degree = self.degree.name\n",
    "        deg = ('^{' + makeVar(self.degree).build()) + '}' if degree != '1' else ''\n",
    "        wrt = pow(self.wrt, self.degree).build() if degree != '1' else self.wrt.build()\n",
    "        return r\"\\frac{\\partial \" + deg + \"}{\\partial \" + \" \" + wrt + \"}\"\n",
    "\n",
    "def makePartial(*args):\n",
    "    return varArgFunc(lambda arg: Partial(*arg) if not isinstance(arg, Partial) else arg, *args)\n",
    "\n",
    "class Derivative(Var):\n",
    "    def __init__(self, wrt, degree=1):\n",
    "        super().__init__('derivative')\n",
    "        self.wrt, self.degree = makeVar(wrt, degree)\n",
    "    def build(self):\n",
    "        degree = self.degree.name\n",
    "        deg = ('^{' + makeVar(self.degree).build()) + '}' if degree != '1' else ''\n",
    "        wrt = pow(self.wrt, self.degree).build() if degree != '1' else self.wrt.build()\n",
    "        return r\"\\frac{d\" + deg + \"}{d\" + \" \" + wrt + \"}\"\n",
    "\n",
    "def makeDerivative(*args):\n",
    "    return varArgFunc(lambda arg: (Derivative(*arg) if not isinstance(arg, Derivative) \n",
    "                                   else arg), *args)"
   ]
  },
  {
   "cell_type": "code",
   "execution_count": 6,
   "metadata": {},
   "outputs": [
    {
     "data": {
      "text/latex": [
       "\\begin{gather*}\\frac{\\partial ^{2}}{\\partial  (x^2 + x + 1)^2}\\end{gather*}"
      ],
      "text/plain": [
       "<IPython.core.display.Latex object>"
      ]
     },
     "execution_count": 6,
     "metadata": {},
     "output_type": "execute_result"
    }
   ],
   "source": [
    "x = Var('x')\n",
    "f = pow(x,2) + x + 1 \n",
    "da = Partial(f,2)\n",
    "latex(da)"
   ]
  },
  {
   "cell_type": "code",
   "execution_count": 7,
   "metadata": {},
   "outputs": [],
   "source": [
    "from pytex.platforms.jupyter import latex"
   ]
  },
  {
   "cell_type": "code",
   "execution_count": 8,
   "metadata": {},
   "outputs": [
    {
     "data": {
      "text/latex": [
       "\\begin{gather*}\\begin{bmatrix} \\vec{\\mathbf{\\pi}}^2 &  \\vec{\\mathbf{\\pi}} \\\\ \\frac{\\partial }{\\partial  \\vec{\\mathbf{\\pi}}}\\hspace{1mm}\\vec{\\mathbf{\\pi}}^2 + \\vec{\\mathbf{\\pi}} + 1 &  1 \\end{bmatrix} = f(\\vec{\\mathbf{\\pi}})\\end{gather*}"
      ],
      "text/plain": [
       "<IPython.core.display.Latex object>"
      ]
     },
     "execution_count": 8,
     "metadata": {},
     "output_type": "execute_result"
    }
   ],
   "source": [
    "from pytex.Variable import  Var,   makeVar \n",
    "from pytex.Matrix import Matrix\n",
    "from pytex.Vector import makeVector, Vector\n",
    "from pytex.Greek import Greek as G\n",
    "\n",
    "f, o, t = makeVar( 'f', 1, 2)\n",
    "v = makeVector(G.pi)\n",
    "delp = makePartial((v,))\n",
    "latex(f(v) == Matrix([[pow(v,2), v], [delp | pow(v,2)+v+1, 1]]))"
   ]
  },
  {
   "cell_type": "code",
   "execution_count": 9,
   "metadata": {},
   "outputs": [
    {
     "data": {
      "text/plain": [
       "True"
      ]
     },
     "execution_count": 9,
     "metadata": {},
     "output_type": "execute_result"
    }
   ],
   "source": [
    "v = Vector('v')\n",
    "isinstance(v, Var)"
   ]
  },
  {
   "cell_type": "code",
   "execution_count": 10,
   "metadata": {},
   "outputs": [
    {
     "data": {
      "text/latex": [
       "\\begin{gather*}\\frac{d}{d x}\\hspace{1mm}f(x)\\hspace{1mm}\\frac{d^{2}}{d y^2}\\end{gather*}"
      ],
      "text/plain": [
       "<IPython.core.display.Latex object>"
      ]
     },
     "execution_count": 10,
     "metadata": {},
     "output_type": "execute_result"
    }
   ],
   "source": [
    "px, py = makeDerivative((Var('x'),), ('y',2))\n",
    "latex(px | 'f(x)' | py)"
   ]
  },
  {
   "cell_type": "code",
   "execution_count": 11,
   "metadata": {},
   "outputs": [
    {
     "data": {
      "text/latex": [
       "\\begin{gather*}\\frac{d}{d x}(\\frac{d^{2}}{d (x^2 + 1)^2}\\hspace{1mm}f(x,s))\\end{gather*}"
      ],
      "text/plain": [
       "<IPython.core.display.Latex object>"
      ]
     },
     "execution_count": 11,
     "metadata": {},
     "output_type": "execute_result"
    }
   ],
   "source": [
    "f,x,s = makeVar('f', 'x', 's')\n",
    "derx, ders = Derivative('x',1), Derivative('s',2)\n",
    "df = makeDerivative((x**2 + 1,2))\n",
    "dx = makeDerivative((x,1))\n",
    "m1 = dx(df | f(x,s))\n",
    "latex(m1)"
   ]
  },
  {
   "cell_type": "code",
   "execution_count": 12,
   "metadata": {},
   "outputs": [
    {
     "data": {
      "text/latex": [
       "\\begin{gather*}\\frac{x}{s}\\end{gather*}"
      ],
      "text/plain": [
       "<IPython.core.display.Latex object>"
      ]
     },
     "execution_count": 12,
     "metadata": {},
     "output_type": "execute_result"
    }
   ],
   "source": [
    "latex(x/s)"
   ]
  },
  {
   "cell_type": "code",
   "execution_count": 13,
   "metadata": {},
   "outputs": [
    {
     "data": {
      "text/latex": [
       "\\begin{gather*}(\\frac{x}{s})^2\\end{gather*}"
      ],
      "text/plain": [
       "<IPython.core.display.Latex object>"
      ]
     },
     "execution_count": 13,
     "metadata": {},
     "output_type": "execute_result"
    }
   ],
   "source": [
    "latex(((x/s)**2))"
   ]
  },
  {
   "cell_type": "code",
   "execution_count": 15,
   "metadata": {},
   "outputs": [],
   "source": [
    "from pytex.Matrix import MatrixWithDots\n",
    "a = Var('a')\n",
    "a,b,c,d,e,g = makeVar('a','bb','c','d','e','g')\n",
    "m = MatrixWithDots([[1,2,3,4], [1,2]], (5,7))"
   ]
  },
  {
   "cell_type": "code",
   "execution_count": 17,
   "metadata": {},
   "outputs": [
    {
     "data": {
      "text/latex": [
       "\\begin{gather*}\\begin{bmatrix} 1 &  2 &  3 &  \\cdots &  \\cdots &  \\cdots &  4 \\\\ \\vdots &  \\vdots &  \\vdots &  \\vdots &  \\vdots &  \\vdots &  \\vdots \\\\ \\vdots &  \\vdots &  \\vdots &  \\vdots &  \\vdots &  \\vdots &  \\vdots \\\\ \\vdots &  \\vdots &  \\vdots &  \\vdots &  \\vdots &  \\ddots &  \\vdots \\\\ 1 &  \\cdots &  \\cdots &  \\cdots &  \\cdots &  \\cdots &  2 \\end{bmatrix}\\end{gather*}"
      ],
      "text/plain": [
       "<IPython.core.display.Latex object>"
      ]
     },
     "execution_count": 17,
     "metadata": {},
     "output_type": "execute_result"
    }
   ],
   "source": [
    "latex(m)"
   ]
  },
  {
   "cell_type": "code",
   "execution_count": 18,
   "metadata": {},
   "outputs": [
    {
     "data": {
      "text/latex": [
       "\\begin{gather*}a + aa\\end{gather*}"
      ],
      "text/plain": [
       "<IPython.core.display.Latex object>"
      ]
     },
     "execution_count": 18,
     "metadata": {},
     "output_type": "execute_result"
    }
   ],
   "source": [
    "latex(a + 'a' * 2)"
   ]
  },
  {
   "cell_type": "code",
   "execution_count": 21,
   "metadata": {},
   "outputs": [
    {
     "name": "stdout",
     "output_type": "stream",
     "text": [
      "Converted /home/default/Documents/py-latex/pytex/notebooks/Function.ipynb to /home/default/Documents/py-latex/pytex/pytex/Function.py\r\n"
     ]
    }
   ],
   "source": [
    "! ./notebook2script.py ./Function.ipynb"
   ]
  }
 ],
 "metadata": {
  "kernelspec": {
   "display_name": "Python 3",
   "language": "python",
   "name": "python3"
  },
  "language_info": {
   "codemirror_mode": {
    "name": "ipython",
    "version": 3
   },
   "file_extension": ".py",
   "mimetype": "text/x-python",
   "name": "python",
   "nbconvert_exporter": "python",
   "pygments_lexer": "ipython3",
   "version": "3.8.3"
  }
 },
 "nbformat": 4,
 "nbformat_minor": 4
}
