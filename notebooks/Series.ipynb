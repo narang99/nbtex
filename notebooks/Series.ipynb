{
 "cells": [
  {
   "cell_type": "code",
   "execution_count": 7,
   "metadata": {},
   "outputs": [],
   "source": [
    "from pytex.core.Ast import Var, makeVar\n",
    "import pytex.core.Operator as Operator\n",
    "from pytex.LatexInterface.LatexFormatters import LatexSeriesFormatter\n",
    "\n",
    "def Summation(function, wrt, lower, upper):\n",
    "    return Var.operation(Operator.Summation, function, wrt, lower, upper)\n",
    "def Product(function, wrt, lower, upper):\n",
    "    return Var.operation(Operator.Product, function, wrt, lower, upper)"
   ]
  },
  {
   "cell_type": "code",
   "execution_count": 13,
   "metadata": {},
   "outputs": [
    {
     "data": {
      "text/latex": [
       "\\begin{gather*}\\sum_{x=1}^{n} {f(x+1)}\\end{gather*}"
      ],
      "text/plain": [
       "<IPython.core.display.Latex object>"
      ]
     },
     "execution_count": 13,
     "metadata": {},
     "output_type": "execute_result"
    }
   ],
   "source": [
    "from pytex.platforms.jupyter import latex\n",
    "latex(~Sum('f(x+1)', 'x', 1, 'n'))"
   ]
  },
  {
   "cell_type": "code",
   "execution_count": 12,
   "metadata": {},
   "outputs": [
    {
     "data": {
      "text/latex": [
       "\\begin{gather*}\\prod_{x=1}^{n} {f(x+1)}\\end{gather*}"
      ],
      "text/plain": [
       "<IPython.core.display.Latex object>"
      ]
     },
     "execution_count": 12,
     "metadata": {},
     "output_type": "execute_result"
    }
   ],
   "source": [
    "latex(Product('f(x+1)', 'x', 1, 'n'))"
   ]
  },
  {
   "cell_type": "code",
   "execution_count": 14,
   "metadata": {},
   "outputs": [
    {
     "name": "stdout",
     "output_type": "stream",
     "text": [
      "Converted /home/default/Documents/py-latex/pytex/notebooks/Series.ipynb to /home/default/Documents/py-latex/pytex/pytex/Series.py\r\n"
     ]
    }
   ],
   "source": [
    "! python3 ./notebook2script.py Series.ipynb"
   ]
  },
  {
   "cell_type": "code",
   "execution_count": 3,
   "metadata": {},
   "outputs": [
    {
     "data": {
      "text/plain": [
       "5"
      ]
     },
     "execution_count": 3,
     "metadata": {},
     "output_type": "execute_result"
    }
   ],
   "source": [
    "bop.precedence"
   ]
  }
 ],
 "metadata": {
  "kernelspec": {
   "display_name": "Python 3",
   "language": "python",
   "name": "python3"
  },
  "language_info": {
   "codemirror_mode": {
    "name": "ipython",
    "version": 3
   },
   "file_extension": ".py",
   "mimetype": "text/x-python",
   "name": "python",
   "nbconvert_exporter": "python",
   "pygments_lexer": "ipython3",
   "version": "3.8.3"
  }
 },
 "nbformat": 4,
 "nbformat_minor": 4
}
