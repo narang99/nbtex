{
 "cells": [
  {
   "cell_type": "code",
   "execution_count": null,
   "metadata": {},
   "outputs": [],
   "source": [
    "#export\n",
    "from exp.Variables import *"
   ]
  },
  {
   "cell_type": "code",
   "execution_count": null,
   "metadata": {},
   "outputs": [],
   "source": [
    "#export\n",
    "class PLSymbol(Var):\n",
    "    def __init__(self, name, latex):\n",
    "        super().__init__(name)\n",
    "        self.latex = makeVar(latex)\n",
    "    def build(self):\n",
    "        return self.latex.build()"
   ]
  },
  {
   "cell_type": "code",
   "execution_count": null,
   "metadata": {},
   "outputs": [],
   "source": [
    "#export\n",
    "class PLSymbols():\n",
    "    def __init__(self):\n",
    "        pass\n",
    "    @property\n",
    "    def pi(self):\n",
    "        return PLSymbol('pi', r'\\pi')\n",
    "    @property\n",
    "    def Pi(self):\n",
    "        return PLSymbol('Pi', r'\\Pi')    \n",
    "    @property\n",
    "    def alpha(self):\n",
    "        return PLSymbol('alpha', r'\\alpha')\n",
    "    @property\n",
    "    def Alpha(self):\n",
    "        return PLSymbol('Alpha', r'\\Alpha')\n",
    "    @property\n",
    "    def beta(self):\n",
    "        return PLSymbol('beta', r'\\beta')\n",
    "    @property\n",
    "    def Beta(self):\n",
    "        return PLSymbol('Beta', r'\\Beta')\n",
    "    @property\n",
    "    def gamma(self):\n",
    "        return PLSymbol('gamma', r'\\gamma')\n",
    "    @property\n",
    "    def delta(self):\n",
    "        return PLSymbol('delta', r'\\delta')\n",
    "    @property\n",
    "    def Delta(self):\n",
    "        return PLSymbol('Delta', r'\\Delta')\n",
    "    @property\n",
    "    def epsilon(self):\n",
    "        return PLSymbol('epsilon', r'\\epsilon')\n",
    "    @property\n",
    "    def zeta(self):\n",
    "        return PLSymbol('zeta', r'\\zeta')\n",
    "    @property\n",
    "    def varepsilon(self):\n",
    "        return PLSymbol('varepsilon', r'\\varepsilon')\n",
    "    @property\n",
    "    def eta(self):\n",
    "        return PLSymbol('eta', r'\\eta')\n",
    "    @property\n",
    "    def theta(self):\n",
    "        return PLSymbol('theta', r'\\theta')\n",
    "    @property\n",
    "    def vartheta(self):\n",
    "        return PLSymbol('vartheta', r'\\vartheta')\n",
    "    @property\n",
    "    def Theta(self):\n",
    "        return PLSymbol('Theta', r'\\Theta')\n",
    "    @property\n",
    "    def iota(self):\n",
    "        return PLSymbol('iota', r'\\iota')\n",
    "    @property\n",
    "    def kappa(self):\n",
    "        return PLSymbol('kappa', r'\\kappa')\n",
    "    @property\n",
    "    def lambd(self):\n",
    "        return PLSymbol('lambd', r'\\lambda')\n",
    "    @property\n",
    "    def Lambd(self):\n",
    "        return PLSymbol('Lambd', r'\\Lambda')\n",
    "    @property\n",
    "    def mu(self):\n",
    "        return PLSymbol('mu', r'\\mu')"
   ]
  },
  {
   "cell_type": "code",
   "execution_count": null,
   "metadata": {},
   "outputs": [],
   "source": [
    "pls = PLSymbols()\n",
    "wrap((pls.pi / pls.lambd)('hel'))"
   ]
  },
  {
   "cell_type": "code",
   "execution_count": null,
   "metadata": {},
   "outputs": [],
   "source": [
    "def makeSymDefs(syms):\n",
    "    for sym in syms:\n",
    "        name, latex = sym\n",
    "        s = (f\"\"\"@property\n",
    "def {name}(self):\n",
    "    return PLSymbol(r'{name}', r'{latex}')\"\"\")\n",
    "        print(s)"
   ]
  },
  {
   "cell_type": "code",
   "execution_count": null,
   "metadata": {},
   "outputs": [],
   "source": [
    "syms = [\n",
    "    ('alpha', r'\\alpha'),\n",
    "    ('Alpha', r'\\Alpha'),\n",
    "    ('beta', r'\\beta'),\n",
    "    ('Beta', r'\\Beta'),\n",
    "    ('gamma', r'\\gamma'),\n",
    "    ('delta', r'\\delta'),\n",
    "    ('Delta', r'\\Delta'),\n",
    "    ('epsilon', r'\\epsilon'),\n",
    "    ('zeta', r'\\zeta'),\n",
    "    ('varepsilon', r'\\varepsilon'),\n",
    "    ('eta', r'\\eta'),\n",
    "    ('theta', r'\\theta'),\n",
    "    ('vartheta', r'\\vartheta'),\n",
    "    ('Theta', r'\\Theta'),\n",
    "    ('iota', r'\\iota'),\n",
    "    ('kappa', r'\\kappa'),\n",
    "    ('lambd', r'lambda'),\n",
    "    ('Lambd', r'\\Lambda'),\n",
    "    ('mu', r'\\mu'),\n",
    "]"
   ]
  },
  {
   "cell_type": "code",
   "execution_count": null,
   "metadata": {},
   "outputs": [],
   "source": [
    "! python3 ./notebook2script.py Symbols.ipynb"
   ]
  }
 ],
 "metadata": {
  "kernelspec": {
   "display_name": "Python 3",
   "language": "python",
   "name": "python3"
  },
  "language_info": {
   "codemirror_mode": {
    "name": "ipython",
    "version": 3
   },
   "file_extension": ".py",
   "mimetype": "text/x-python",
   "name": "python",
   "nbconvert_exporter": "python",
   "pygments_lexer": "ipython3",
   "version": "3.8.3"
  }
 },
 "nbformat": 4,
 "nbformat_minor": 4
}
